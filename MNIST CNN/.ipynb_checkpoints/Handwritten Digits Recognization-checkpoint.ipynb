{
 "cells": [
  {
   "cell_type": "code",
   "execution_count": 5,
   "metadata": {},
   "outputs": [],
   "source": [
    "import torch\n",
    "import torch.nn as nn\n",
    "import torch.nn.functional as F\n",
    "import torch.utils.data as data\n",
    "import numpy as np\n",
    "from torch.autograd import Variable\n",
    "import torchvision\n",
    "from torchvision import datasets, transforms\n",
    "import pandas as pd \n",
    "import matplotlib.pyplot as plt\n",
    "import cv2 \n",
    "import os\n",
    "from tqdm import tqdm\n",
    "import csv"
   ]
  },
  {
   "cell_type": "code",
   "execution_count": 7,
   "metadata": {},
   "outputs": [
    {
     "name": "stdout",
     "output_type": "stream",
     "text": [
      "cuda:0\n"
     ]
    }
   ],
   "source": [
    "device =  torch.device(\"cuda: 0\") if torch.cuda.is_available() else torch.device(\"cpu\")\n",
    "print(device)"
   ]
  },
  {
   "cell_type": "code",
   "execution_count": 9,
   "metadata": {},
   "outputs": [],
   "source": [
    "PROCESS_DATA = 1  #Turn off\n",
    "TRAINING_DATA = 1"
   ]
  },
  {
   "cell_type": "code",
   "execution_count": 16,
   "metadata": {},
   "outputs": [],
   "source": [
    "#Inititate constants\n",
    "BATCH_SIZE = 1024\n",
    "IMG_SIZE = 28\n",
    "TRAINING_SAMPLES = 48000\n",
    "VAL_SAMPLES = 12000"
   ]
  },
  {
   "cell_type": "code",
   "execution_count": 17,
   "metadata": {},
   "outputs": [],
   "source": [
    "#Data Augmentation for normalizing data\n",
    "data_transforms = transforms.Compose([\n",
    "        transforms.ToTensor(),\n",
    "        transforms.Normalize([0.5], [0.5])\n",
    "        ])"
   ]
  },
  {
   "cell_type": "code",
   "execution_count": 18,
   "metadata": {},
   "outputs": [],
   "source": [
    "if PROCESS_DATA:\n",
    "    dataset = datasets.MNIST(\"data\",train=True, transform = data_transforms, download = True)\n",
    "    trainset, valset = data.random_split(dataset, [TRAINING_SAMPLES, VAL_SAMPLES])\n",
    "    trainloader = data.DataLoader(trainset, batch_size=BATCH_SIZE, num_workers=4, shuffle=True)\n",
    "    valloader = data.DataLoader(valset, batch_size=BATCH_SIZE, num_workers=4)\n",
    "    "
   ]
  },
  {
   "cell_type": "code",
   "execution_count": 19,
   "metadata": {},
   "outputs": [
    {
     "name": "stdout",
     "output_type": "stream",
     "text": [
      "60000\n"
     ]
    }
   ],
   "source": [
    "#Show training data size\n",
    "print(len(dataset))"
   ]
  },
  {
   "cell_type": "code",
   "execution_count": 20,
   "metadata": {},
   "outputs": [
    {
     "name": "stdout",
     "output_type": "stream",
     "text": [
      "['0 - zero', '1 - one', '2 - two', '3 - three', '4 - four', '5 - five', '6 - six', '7 - seven', '8 - eight', '9 - nine']\n"
     ]
    }
   ],
   "source": [
    "#Show training labels\n",
    "print(dataset.classes)"
   ]
  },
  {
   "cell_type": "code",
   "execution_count": 28,
   "metadata": {},
   "outputs": [
    {
     "data": {
      "image/png": "[encoded data removed]",
      "text/plain": [
       "<Figure size 720x720 with 1 Axes>"
      ]
     },
     "metadata": {
      "needs_background": "light"
     },
     "output_type": "display_data"
    }
   ],
   "source": [
    "#Visualize some data samples\n",
    "def visualize_samples(NUM_PIC=16):\n",
    "    a = np.random.randint(1000)\n",
    "    fig = plt.figure(figsize=(10,10))\n",
    "    img = next(iter(trainloader))\n",
    "    plt.axis(\"off\")\n",
    "    plt.title(\"Training Images\")\n",
    "    plt.imshow(np.transpose(torchvision.utils.make_grid(img[0][a:a+NUM_PIC],padding=2, normalize=True),(1,2,0)))\n",
    "    plt.show()\n",
    "\n",
    "visualize_samples(16)\n",
    "    "
   ]
  },
  {
   "cell_type": "code",
   "execution_count": 30,
   "metadata": {},
   "outputs": [],
   "source": [
    "#Create CNN model\n",
    "\n",
    "class CNN(nn.Module):\n",
    "    def __init__(self):\n",
    "        super(CNN, self).__init__()\n",
    "        self.conv1 = nn.Conv2d(in_channels = 1, out_channels = 32, kernel_size = 3, padding= 1, stride= 1)\n",
    "        self.conv2 = nn.Conv2d(in_channels = 32, out_channels = 64, kernel_size = 3, padding= 1, stride= 1)\n",
    "        self.max_pool2d = nn.MaxPool2d(kernel_size = 2,stride = 2)\n",
    "        self.fc1 = nn.Linear(3136,256)\n",
    "        self.fc2 = nn.Linear(256,10)\n",
    "        self.dropout = nn.Dropout(p=0.5)\n",
    "        self.relu = torch.nn.ReLU()\n",
    "    def forward(self,x):\n",
    "        x = self.conv1(x)\n",
    "        x = self.relu(x)\n",
    "        x = self.max_pool2d(x)\n",
    "        x = self.conv2(x)\n",
    "        x = self.relu(x)\n",
    "        x = self.max_pool2d(x)\n",
    "        x = x.reshape(x.size(0), -1)    #Flatten image\n",
    "        x = self.fc1(x)\n",
    "        x = self.relu(x)\n",
    "        x = self.dropout(x)\n",
    "        x = self.fc2(x)\n",
    "        return x\n",
    "\n",
    "            "
   ]
  },
  {
   "cell_type": "code",
   "execution_count": 31,
   "metadata": {},
   "outputs": [],
   "source": [
    "#Forward Propagation for both training and validation\n",
    "def forwardprop(model, error, optimizer, trainloader, valloader=None, training = False):\n",
    "    correct = 0\n",
    "    total = 0\n",
    "    total_loss = 0\n",
    "    if training:\n",
    "        model.train()\n",
    "    else:\n",
    "        model.eval()\n",
    "    for (train, labels) in trainloader:\n",
    "        train = train.to(device)\n",
    "        labels = labels.to(device)\n",
    "        if training:\n",
    "            optimizer.zero_grad()\n",
    "        outputs = model(train)\n",
    "        predicted = torch.max(outputs.data, 1)[1]\n",
    "        loss = error(outputs, labels)\n",
    "        if training:\n",
    "            loss.backward()\n",
    "            optimizer.step()\n",
    "        else:\n",
    "            correct += (predicted==labels).sum()\n",
    "        total += len(labels)\n",
    "        total_loss += loss.data\n",
    "    if training:\n",
    "        with torch.no_grad():\n",
    "            val_acc, val_loss = forwardprop(model = model, error = error, optimizer = optimizer, trainloader = valloader)\n",
    "    else:\n",
    "        accuracy = correct*1.0/total\n",
    "\n",
    "    if training:    \n",
    "        return total_loss, val_acc, val_loss\n",
    "    else:\n",
    "        return accuracy, total_loss"
   ]
  },
  {
   "cell_type": "code",
   "execution_count": 32,
   "metadata": {},
   "outputs": [],
   "source": [
    "#Plot loss curve\n",
    "def plot(train_loss_list, val_loss_list, val_acc_list, EPOCH):\n",
    "    fig = plt.figure(figsize=(15,5))\n",
    "    fig.add_subplot(1,2,1)\n",
    "    plt.plot(range(EPOCH),train_loss_list)\n",
    "    plt.plot(range(EPOCH),val_loss_list)\n",
    "    plt.title(\"Loss per epoch\")\n",
    "    fig.add_subplot(1,2,2)\n",
    "    plt.plot(range(EPOCH),val_acc_list)\n",
    "    plt.title(\"Validation Accuracy\")\n",
    "    plt.show()"
   ]
  },
  {
   "cell_type": "code",
   "execution_count": 33,
   "metadata": {},
   "outputs": [],
   "source": [
    "#Training process\n",
    "def train(model, error, optimizer, trainloader, valloader):\n",
    "    EPOCHS = 10\n",
    "    train_loss_list = []\n",
    "    val_loss_list = []\n",
    "    val_acc_list = []\n",
    "    print(\"Start training process....\")\n",
    "    for epoch in range(EPOCHS):\n",
    "        train_loss, val_acc, val_loss = forwardprop(model,error,optimizer,trainloader,valloader,True)\n",
    "        train_loss_list.append(train_loss)\n",
    "        val_loss_list.append(val_loss)\n",
    "        val_acc_list.append(val_acc)\n",
    "        print(\"Epoch: ({}/{}) | Training Loss: {:.2f} | Validation Loss: {:.2f} | Validation Accuracy: {:.2f}\".format(epoch+1,EPOCHS,train_loss,val_loss,val_acc))\n",
    "    #Save model\n",
    "    torch.save(model.state_dict(), \"model/model1.pth\")\n",
    "    print(\"Training Completed! Model has been saved\")\n",
    "    #Plot loss\n",
    "    print(\"Ploting loss...\")\n",
    "    plot(train_loss_list,val_loss_list,val_acc_list,EPOCHS)\n",
    "    return model"
   ]
  },
  {
   "cell_type": "code",
   "execution_count": 34,
   "metadata": {},
   "outputs": [
    {
     "name": "stdout",
     "output_type": "stream",
     "text": [
      "Start training process....\n",
      "Epoch: (1/10) | Training Loss: 89.05 | Validation Loss: 15.10 | Validation Accuracy: 0.77\n",
      "Epoch: (2/10) | Training Loss: 42.97 | Validation Loss: 6.46 | Validation Accuracy: 0.87\n",
      "Epoch: (3/10) | Training Loss: 24.38 | Validation Loss: 4.17 | Validation Accuracy: 0.91\n",
      "Epoch: (4/10) | Training Loss: 17.87 | Validation Loss: 3.19 | Validation Accuracy: 0.93\n",
      "Epoch: (5/10) | Training Loss: 14.50 | Validation Loss: 2.62 | Validation Accuracy: 0.94\n",
      "Epoch: (6/10) | Training Loss: 12.10 | Validation Loss: 2.22 | Validation Accuracy: 0.95\n",
      "Epoch: (7/10) | Training Loss: 10.45 | Validation Loss: 1.94 | Validation Accuracy: 0.95\n",
      "Epoch: (8/10) | Training Loss: 9.26 | Validation Loss: 1.72 | Validation Accuracy: 0.96\n",
      "Epoch: (9/10) | Training Loss: 8.26 | Validation Loss: 1.54 | Validation Accuracy: 0.96\n",
      "Epoch: (10/10) | Training Loss: 7.47 | Validation Loss: 1.44 | Validation Accuracy: 0.96\n",
      "Training Completed! Model has been saved\n",
      "Ploting loss...\n"
     ]
    },
    {
     "data": {
      "image/png": "[encoded data removed]",
      "text/plain": [
       "<Figure size 1080x360 with 2 Axes>"
      ]
     },
     "metadata": {
      "needs_background": "light"
     },
     "output_type": "display_data"
    }
   ],
   "source": [
    "#Training Inititate\n",
    "model = CNN()\n",
    "model = model.to(device)\n",
    "if TRAINING_DATA:\n",
    "    error = nn.CrossEntropyLoss()\n",
    "    optimizer = torch.optim.Adam(model.parameters(), lr = 1e-4)\n",
    "    model = train(model,error,optimizer,trainloader,valloader)\n",
    "else:\n",
    "    model.load_state_dict(torch.load(\"model/model1.pth\"))"
   ]
  },
  {
   "cell_type": "code",
   "execution_count": 56,
   "metadata": {},
   "outputs": [],
   "source": [
    "#Predict input images\n",
    "def predict(model, images):\n",
    "    model.eval()\n",
    "    with torch.no_grad():\n",
    "        test = Variable(images).view(-1,1,IMG_SIZE,IMG_SIZE)\n",
    "        test = test.to(device)\n",
    "        outputs = model(test)\n",
    "        prediction = outputs.data\n",
    "        prediction = torch.max(outputs.data, 1)[1]\n",
    "    return prediction.cpu().numpy()[0]"
   ]
  },
  {
   "cell_type": "code",
   "execution_count": 112,
   "metadata": {},
   "outputs": [],
   "source": [
    "#Predict and visualize some test images\n",
    "def visualize_model(model,NUM_PIC=16):\n",
    "    testset = datasets.MNIST(\"data\",train=False, transform = data_transforms, download = False)\n",
    "    a = np.random.randint(100)\n",
    "    fig = plt.figure(figsize=(10,3))\n",
    "    for i in range(a,a+NUM_PIC):\n",
    "        test_img,_ = testset[i]\n",
    "        result = predict(model,test_img)\n",
    "        fig.add_subplot(2,NUM_PIC/2,i-a+1)\n",
    "        img = test_img.numpy().transpose((1, 2, 0))\n",
    "        img = img.squeeze()\n",
    "        plt.imshow(img, cmap=\"gray\")\n",
    "        plt.axis(\"off\")\n",
    "        plt.title(result)\n",
    "    plt.show()"
   ]
  },
  {
   "cell_type": "code",
   "execution_count": 113,
   "metadata": {},
   "outputs": [
    {
     "data": {
      "image/png": "[encoded data removed]",
      "text/plain": [
       "<Figure size 720x216 with 16 Axes>"
      ]
     },
     "metadata": {
      "needs_background": "light"
     },
     "output_type": "display_data"
    }
   ],
   "source": [
    "#Visualize test images\n",
    "visualize_model(model)"
   ]
  }
 ],
 "metadata": {
  "kernelspec": {
   "display_name": "Python 3",
   "language": "python",
   "name": "python3"
  },
  "language_info": {
   "codemirror_mode": {
    "name": "ipython",
    "version": 3
   },
   "file_extension": ".py",
   "mimetype": "text/x-python",
   "name": "python",
   "nbconvert_exporter": "python",
   "pygments_lexer": "ipython3",
   "version": "3.7.4"
  }
 },
 "nbformat": 4,
 "nbformat_minor": 2
}
