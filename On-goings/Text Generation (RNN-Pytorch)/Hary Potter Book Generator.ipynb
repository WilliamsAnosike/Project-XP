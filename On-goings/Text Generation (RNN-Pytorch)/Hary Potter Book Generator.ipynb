{
 "cells": [
  {
   "cell_type": "code",
   "execution_count": 2,
   "metadata": {
    "ExecuteTime": {
     "end_time": "2020-04-20T13:18:34.091353Z",
     "start_time": "2020-04-20T13:18:29.558976Z"
    }
   },
   "outputs": [],
   "source": [
    "import torch\n",
    "import torch.utils.data as data\n",
    "import torch.nn as nn\n",
    "import torchtext\n",
    "from torch.autograd import Variable\n",
    "import torchvision\n",
    "from torchvision import transforms, models\n",
    "import torch.nn.functional as F\n",
    "\n",
    "from tqdm.notebook import tqdm\n",
    "import numpy as np\n",
    "import matplotlib.pyplot as plt\n",
    "import json\n",
    "import pandas as pd\n",
    "from PIL import Image\n",
    "import os\n",
    "import string"
   ]
  },
  {
   "cell_type": "code",
   "execution_count": 5,
   "metadata": {
    "ExecuteTime": {
     "end_time": "2020-04-05T14:25:00.702417Z",
     "start_time": "2020-04-05T14:25:00.674492Z"
    }
   },
   "outputs": [],
   "source": [
    "device = torch.device(\"cuda: 0\" if torch.cuda.is_available() else \"cpu\")\n",
    "print(device)"
   ]
  },
  {
   "cell_type": "code",
   "execution_count": 3,
   "metadata": {
    "ExecuteTime": {
     "end_time": "2020-04-20T13:19:27.195970Z",
     "start_time": "2020-04-20T13:19:27.192024Z"
    }
   },
   "outputs": [],
   "source": [
    "DATA_DIR = {\n",
    "    \"harry-potter\": { 1: \"data/Harry Potter/book1.txt\",\n",
    "                    2: \"data/Harry Potter/book2.txt\",\n",
    "                    3: \"data/Harry Potter/book2.txt\",\n",
    "                    4: \"data/Harry Potter/book2.txt\",\n",
    "                    5: \"data/Harry Potter/book2.txt\",\n",
    "                    6: \"data/Harry Potter/book2.txt\",\n",
    "                    7: \"data/Harry Potter/book2.txt\"}\n",
    "}"
   ]
  },
  {
   "cell_type": "code",
   "execution_count": 6,
   "metadata": {
    "ExecuteTime": {
     "end_time": "2020-04-20T13:21:28.301380Z",
     "start_time": "2020-04-20T13:21:28.289413Z"
    }
   },
   "outputs": [
    {
     "name": "stdout",
     "output_type": "stream",
     "text": [
      "79020\n"
     ]
    }
   ],
   "source": [
    "with open(DATA_DIR[\"harry-potter\"][1], \"r\", encoding=\"utf8\") as f:\n",
    "    data = f.read()\n",
    "words = data.split()\n",
    "print(len(words))"
   ]
  },
  {
   "cell_type": "code",
   "execution_count": null,
   "metadata": {},
   "outputs": [],
   "source": [
    "def mytokenizer(sentence):\n",
    "    tokens = str.split(sentence)\n",
    "    tokens = tokens[:INPUT_MAX_SIZE-2]\n",
    "    return tokens\n",
    "\n",
    "init_token_idx = \"<start>\"\n",
    "eos_token_idx = \"<end>\"\n",
    "\n",
    "TEXT = torchtext.data.Field(batch_first=True,\n",
    "                            tokenize=mytokenizer,\n",
    "                            init_token = init_token_idx,\n",
    "                            eos_token = eos_token_idx)\n",
    "\n",
    "FIELDS = {\n",
    "    \"train\": [[\"text\", TEXT]],\n",
    "    \"val\": [[\"text\", TEXT]]\n",
    "}"
   ]
  },
  {
   "cell_type": "code",
   "execution_count": null,
   "metadata": {},
   "outputs": [],
   "source": [
    "data.Dataset."
   ]
  }
 ],
 "metadata": {
  "kernelspec": {
   "display_name": "nlp",
   "language": "python",
   "name": "nlp"
  },
  "language_info": {
   "codemirror_mode": {
    "name": "ipython",
    "version": 3
   },
   "file_extension": ".py",
   "mimetype": "text/x-python",
   "name": "python",
   "nbconvert_exporter": "python",
   "pygments_lexer": "ipython3",
   "version": "3.7.6"
  }
 },
 "nbformat": 4,
 "nbformat_minor": 2
}
