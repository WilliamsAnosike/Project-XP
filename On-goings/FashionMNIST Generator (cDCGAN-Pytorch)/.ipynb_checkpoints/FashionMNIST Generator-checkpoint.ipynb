{
 "cells": [
  {
   "cell_type": "code",
   "execution_count": 140,
   "metadata": {},
   "outputs": [],
   "source": [
    "import torch\n",
    "import torchvision\n",
    "from torchvision import datasets, transforms, models\n",
    "import torch.nn as nn\n",
    "import torch.utils.data as data\n",
    "from torch.autograd import Variable\n",
    "import numpy as np \n",
    "import matplotlib.pyplot as plt\n",
    "import functions as f\n",
    "from PIL import Image"
   ]
  },
  {
   "cell_type": "code",
   "execution_count": 141,
   "metadata": {},
   "outputs": [
    {
     "name": "stdout",
     "output_type": "stream",
     "text": [
      "cuda:0\n"
     ]
    }
   ],
   "source": [
    "device = torch.device(\"cuda: 0\") if torch.cuda.is_available() else torch.device(\"cpu\")\n",
    "print(device)"
   ]
  },
  {
   "cell_type": "code",
   "execution_count": 142,
   "metadata": {},
   "outputs": [],
   "source": [
    "#Inititate constants\n",
    "PROCESS_DATA = 1 #Change to 1 when training\n",
    "TRAINING_DATA = 1 #Change to 1 if want model to be trained again"
   ]
  },
  {
   "cell_type": "code",
   "execution_count": 143,
   "metadata": {},
   "outputs": [],
   "source": [
    "#Inititate constants\n",
    "BATCH_SIZE = 64\n",
    "IMG_SIZE = 28"
   ]
  },
  {
   "cell_type": "code",
   "execution_count": 144,
   "metadata": {},
   "outputs": [],
   "source": [
    "data_transform = transforms.Compose([\n",
    "    transforms.Resize(IMG_SIZE),\n",
    "    transforms.ToTensor(),\n",
    "    transforms.Normalize([0.5], [0.5]),\n",
    "])"
   ]
  },
  {
   "cell_type": "code",
   "execution_count": 145,
   "metadata": {},
   "outputs": [],
   "source": [
    "if PROCESS_DATA:\n",
    "    dataset = datasets.FashionMNIST(\"data\",train = True,transform=data_transform,download = True)\n",
    "    trainloader = data.DataLoader(dataset, batch_size=BATCH_SIZE, num_workers = 4, shuffle = True)"
   ]
  },
  {
   "cell_type": "code",
   "execution_count": 146,
   "metadata": {},
   "outputs": [
    {
     "name": "stdout",
     "output_type": "stream",
     "text": [
      "60000\n"
     ]
    }
   ],
   "source": [
    "#Show training data size\n",
    "print(len(dataset))"
   ]
  },
  {
   "cell_type": "code",
   "execution_count": 147,
   "metadata": {
    "scrolled": true
   },
   "outputs": [
    {
     "name": "stdout",
     "output_type": "stream",
     "text": [
      "['T-shirt/top', 'Trouser', 'Pullover', 'Dress', 'Coat', 'Sandal', 'Shirt', 'Sneaker', 'Bag', 'Ankle boot']\n"
     ]
    }
   ],
   "source": [
    "#Show training labels\n",
    "CLASSES = dataset.classes\n",
    "print(CLASSES)"
   ]
  },
  {
   "cell_type": "code",
   "execution_count": 148,
   "metadata": {
    "scrolled": false
   },
   "outputs": [
    {
     "data": {
      "image/png": "[encoded data removed]",
      "text/plain": [
       "<Figure size 720x216 with 11 Axes>"
      ]
     },
     "metadata": {
      "needs_background": "light"
     },
     "output_type": "display_data"
    }
   ],
   "source": [
    "#Visualize some samples\n",
    "def visualize_samples(NUM_PIC=16):\n",
    "    a = np.random.randint(BATCH_SIZE-NUM_PIC)\n",
    "    fig = plt.figure(figsize=(10,3))\n",
    "    plt.title(\"Training Images\")\n",
    "    plt.axis(\"off\")\n",
    "    plt.tight_layout()\n",
    "    for id in range(NUM_PIC):\n",
    "        fig.add_subplot(2,NUM_PIC/2,id+1)\n",
    "        img,label = dataset[id]\n",
    "        img = img.numpy().transpose((1,2,0))\n",
    "        img = img.squeeze()\n",
    "        plt.axis(\"off\")\n",
    "        plt.title(CLASSES[label])\n",
    "        plt.imshow(img, cmap=\"gray\")\n",
    "    plt.show()\n",
    "\n",
    "visualize_samples(10)"
   ]
  },
  {
   "cell_type": "code",
   "execution_count": 149,
   "metadata": {},
   "outputs": [],
   "source": [
    "LATENT_SIZE = 100\n",
    "NUM_CLASSES = len(CLASSES)"
   ]
  },
  {
   "cell_type": "code",
   "execution_count": 150,
   "metadata": {},
   "outputs": [],
   "source": [
    "#Make latent vector by creating random Gaussian noise\n",
    "def random_noise(size):\n",
    "    noise = torch.randn(size,LATENT_SIZE,1,1)\n",
    "    noise = Variable(noise).to(device)\n",
    "    return noise"
   ]
  },
  {
   "cell_type": "code",
   "execution_count": 151,
   "metadata": {},
   "outputs": [],
   "source": [
    "one_hot = torch.zeros((10, 10))\n",
    "one_hot = one_hot.scatter_(1, torch.LongTensor(range(10)).view(10, 1), 1).view(10, 10, 1, 1)\n",
    "# Generate shape: 10*10*1*1\n",
    "\n",
    "fill = torch.zeros((10, 10, IMG_SIZE, IMG_SIZE))\n",
    "for i in range(10):\n",
    "    fill[i, i, :, :] = 1\n",
    "#Generate class: shape 10*10*32*32"
   ]
  },
  {
   "cell_type": "code",
   "execution_count": 152,
   "metadata": {},
   "outputs": [],
   "source": [
    "def generate_fake_classes(size,c):\n",
    "    fake_classes = (torch.rand((size)) * 10).type(torch.LongTensor)\n",
    "    if c==\"D\":\n",
    "        fake_classes = fill[fake_classes]\n",
    "        #Output shape: 10*32*32\n",
    "    elif c==\"G\":\n",
    "        fake_classes = one_hot[fake_classes]\n",
    "        #Output shape: 10*1*1\n",
    "    return Variable(fake_classes).to(device)"
   ]
  },
  {
   "cell_type": "code",
   "execution_count": 153,
   "metadata": {},
   "outputs": [],
   "source": [
    "#Generate labels for loss fuction\n",
    "def generate_labels(size, label):\n",
    "    if label:\n",
    "        data = torch.ones(size,1) - 0.1\n",
    "    else:\n",
    "        data = torch.zeros(size,1)\n",
    "    data = Variable(data).to(device)\n",
    "    return data.view(-1)"
   ]
  },
  {
   "cell_type": "code",
   "execution_count": 154,
   "metadata": {},
   "outputs": [],
   "source": [
    "#Inititate weights for Generator and Discriminator with mean = 0.02, standard deviation = 1\n",
    "def weights_init(m):\n",
    "    classname = m.__class__.__name__\n",
    "    if classname.find('Conv') != -1:\n",
    "        nn.init.normal_(m.weight.data, 0.0, 0.02)\n",
    "    elif classname.find('BatchNorm') != -1:\n",
    "        nn.init.normal_(m.weight.data, 1.0, 0.02)\n",
    "        nn.init.constant_(m.bias.data, 0)"
   ]
  },
  {
   "cell_type": "code",
   "execution_count": 155,
   "metadata": {},
   "outputs": [],
   "source": [
    "#Generator\n",
    "class Generator(nn.Module):\n",
    "    def __init__(self):\n",
    "        super(Generator, self).__init__()\n",
    "        \n",
    "        self.main1 = nn.Sequential(\n",
    "            nn.ConvTranspose2d(100,128*4-10,7,1,0),\n",
    "            nn.BatchNorm2d(128*4-10),\n",
    "            nn.ReLU(True),\n",
    "        )\n",
    "            #Latent shape: (128*4-10)*7*7\n",
    "            \n",
    "        self.main2 = nn.Sequential(\n",
    "            nn.ConvTranspose2d(10,10,7,1,0),\n",
    "            nn.BatchNorm2d(10),\n",
    "            nn.ReLU(True),\n",
    "        )\n",
    "            #Label shape: 10*7*7\n",
    "            \n",
    "            #Then concat into shape (256*2)*7*7\n",
    "        self.main3 = nn.Sequential(\n",
    "        \n",
    "            nn.ConvTranspose2d(128*4,128*2,4,2,1),\n",
    "            nn.BatchNorm2d(128*2),\n",
    "            nn.ReLU(True),\n",
    "            # Output shape: 256*14*14\n",
    "            \n",
    "            nn.ConvTranspose2d(128*2,128,4,2,1),\n",
    "            nn.BatchNorm2d(128),\n",
    "            nn.ReLU(True),\n",
    "            # Output shape: 128*28*28\n",
    "            \n",
    "            nn.ConvTranspose2d(128,1,4,2,1),\n",
    "            nn.Tanh()\n",
    "            # Output shape: 1*28*28\n",
    "        )\n",
    "    def forward(self, x, y):\n",
    "        x = self.main1(x)\n",
    "        y = self.main2(y)\n",
    "        x = torch.cat([x, y], 1)\n",
    "        x = self.main3(x)\n",
    "        return x"
   ]
  },
  {
   "cell_type": "code",
   "execution_count": 156,
   "metadata": {},
   "outputs": [],
   "source": [
    "#Discriminator\n",
    "class Discriminator(nn.Module):\n",
    "    def __init__(self):\n",
    "        super(Discriminator, self).__init__()\n",
    "        #Input shape: 1*28*28\n",
    "        self.main1 = nn.Sequential(\n",
    "            nn.Conv2d(1,118,4,2,1, bias=False),\n",
    "            nn.LeakyReLU(0.2, inplace= True),\n",
    "        )\n",
    "        #Latent shape: 118*14*14\n",
    "        \n",
    "        #Input shape: 10*28*28\n",
    "        self.main2 = nn.Sequential(\n",
    "            nn.Conv2d(10,10,4,2,1, bias=False),\n",
    "            nn.LeakyReLU(0.2, inplace= True),\n",
    "        )\n",
    "        #Label shape: 10*14*14\n",
    "        \n",
    "        #Concat both in to shape: 128*14*14\n",
    "        self.main3 = nn.Sequential(\n",
    "            nn.Conv2d(128,128*2,4,2,1, bias=False),\n",
    "            nn.BatchNorm2d(128*2),\n",
    "            nn.LeakyReLU(0.2, inplace= True),\n",
    "            #Output shape: 256*14*14\n",
    "            \n",
    "            nn.Conv2d(128*2,128*4,4,2,1, bias=False),\n",
    "            nn.BatchNorm2d(128*4),\n",
    "            nn.LeakyReLU(0.2, inplace= True),\n",
    "            #Output shape: 512*7*7\n",
    "            \n",
    "            nn.Conv2d(128*4,1,3,1,0, bias=False),\n",
    "            nn.Sigmoid()\n",
    "            #Output shape: 1\n",
    "        )\n",
    "\n",
    "    def forward(self, x , y):\n",
    "        x = self.main1(x)\n",
    "        y = self.main2(y)\n",
    "        print(x.shape,y.shape)\n",
    "        x = torch.cat([x, y], 1)\n",
    "        x = self.main3(x)\n",
    "        return x.view(-1)"
   ]
  },
  {
   "cell_type": "code",
   "execution_count": 157,
   "metadata": {},
   "outputs": [],
   "source": [
    "def train_discriminator(D, G, optimizer, error, real_batch, real_classes_batch):\n",
    "    batch_size = real_batch.size(0)\n",
    "    optimizer.zero_grad()\n",
    "    \n",
    "    real_classes = Variable(fill[real_classes_batch]).to(device)\n",
    "    fake_classes_G = generate_fake_classes(batch_size,\"G\")\n",
    "    fake_classes_D = generate_fake_classes(batch_size,\"D\")\n",
    "    \n",
    "    fake_data = G(random_noise(batch_size), fake_classes_G).detach()\n",
    "    real_data = Variable(real_batch.view(-1,1,IMG_SIZE,IMG_SIZE))\n",
    "    \n",
    "    real_data = real_data.to(device)\n",
    "    fake_data = fake_data.to(device)\n",
    "\n",
    "    prediction_real = D(real_data,real_classes)\n",
    "    real_label = generate_labels(batch_size,1)\n",
    "    loss_real = error(prediction_real,real_label)\n",
    "    \n",
    "    print(fake_data.shape)\n",
    "    prediction_fake = D(fake_data,fake_classes_D)\n",
    "    fake_label = generate_labels(batch_size,0)\n",
    "    loss_fake = error(prediction_fake, fake_label)\n",
    "    \n",
    "    loss = loss_fake + loss_real\n",
    "    loss.backward()\n",
    "    \n",
    "    D_x = prediction_real.mean().item()\n",
    "    D_g_z1 = prediction_fake.mean().item()\n",
    "    optimizer.step()\n",
    "\n",
    "    return loss_real.data + loss_fake.data, D_x, D_g_z1"
   ]
  },
  {
   "cell_type": "code",
   "execution_count": 158,
   "metadata": {},
   "outputs": [],
   "source": [
    "def train_generator(D,G,  optimizer, error, real_batch):\n",
    "    batch_size = real_batch.size(0)\n",
    "    optimizer.zero_grad()\n",
    "    \n",
    "    fake_classes_G = generate_fake_classes(batch_size,\"G\")\n",
    "    fake_classes_D = generate_fake_classes(batch_size,\"D\")\n",
    "    \n",
    "    fake_data = G(random_noise(batch_size),fake_classes_G)\n",
    "    \n",
    "    fake_data = fake_data.to(device)\n",
    "    prediction = D(fake_data, fake_classes_D)\n",
    "    \n",
    "    label = generate_labels(batch_size, 1)\n",
    "    loss = error(prediction, label)\n",
    "    loss.backward()\n",
    "    D_g_z2 = prediction.mean().item()\n",
    "    optimizer.step()\n",
    "    return loss.data, D_g_z2"
   ]
  },
  {
   "cell_type": "code",
   "execution_count": 159,
   "metadata": {},
   "outputs": [],
   "source": [
    "def generate_img(G,noise):\n",
    "    G.eval()\n",
    "    fig = plt.figure(figsize=(10,4))\n",
    "    classes = torch.LongTensor([i for i in range(NUM_CLASSES)])\n",
    "    classes = Variable(one_hot[classes]).to(device)\n",
    "    with torch.no_grad():\n",
    "        test_img = G(noise, classes).view(-1,IMG_SIZE,IMG_SIZE).cpu().numpy()\n",
    "        for id, i in enumerate(test_img):\n",
    "            fig.add_subplot(2,5,id+1)\n",
    "            plt.axis(\"off\")\n",
    "            plt.imshow(i,cmap=\"gray\")\n",
    "    plt.show()\n",
    "    G.train()"
   ]
  },
  {
   "cell_type": "code",
   "execution_count": 160,
   "metadata": {},
   "outputs": [],
   "source": [
    "#Generate latent vector\n",
    "test_noise = random_noise(10)"
   ]
  },
  {
   "cell_type": "code",
   "execution_count": 161,
   "metadata": {},
   "outputs": [],
   "source": [
    "def train(D, G, D_optimizer, G_optimizer, error, trainloader):\n",
    "    EPOCHS = 30\n",
    "    D_loss_list = []\n",
    "    G_loss_list = []\n",
    "    print(\"Start Training.....\")\n",
    "    for epoch in range(EPOCHS):\n",
    "        for i, (real_batch,real_classes_batch) in enumerate(trainloader):  \n",
    "            D_loss,D_x, D_g_z1 = train_discriminator(D, G, D_optimizer,error, real_batch, real_classes_batch)\n",
    "            G_loss, D_g_z2 = train_generator(D,G, G_optimizer,error, real_batch)\n",
    "            if i%500 == 0 :\n",
    "                print(\"Epoch: ({}/{}), Batch: ({}/{}), D_Loss: {:.4f}, G_Loss: {:.4f}, D(x): {:.4f}, G(D(z)): {:.4f} / {:.4f}\".format(epoch+1,EPOCHS,i,len(trainloader),D_loss,G_loss,D_x, D_g_z1,D_g_z2))\n",
    "            D_loss_list.append(D_loss)\n",
    "            G_loss_list.append(G_loss)   \n",
    "        if epoch%5==0:\n",
    "            torch.save(G.state_dict(), \"model/generator-cdcgan4.pth\")\n",
    "            torch.save(D.state_dict(), \"model/discriminator-cdcgan4.pth\")\n",
    "            generate_img(G,test_noise)\n",
    "            \n",
    "    #plot(D_loss_list,G_loss_list,len(D_loss_list))\n",
    "    return G, D_loss_list,G_loss_list"
   ]
  },
  {
   "cell_type": "code",
   "execution_count": 162,
   "metadata": {
    "scrolled": false
   },
   "outputs": [
    {
     "name": "stdout",
     "output_type": "stream",
     "text": [
      "Start Training.....\n",
      "torch.Size([64, 118, 14, 14]) torch.Size([64, 10, 14, 14])\n",
      "torch.Size([64, 1, 56, 56])\n",
      "torch.Size([64, 118, 28, 28]) torch.Size([64, 10, 14, 14])\n"
     ]
    },
    {
     "ename": "RuntimeError",
     "evalue": "invalid argument 0: Sizes of tensors must match except in dimension 1. Got 14 and 28 in dimension 2 at C:/w/1/s/windows/pytorch/aten/src\\THC/generic/THCTensorMath.cu:71",
     "output_type": "error",
     "traceback": [
      "\u001b[1;31m---------------------------------------------------------------------------\u001b[0m",
      "\u001b[1;31mRuntimeError\u001b[0m                              Traceback (most recent call last)",
      "\u001b[1;32m<ipython-input-162-9ec09146a3a5>\u001b[0m in \u001b[0;36m<module>\u001b[1;34m\u001b[0m\n\u001b[0;32m      8\u001b[0m     \u001b[0mG_optimizer\u001b[0m \u001b[1;33m=\u001b[0m \u001b[0mtorch\u001b[0m\u001b[1;33m.\u001b[0m\u001b[0moptim\u001b[0m\u001b[1;33m.\u001b[0m\u001b[0mAdam\u001b[0m\u001b[1;33m(\u001b[0m\u001b[0mG\u001b[0m\u001b[1;33m.\u001b[0m\u001b[0mparameters\u001b[0m\u001b[1;33m(\u001b[0m\u001b[1;33m)\u001b[0m\u001b[1;33m,\u001b[0m \u001b[0mlr\u001b[0m \u001b[1;33m=\u001b[0m \u001b[1;36m1e-4\u001b[0m\u001b[1;33m)\u001b[0m\u001b[1;33m\u001b[0m\u001b[1;33m\u001b[0m\u001b[0m\n\u001b[0;32m      9\u001b[0m     \u001b[0merror\u001b[0m \u001b[1;33m=\u001b[0m \u001b[0mnn\u001b[0m\u001b[1;33m.\u001b[0m\u001b[0mBCELoss\u001b[0m\u001b[1;33m(\u001b[0m\u001b[1;33m)\u001b[0m\u001b[1;33m\u001b[0m\u001b[1;33m\u001b[0m\u001b[0m\n\u001b[1;32m---> 10\u001b[1;33m     \u001b[0mG\u001b[0m\u001b[1;33m,\u001b[0m \u001b[0mD_loss_list\u001b[0m\u001b[1;33m,\u001b[0m \u001b[0mG_loss_list\u001b[0m \u001b[1;33m=\u001b[0m \u001b[0mtrain\u001b[0m\u001b[1;33m(\u001b[0m\u001b[0mD\u001b[0m\u001b[1;33m,\u001b[0m\u001b[0mG\u001b[0m\u001b[1;33m,\u001b[0m\u001b[0mD_optimizer\u001b[0m\u001b[1;33m,\u001b[0m\u001b[0mG_optimizer\u001b[0m\u001b[1;33m,\u001b[0m\u001b[0merror\u001b[0m\u001b[1;33m,\u001b[0m\u001b[0mtrainloader\u001b[0m\u001b[1;33m)\u001b[0m\u001b[1;33m\u001b[0m\u001b[1;33m\u001b[0m\u001b[0m\n\u001b[0m\u001b[0;32m     11\u001b[0m \u001b[1;33m\u001b[0m\u001b[0m\n",
      "\u001b[1;32m<ipython-input-161-0e31b1a9e340>\u001b[0m in \u001b[0;36mtrain\u001b[1;34m(D, G, D_optimizer, G_optimizer, error, trainloader)\u001b[0m\n\u001b[0;32m      6\u001b[0m     \u001b[1;32mfor\u001b[0m \u001b[0mepoch\u001b[0m \u001b[1;32min\u001b[0m \u001b[0mrange\u001b[0m\u001b[1;33m(\u001b[0m\u001b[0mEPOCHS\u001b[0m\u001b[1;33m)\u001b[0m\u001b[1;33m:\u001b[0m\u001b[1;33m\u001b[0m\u001b[1;33m\u001b[0m\u001b[0m\n\u001b[0;32m      7\u001b[0m         \u001b[1;32mfor\u001b[0m \u001b[0mi\u001b[0m\u001b[1;33m,\u001b[0m \u001b[1;33m(\u001b[0m\u001b[0mreal_batch\u001b[0m\u001b[1;33m,\u001b[0m\u001b[0mreal_classes_batch\u001b[0m\u001b[1;33m)\u001b[0m \u001b[1;32min\u001b[0m \u001b[0menumerate\u001b[0m\u001b[1;33m(\u001b[0m\u001b[0mtrainloader\u001b[0m\u001b[1;33m)\u001b[0m\u001b[1;33m:\u001b[0m\u001b[1;33m\u001b[0m\u001b[1;33m\u001b[0m\u001b[0m\n\u001b[1;32m----> 8\u001b[1;33m             \u001b[0mD_loss\u001b[0m\u001b[1;33m,\u001b[0m\u001b[0mD_x\u001b[0m\u001b[1;33m,\u001b[0m \u001b[0mD_g_z1\u001b[0m \u001b[1;33m=\u001b[0m \u001b[0mtrain_discriminator\u001b[0m\u001b[1;33m(\u001b[0m\u001b[0mD\u001b[0m\u001b[1;33m,\u001b[0m \u001b[0mG\u001b[0m\u001b[1;33m,\u001b[0m \u001b[0mD_optimizer\u001b[0m\u001b[1;33m,\u001b[0m\u001b[0merror\u001b[0m\u001b[1;33m,\u001b[0m \u001b[0mreal_batch\u001b[0m\u001b[1;33m,\u001b[0m \u001b[0mreal_classes_batch\u001b[0m\u001b[1;33m)\u001b[0m\u001b[1;33m\u001b[0m\u001b[1;33m\u001b[0m\u001b[0m\n\u001b[0m\u001b[0;32m      9\u001b[0m             \u001b[0mG_loss\u001b[0m\u001b[1;33m,\u001b[0m \u001b[0mD_g_z2\u001b[0m \u001b[1;33m=\u001b[0m \u001b[0mtrain_generator\u001b[0m\u001b[1;33m(\u001b[0m\u001b[0mD\u001b[0m\u001b[1;33m,\u001b[0m\u001b[0mG\u001b[0m\u001b[1;33m,\u001b[0m \u001b[0mG_optimizer\u001b[0m\u001b[1;33m,\u001b[0m\u001b[0merror\u001b[0m\u001b[1;33m,\u001b[0m \u001b[0mreal_batch\u001b[0m\u001b[1;33m)\u001b[0m\u001b[1;33m\u001b[0m\u001b[1;33m\u001b[0m\u001b[0m\n\u001b[0;32m     10\u001b[0m             \u001b[1;32mif\u001b[0m \u001b[0mi\u001b[0m\u001b[1;33m%\u001b[0m\u001b[1;36m500\u001b[0m \u001b[1;33m==\u001b[0m \u001b[1;36m0\u001b[0m \u001b[1;33m:\u001b[0m\u001b[1;33m\u001b[0m\u001b[1;33m\u001b[0m\u001b[0m\n",
      "\u001b[1;32m<ipython-input-157-5d802bef5e52>\u001b[0m in \u001b[0;36mtrain_discriminator\u001b[1;34m(D, G, optimizer, error, real_batch, real_classes_batch)\u001b[0m\n\u001b[0;32m     18\u001b[0m \u001b[1;33m\u001b[0m\u001b[0m\n\u001b[0;32m     19\u001b[0m     \u001b[0mprint\u001b[0m\u001b[1;33m(\u001b[0m\u001b[0mfake_data\u001b[0m\u001b[1;33m.\u001b[0m\u001b[0mshape\u001b[0m\u001b[1;33m)\u001b[0m\u001b[1;33m\u001b[0m\u001b[1;33m\u001b[0m\u001b[0m\n\u001b[1;32m---> 20\u001b[1;33m     \u001b[0mprediction_fake\u001b[0m \u001b[1;33m=\u001b[0m \u001b[0mD\u001b[0m\u001b[1;33m(\u001b[0m\u001b[0mfake_data\u001b[0m\u001b[1;33m,\u001b[0m\u001b[0mfake_classes_D\u001b[0m\u001b[1;33m)\u001b[0m\u001b[1;33m\u001b[0m\u001b[1;33m\u001b[0m\u001b[0m\n\u001b[0m\u001b[0;32m     21\u001b[0m     \u001b[0mfake_label\u001b[0m \u001b[1;33m=\u001b[0m \u001b[0mgenerate_labels\u001b[0m\u001b[1;33m(\u001b[0m\u001b[0mbatch_size\u001b[0m\u001b[1;33m,\u001b[0m\u001b[1;36m0\u001b[0m\u001b[1;33m)\u001b[0m\u001b[1;33m\u001b[0m\u001b[1;33m\u001b[0m\u001b[0m\n\u001b[0;32m     22\u001b[0m     \u001b[0mloss_fake\u001b[0m \u001b[1;33m=\u001b[0m \u001b[0merror\u001b[0m\u001b[1;33m(\u001b[0m\u001b[0mprediction_fake\u001b[0m\u001b[1;33m,\u001b[0m \u001b[0mfake_label\u001b[0m\u001b[1;33m)\u001b[0m\u001b[1;33m\u001b[0m\u001b[1;33m\u001b[0m\u001b[0m\n",
      "\u001b[1;32mC:\\ProgramData\\Anaconda3\\lib\\site-packages\\torch\\nn\\modules\\module.py\u001b[0m in \u001b[0;36m__call__\u001b[1;34m(self, *input, **kwargs)\u001b[0m\n\u001b[0;32m    530\u001b[0m             \u001b[0mresult\u001b[0m \u001b[1;33m=\u001b[0m \u001b[0mself\u001b[0m\u001b[1;33m.\u001b[0m\u001b[0m_slow_forward\u001b[0m\u001b[1;33m(\u001b[0m\u001b[1;33m*\u001b[0m\u001b[0minput\u001b[0m\u001b[1;33m,\u001b[0m \u001b[1;33m**\u001b[0m\u001b[0mkwargs\u001b[0m\u001b[1;33m)\u001b[0m\u001b[1;33m\u001b[0m\u001b[1;33m\u001b[0m\u001b[0m\n\u001b[0;32m    531\u001b[0m         \u001b[1;32melse\u001b[0m\u001b[1;33m:\u001b[0m\u001b[1;33m\u001b[0m\u001b[1;33m\u001b[0m\u001b[0m\n\u001b[1;32m--> 532\u001b[1;33m             \u001b[0mresult\u001b[0m \u001b[1;33m=\u001b[0m \u001b[0mself\u001b[0m\u001b[1;33m.\u001b[0m\u001b[0mforward\u001b[0m\u001b[1;33m(\u001b[0m\u001b[1;33m*\u001b[0m\u001b[0minput\u001b[0m\u001b[1;33m,\u001b[0m \u001b[1;33m**\u001b[0m\u001b[0mkwargs\u001b[0m\u001b[1;33m)\u001b[0m\u001b[1;33m\u001b[0m\u001b[1;33m\u001b[0m\u001b[0m\n\u001b[0m\u001b[0;32m    533\u001b[0m         \u001b[1;32mfor\u001b[0m \u001b[0mhook\u001b[0m \u001b[1;32min\u001b[0m \u001b[0mself\u001b[0m\u001b[1;33m.\u001b[0m\u001b[0m_forward_hooks\u001b[0m\u001b[1;33m.\u001b[0m\u001b[0mvalues\u001b[0m\u001b[1;33m(\u001b[0m\u001b[1;33m)\u001b[0m\u001b[1;33m:\u001b[0m\u001b[1;33m\u001b[0m\u001b[1;33m\u001b[0m\u001b[0m\n\u001b[0;32m    534\u001b[0m             \u001b[0mhook_result\u001b[0m \u001b[1;33m=\u001b[0m \u001b[0mhook\u001b[0m\u001b[1;33m(\u001b[0m\u001b[0mself\u001b[0m\u001b[1;33m,\u001b[0m \u001b[0minput\u001b[0m\u001b[1;33m,\u001b[0m \u001b[0mresult\u001b[0m\u001b[1;33m)\u001b[0m\u001b[1;33m\u001b[0m\u001b[1;33m\u001b[0m\u001b[0m\n",
      "\u001b[1;32m<ipython-input-156-d5656e419c64>\u001b[0m in \u001b[0;36mforward\u001b[1;34m(self, x, y)\u001b[0m\n\u001b[0;32m     38\u001b[0m         \u001b[0my\u001b[0m \u001b[1;33m=\u001b[0m \u001b[0mself\u001b[0m\u001b[1;33m.\u001b[0m\u001b[0mmain2\u001b[0m\u001b[1;33m(\u001b[0m\u001b[0my\u001b[0m\u001b[1;33m)\u001b[0m\u001b[1;33m\u001b[0m\u001b[1;33m\u001b[0m\u001b[0m\n\u001b[0;32m     39\u001b[0m         \u001b[0mprint\u001b[0m\u001b[1;33m(\u001b[0m\u001b[0mx\u001b[0m\u001b[1;33m.\u001b[0m\u001b[0mshape\u001b[0m\u001b[1;33m,\u001b[0m\u001b[0my\u001b[0m\u001b[1;33m.\u001b[0m\u001b[0mshape\u001b[0m\u001b[1;33m)\u001b[0m\u001b[1;33m\u001b[0m\u001b[1;33m\u001b[0m\u001b[0m\n\u001b[1;32m---> 40\u001b[1;33m         \u001b[0mx\u001b[0m \u001b[1;33m=\u001b[0m \u001b[0mtorch\u001b[0m\u001b[1;33m.\u001b[0m\u001b[0mcat\u001b[0m\u001b[1;33m(\u001b[0m\u001b[1;33m[\u001b[0m\u001b[0mx\u001b[0m\u001b[1;33m,\u001b[0m \u001b[0my\u001b[0m\u001b[1;33m]\u001b[0m\u001b[1;33m,\u001b[0m \u001b[1;36m1\u001b[0m\u001b[1;33m)\u001b[0m\u001b[1;33m\u001b[0m\u001b[1;33m\u001b[0m\u001b[0m\n\u001b[0m\u001b[0;32m     41\u001b[0m         \u001b[0mx\u001b[0m \u001b[1;33m=\u001b[0m \u001b[0mself\u001b[0m\u001b[1;33m.\u001b[0m\u001b[0mmain3\u001b[0m\u001b[1;33m(\u001b[0m\u001b[0mx\u001b[0m\u001b[1;33m)\u001b[0m\u001b[1;33m\u001b[0m\u001b[1;33m\u001b[0m\u001b[0m\n\u001b[0;32m     42\u001b[0m         \u001b[1;32mreturn\u001b[0m \u001b[0mx\u001b[0m\u001b[1;33m.\u001b[0m\u001b[0mview\u001b[0m\u001b[1;33m(\u001b[0m\u001b[1;33m-\u001b[0m\u001b[1;36m1\u001b[0m\u001b[1;33m)\u001b[0m\u001b[1;33m\u001b[0m\u001b[1;33m\u001b[0m\u001b[0m\n",
      "\u001b[1;31mRuntimeError\u001b[0m: invalid argument 0: Sizes of tensors must match except in dimension 1. Got 14 and 28 in dimension 2 at C:/w/1/s/windows/pytorch/aten/src\\THC/generic/THCTensorMath.cu:71"
     ]
    }
   ],
   "source": [
    "D = Discriminator().to(device)\n",
    "G = Generator().to(device) \n",
    "D.apply(weights_init)\n",
    "G.apply(weights_init)\n",
    "\n",
    "if TRAINING_DATA:\n",
    "    D_optimizer = torch.optim.Adam(D.parameters(), lr= 1e-4)\n",
    "    G_optimizer = torch.optim.Adam(G.parameters(), lr = 1e-4)\n",
    "    error = nn.BCELoss()\n",
    "    G, D_loss_list, G_loss_list = train(D,G,D_optimizer,G_optimizer,error,trainloader)\n",
    "\n"
   ]
  },
  {
   "cell_type": "code",
   "execution_count": null,
   "metadata": {},
   "outputs": [],
   "source": [
    "def plot(D_loss_list, G_loss_list, EPOCHS=None):\n",
    "    if EPOCHS is None:\n",
    "        EPOCHS = len(D_loss_list)\n",
    "    fig = plt.figure(figsize=(15,5))\n",
    "    plt.plot(range(EPOCHS), D_loss_list, label = \"Discriminator Loss\")\n",
    "    plt.plot(range(EPOCHS),G_loss_list, color = \"orange\", label = \"Gennerator Loss\")\n",
    "    plt.legend()\n",
    "    plt.show()\n",
    "    \n",
    "plot(D_loss_list, G_loss_list)"
   ]
  },
  {
   "cell_type": "code",
   "execution_count": null,
   "metadata": {},
   "outputs": [],
   "source": [
    "#test_noise = random_noise(10)\n",
    "#generate_img(G,test_noise)"
   ]
  },
  {
   "cell_type": "code",
   "execution_count": null,
   "metadata": {
    "scrolled": false
   },
   "outputs": [],
   "source": [
    "if not TRAINING_DATA:\n",
    "    G.load_state_dict(torch.load(\"model/generator-dcgan2.pth\"))\n",
    "z = Variable(torch.randn(100, 100)).view(100,100,1,1).to(device)\n",
    "classes = torch.LongTensor([i for _ in range(10) for i in range(NUM_CLASSES) ])\n",
    "classes = Variable(one_hot[classes]).to(device)\n",
    "\n",
    "images = G(z, classes).cpu()\n",
    "\n",
    "grid = torchvision.utils.make_grid(images, nrow=10, normalize=True)\n",
    "fig, ax = plt.subplots(figsize=(30,30))\n",
    "ax.imshow(grid.permute(1, 2, 0).data, cmap='binary')\n",
    "#ax.axis('off')\n",
    "_ = plt.yticks([])\n",
    "_ = plt.xticks(np.arange(15, 350, 35),CLASSES, rotation=45, fontsize=20)"
   ]
  },
  {
   "cell_type": "code",
   "execution_count": null,
   "metadata": {},
   "outputs": [],
   "source": [
    "num =1\n",
    "z = Variable(torch.randn(1, 100)).view(1,100,1,1).to(device)\n",
    "classes = torch.LongTensor([num])\n",
    "classes = Variable(one_hot[classes]).to(device)\n",
    "images2 = G(z, classes).detach().cpu().squeeze()\n",
    "plt.imshow(images2, cmap='gray')\n",
    "plt.title(CLASSES[num])\n",
    "plt.show()"
   ]
  },
  {
   "cell_type": "code",
   "execution_count": null,
   "metadata": {},
   "outputs": [],
   "source": [
    "print(np.arange(15, 350, 35))"
   ]
  }
 ],
 "metadata": {
  "kernelspec": {
   "display_name": "Python 3",
   "language": "python",
   "name": "python3"
  },
  "language_info": {
   "codemirror_mode": {
    "name": "ipython",
    "version": 3
   },
   "file_extension": ".py",
   "mimetype": "text/x-python",
   "name": "python",
   "nbconvert_exporter": "python",
   "pygments_lexer": "ipython3",
   "version": "3.7.4"
  }
 },
 "nbformat": 4,
 "nbformat_minor": 2
}
