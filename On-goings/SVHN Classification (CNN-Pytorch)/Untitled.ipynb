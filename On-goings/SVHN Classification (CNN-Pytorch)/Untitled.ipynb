{
 "cells": [
  {
   "cell_type": "code",
   "execution_count": 4,
   "metadata": {
    "ExecuteTime": {
     "end_time": "2020-03-30T14:32:36.297035Z",
     "start_time": "2020-03-30T14:32:36.293046Z"
    }
   },
   "outputs": [],
   "source": [
    "import torch\n",
    "import torchvision\n",
    "import json"
   ]
  },
  {
   "cell_type": "code",
   "execution_count": 10,
   "metadata": {
    "ExecuteTime": {
     "end_time": "2020-03-30T14:33:53.042926Z",
     "start_time": "2020-03-30T14:33:52.826505Z"
    }
   },
   "outputs": [
    {
     "name": "stdout",
     "output_type": "stream",
     "text": [
      "{'boxes': [{'width': 23.0, 'top': 29.0, 'label': 2.0, 'left': 77.0, 'height': 32.0}, {'width': 26.0, 'top': 25.0, 'label': 3.0, 'left': 98.0, 'height': 32.0}], 'filename': '2.png'}\n"
     ]
    }
   ],
   "source": [
    "with open('digitStruct.json') as f:\n",
    "    data = json.load(f)\n",
    "\n",
    "    print(data[1])"
   ]
  }
 ],
 "metadata": {
  "kernelspec": {
   "display_name": "Python 3.7.6 64-bit",
   "language": "python",
   "name": "python37664bitf1e933645d11461e8e62088c1ac0a078"
  },
  "language_info": {
   "codemirror_mode": {
    "name": "ipython",
    "version": 3
   },
   "file_extension": ".py",
   "mimetype": "text/x-python",
   "name": "python",
   "nbconvert_exporter": "python",
   "pygments_lexer": "ipython3",
   "version": "3.7.6"
  }
 },
 "nbformat": 4,
 "nbformat_minor": 2
}
