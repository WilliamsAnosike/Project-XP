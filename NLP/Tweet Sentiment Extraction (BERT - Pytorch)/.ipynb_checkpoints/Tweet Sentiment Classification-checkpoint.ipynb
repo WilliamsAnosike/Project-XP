{
 "cells": [
  {
   "cell_type": "code",
   "execution_count": 1,
   "metadata": {
    "ExecuteTime": {
     "end_time": "2020-04-15T05:06:13.048470Z",
     "start_time": "2020-04-15T05:06:11.950313Z"
    }
   },
   "outputs": [],
   "source": [
    "import torch\n",
    "import torchtext\n",
    "import torch.nn as nn\n",
    "import torch.nn.functional as F\n",
    "import torchtext.data as data\n",
    "import pandas as pd\n",
    "import numpy as np\n",
    "import matplotlib.pyplot as plt\n",
    "import string\n",
    "\n",
    "import re\n",
    "from nltk.corpus import stopwords\n",
    "from nltk.stem.wordnet import WordNetLemmatizer"
   ]
  },
  {
   "cell_type": "code",
   "execution_count": 2,
   "metadata": {
    "ExecuteTime": {
     "end_time": "2020-04-15T05:06:13.075394Z",
     "start_time": "2020-04-15T05:06:13.049470Z"
    }
   },
   "outputs": [
    {
     "name": "stdout",
     "output_type": "stream",
     "text": [
      "cuda:0\n"
     ]
    }
   ],
   "source": [
    "device = torch.device(\"cuda: 0\" if torch.cuda.is_available() else \"cpu\")\n",
    "print(device)"
   ]
  },
  {
   "cell_type": "code",
   "execution_count": 3,
   "metadata": {
    "ExecuteTime": {
     "end_time": "2020-04-15T05:06:13.085389Z",
     "start_time": "2020-04-15T05:06:13.076362Z"
    }
   },
   "outputs": [],
   "source": [
    "SEED = 2020\n",
    "torch.manual_seed(SEED)\n",
    "torch.backends.cudnn.deterministic = True\n",
    "plt.rcParams.update({'font.size': 15})"
   ]
  },
  {
   "cell_type": "code",
   "execution_count": 4,
   "metadata": {
    "ExecuteTime": {
     "end_time": "2020-04-15T05:06:13.090325Z",
     "start_time": "2020-04-15T05:06:13.086335Z"
    }
   },
   "outputs": [],
   "source": [
    "DATA_DIR = {\n",
    "    \"train\": \"data/train.csv\",\n",
    "    \"test\": \"data/test.csv\"\n",
    "}"
   ]
  },
  {
   "cell_type": "code",
   "execution_count": 5,
   "metadata": {
    "ExecuteTime": {
     "end_time": "2020-04-15T05:06:13.148207Z",
     "start_time": "2020-04-15T05:06:13.091357Z"
    }
   },
   "outputs": [],
   "source": [
    "datatable = pd.read_csv(DATA_DIR[\"train\"])"
   ]
  },
  {
   "cell_type": "code",
   "execution_count": 6,
   "metadata": {
    "ExecuteTime": {
     "end_time": "2020-04-15T05:06:13.161135Z",
     "start_time": "2020-04-15T05:06:13.149166Z"
    }
   },
   "outputs": [
    {
     "data": {
      "text/html": [
       "<div>\n",
       "<style scoped>\n",
       "    .dataframe tbody tr th:only-of-type {\n",
       "        vertical-align: middle;\n",
       "    }\n",
       "\n",
       "    .dataframe tbody tr th {\n",
       "        vertical-align: top;\n",
       "    }\n",
       "\n",
       "    .dataframe thead th {\n",
       "        text-align: right;\n",
       "    }\n",
       "</style>\n",
       "<table border=\"1\" class=\"dataframe\">\n",
       "  <thead>\n",
       "    <tr style=\"text-align: right;\">\n",
       "      <th></th>\n",
       "      <th>textID</th>\n",
       "      <th>text</th>\n",
       "      <th>selected_text</th>\n",
       "      <th>sentiment</th>\n",
       "    </tr>\n",
       "  </thead>\n",
       "  <tbody>\n",
       "    <tr>\n",
       "      <th>0</th>\n",
       "      <td>cb774db0d1</td>\n",
       "      <td>I`d have responded, if I were going</td>\n",
       "      <td>I`d have responded, if I were going</td>\n",
       "      <td>neutral</td>\n",
       "    </tr>\n",
       "    <tr>\n",
       "      <th>1</th>\n",
       "      <td>549e992a42</td>\n",
       "      <td>Sooo SAD I will miss you here in San Diego!!!</td>\n",
       "      <td>Sooo SAD</td>\n",
       "      <td>negative</td>\n",
       "    </tr>\n",
       "    <tr>\n",
       "      <th>2</th>\n",
       "      <td>088c60f138</td>\n",
       "      <td>my boss is bullying me...</td>\n",
       "      <td>bullying me</td>\n",
       "      <td>negative</td>\n",
       "    </tr>\n",
       "    <tr>\n",
       "      <th>3</th>\n",
       "      <td>9642c003ef</td>\n",
       "      <td>what interview! leave me alone</td>\n",
       "      <td>leave me alone</td>\n",
       "      <td>negative</td>\n",
       "    </tr>\n",
       "    <tr>\n",
       "      <th>4</th>\n",
       "      <td>358bd9e861</td>\n",
       "      <td>Sons of ****, why couldn`t they put them on t...</td>\n",
       "      <td>Sons of ****,</td>\n",
       "      <td>negative</td>\n",
       "    </tr>\n",
       "    <tr>\n",
       "      <th>...</th>\n",
       "      <td>...</td>\n",
       "      <td>...</td>\n",
       "      <td>...</td>\n",
       "      <td>...</td>\n",
       "    </tr>\n",
       "    <tr>\n",
       "      <th>27476</th>\n",
       "      <td>4eac33d1c0</td>\n",
       "      <td>wish we could come see u on Denver  husband l...</td>\n",
       "      <td>d lost</td>\n",
       "      <td>negative</td>\n",
       "    </tr>\n",
       "    <tr>\n",
       "      <th>27477</th>\n",
       "      <td>4f4c4fc327</td>\n",
       "      <td>I`ve wondered about rake to.  The client has ...</td>\n",
       "      <td>, don`t force</td>\n",
       "      <td>negative</td>\n",
       "    </tr>\n",
       "    <tr>\n",
       "      <th>27478</th>\n",
       "      <td>f67aae2310</td>\n",
       "      <td>Yay good for both of you. Enjoy the break - y...</td>\n",
       "      <td>Yay good for both of you.</td>\n",
       "      <td>positive</td>\n",
       "    </tr>\n",
       "    <tr>\n",
       "      <th>27479</th>\n",
       "      <td>ed167662a5</td>\n",
       "      <td>But it was worth it  ****.</td>\n",
       "      <td>But it was worth it  ****.</td>\n",
       "      <td>positive</td>\n",
       "    </tr>\n",
       "    <tr>\n",
       "      <th>27480</th>\n",
       "      <td>6f7127d9d7</td>\n",
       "      <td>All this flirting going on - The ATG smiles...</td>\n",
       "      <td>All this flirting going on - The ATG smiles. Y...</td>\n",
       "      <td>neutral</td>\n",
       "    </tr>\n",
       "  </tbody>\n",
       "</table>\n",
       "<p>27481 rows × 4 columns</p>\n",
       "</div>"
      ],
      "text/plain": [
       "           textID                                               text  \\\n",
       "0      cb774db0d1                I`d have responded, if I were going   \n",
       "1      549e992a42      Sooo SAD I will miss you here in San Diego!!!   \n",
       "2      088c60f138                          my boss is bullying me...   \n",
       "3      9642c003ef                     what interview! leave me alone   \n",
       "4      358bd9e861   Sons of ****, why couldn`t they put them on t...   \n",
       "...           ...                                                ...   \n",
       "27476  4eac33d1c0   wish we could come see u on Denver  husband l...   \n",
       "27477  4f4c4fc327   I`ve wondered about rake to.  The client has ...   \n",
       "27478  f67aae2310   Yay good for both of you. Enjoy the break - y...   \n",
       "27479  ed167662a5                         But it was worth it  ****.   \n",
       "27480  6f7127d9d7     All this flirting going on - The ATG smiles...   \n",
       "\n",
       "                                           selected_text sentiment  \n",
       "0                    I`d have responded, if I were going   neutral  \n",
       "1                                               Sooo SAD  negative  \n",
       "2                                            bullying me  negative  \n",
       "3                                         leave me alone  negative  \n",
       "4                                          Sons of ****,  negative  \n",
       "...                                                  ...       ...  \n",
       "27476                                             d lost  negative  \n",
       "27477                                      , don`t force  negative  \n",
       "27478                          Yay good for both of you.  positive  \n",
       "27479                         But it was worth it  ****.  positive  \n",
       "27480  All this flirting going on - The ATG smiles. Y...   neutral  \n",
       "\n",
       "[27481 rows x 4 columns]"
      ]
     },
     "metadata": {},
     "output_type": "display_data"
    }
   ],
   "source": [
    "display(datatable)"
   ]
  },
  {
   "cell_type": "code",
   "execution_count": 7,
   "metadata": {
    "ExecuteTime": {
     "end_time": "2020-04-15T05:06:13.172133Z",
     "start_time": "2020-04-15T05:06:13.163131Z"
    }
   },
   "outputs": [],
   "source": [
    "datatable = datatable.fillna(value=\"none\")"
   ]
  },
  {
   "cell_type": "code",
   "execution_count": 8,
   "metadata": {
    "ExecuteTime": {
     "end_time": "2020-04-15T05:06:13.918213Z",
     "start_time": "2020-04-15T05:06:13.173103Z"
    }
   },
   "outputs": [],
   "source": [
    "punctuations = string.punctuation.replace(\"*\",\"\")\n",
    "stopwords_list = stopwords.words(\"english\")\n",
    "spacy_tokenizer = torchtext.data.utils.get_tokenizer('spacy')\n",
    "lemmatizer = WordNetLemmatizer()\n",
    "\n",
    "\n",
    "def preprocessing(text):\n",
    "  \n",
    "    def remove_punctuations(sentence):\n",
    "        result = \"\".join([w if w not in punctuations and not w.isdigit() else \" \" for w in sentence])\n",
    "        return result\n",
    "    \n",
    "    def word_lemmatizer(sentence):\n",
    "        result = lemmatizer.lemmatize(sentence)\n",
    "        return result\n",
    "    \n",
    "    def word_lowercase(sentence):\n",
    "        return sentence.lower()\n",
    "    \n",
    "    def remove_URL(text):\n",
    "        url = re.compile(r'https?://\\S+|www\\.\\S+')\n",
    "        html=re.compile(r'<.*?>')\n",
    "        text = html.sub(r'',text)\n",
    "        text = url.sub(r'',str(text))\n",
    "        return text \n",
    "    \n",
    "    def convert_consecutive(sentence):\n",
    "        consecutive = re.compile(r'(.)\\1\\1+')\n",
    "        sentence = consecutive.sub(r\"\\1\",sentence)\n",
    "        return sentence\n",
    "    \n",
    "    def remove_newline(text):\n",
    "        return text.rstrip(\"\\n\")\n",
    "    \n",
    "    def clean(sentence):\n",
    "        result = []\n",
    "        sentence = remove_newline(sentence)\n",
    "        sentence = remove_URL(sentence)\n",
    "        sentence = convert_consecutive(sentence)\n",
    "        sentence = word_lowercase(sentence)\n",
    "        sentence = word_lemmatizer(sentence)\n",
    "        sentence = remove_punctuations(sentence)\n",
    "        return sentence\n",
    "    \n",
    " \n",
    "    text = clean(text)\n",
    "    if text == \"\":\n",
    "        text = \"None\"\n",
    "    return text"
   ]
  },
  {
   "cell_type": "code",
   "execution_count": 9,
   "metadata": {
    "ExecuteTime": {
     "end_time": "2020-04-15T05:06:13.922132Z",
     "start_time": "2020-04-15T05:06:13.919108Z"
    }
   },
   "outputs": [],
   "source": [
    "def mytokenizer(sentence):\n",
    "    sentence = preprocessing(sentence)\n",
    "    tokens = str.split(sentence)\n",
    "    tokens = [w for w in tokens if w not in stopwords_list]\n",
    "    return tokens"
   ]
  },
  {
   "cell_type": "code",
   "execution_count": 10,
   "metadata": {
    "ExecuteTime": {
     "end_time": "2020-04-15T05:06:14.011865Z",
     "start_time": "2020-04-15T05:06:13.923097Z"
    }
   },
   "outputs": [
    {
     "data": {
      "image/png": "[encoded data removed]",
      "text/plain": [
       "<Figure size 432x288 with 1 Axes>"
      ]
     },
     "metadata": {
      "needs_background": "light"
     },
     "output_type": "display_data"
    }
   ],
   "source": [
    "def label_count():\n",
    "    \n",
    "    sentiment_count = {\n",
    "    \"neg\": len(datatable[datatable[\"sentiment\"] == \"negative\"]),\n",
    "    \"neu\": len(datatable[datatable[\"sentiment\"] == \"neutral\"]),\n",
    "    \"pos:\": len(datatable[datatable[\"sentiment\"] == \"positive\"])\n",
    "}\n",
    "\n",
    "    sentiment = [i for i in sentiment_count.keys()]\n",
    "    count = [i for i in sentiment_count.values()]\n",
    "    plt.bar(sentiment, count)\n",
    "    plt.show()\n",
    "    \n",
    "label_count()"
   ]
  },
  {
   "cell_type": "code",
   "execution_count": 11,
   "metadata": {
    "ExecuteTime": {
     "end_time": "2020-04-15T05:06:16.605921Z",
     "start_time": "2020-04-15T05:06:14.012885Z"
    }
   },
   "outputs": [
    {
     "data": {
      "image/png": "[encoded data removed]",
      "text/plain": [
       "<Figure size 2160x2160 with 3 Axes>"
      ]
     },
     "metadata": {
      "needs_background": "light"
     },
     "output_type": "display_data"
    }
   ],
   "source": [
    "def visualize_top_k(k = 10):\n",
    "    \n",
    "    positive_rows = datatable[datatable[\"sentiment\"] == \"positive\"][\"text\"]\n",
    "    negative_rows = datatable[datatable[\"sentiment\"] == \"negative\"][\"text\"]\n",
    "    neutral_rows = datatable[datatable[\"sentiment\"] == \"neutral\"][\"text\"]\n",
    "    \n",
    "    def build_vocab(rows):\n",
    "        def sort_dict(d):\n",
    "            result = {k: v for k, v in sorted(d.items(), key=lambda item: item[1], reverse=True)}\n",
    "            return result\n",
    "        vocab_dict = {}\n",
    "        for i in rows:\n",
    "            k = mytokenizer(i)\n",
    "            for j in k:\n",
    "                vocab_dict[j] = 1 if j not in vocab_dict else vocab_dict[j]+1\n",
    "        vocab_dict = sort_dict(vocab_dict)\n",
    "        return vocab_dict\n",
    "    \n",
    "    vocab_dict = {\n",
    "        \"pos\" : build_vocab(positive_rows),\n",
    "        \"neg\": build_vocab(negative_rows),\n",
    "        \"neu\": build_vocab(neutral_rows)\n",
    "    }\n",
    "    \n",
    "    \n",
    "    def get_top_k(vocab_dict, k=10):\n",
    "        top_k_x = [i for i in vocab_dict.keys()]\n",
    "        top_k_y = [i for i in vocab_dict.values()]\n",
    "        return top_k_x[:k],top_k_y[:k]\n",
    "    \n",
    "    top_k = {\n",
    "        \"pos\": get_top_k(vocab_dict[\"pos\"],k),\n",
    "        \"neg\": get_top_k(vocab_dict[\"neg\"],k),\n",
    "        \"neu\": get_top_k(vocab_dict[\"neu\"],k)\n",
    "    }\n",
    "    \n",
    "    fig = plt.figure(figsize=(30,30))\n",
    "    for idx,i in enumerate([\"pos\", \"neg\", \"neu\"]):\n",
    "        fig.add_subplot(3,1,idx+1)\n",
    "        plt.title(i)\n",
    "        plt.bar(*top_k[i])\n",
    "    plt.show()\n",
    "    \n",
    "    \n",
    "visualize_top_k(5)"
   ]
  },
  {
   "cell_type": "code",
   "execution_count": 12,
   "metadata": {
    "ExecuteTime": {
     "end_time": "2020-04-15T05:06:16.610932Z",
     "start_time": "2020-04-15T05:06:16.606918Z"
    },
    "scrolled": true
   },
   "outputs": [
    {
     "name": "stdout",
     "output_type": "stream",
     "text": [
      "egh blah and boooooooooooo i dunno wanna go to work  HANGOVERS SUCKKKKKK Im a drunk mess!\n",
      "egh blah and bo i dunno wanna go to work  hangovers suck im a drunk mess \n"
     ]
    }
   ],
   "source": [
    "st = \"egh blah and boooooooooooo i dunno wanna go to work  HANGOVERS SUCKKKKKK Im a drunk mess!\"\n",
    "print(st)\n",
    "print(preprocessing(st))"
   ]
  },
  {
   "cell_type": "code",
   "execution_count": 13,
   "metadata": {
    "ExecuteTime": {
     "end_time": "2020-04-15T05:06:16.618892Z",
     "start_time": "2020-04-15T05:06:16.611952Z"
    }
   },
   "outputs": [],
   "source": [
    "TEXT = data.Field(batch_first=True,\n",
    "                 tokenize=mytokenizer)\n",
    "SELECTED_TEXT = data.Field(batch_first=True,\n",
    "                 tokenize=mytokenizer)\n",
    "LABEL = data.LabelField(dtype=torch.float)"
   ]
  },
  {
   "cell_type": "code",
   "execution_count": 14,
   "metadata": {
    "ExecuteTime": {
     "end_time": "2020-04-15T05:06:18.687382Z",
     "start_time": "2020-04-15T05:06:16.620881Z"
    }
   },
   "outputs": [
    {
     "name": "stdout",
     "output_type": "stream",
     "text": [
      "Number of training samples: 27481\n",
      "Number of validating samples: 3534\n"
     ]
    }
   ],
   "source": [
    "FIELDS = [[\"ID\", None],[\"text\",TEXT],[\"selected\",SELECTED_TEXT], [\"label\",LABEL]]\n",
    "TEST_FIELDS = [[\"ID\", None],[\"text\",TEXT] , [\"label\",LABEL]]\n",
    "\n",
    "trainset = data.TabularDataset(DATA_DIR[\"train\"],\n",
    "                             format = \"csv\",\n",
    "                             fields = FIELDS,\n",
    "                            skip_header = True)\n",
    "\n",
    "valset = data.TabularDataset(DATA_DIR[\"test\"],\n",
    "                             format = \"csv\",\n",
    "                             fields = TEST_FIELDS,\n",
    "                            skip_header = True)\n",
    "\n",
    "print(f\"Number of training samples: {len(trainset)}\")\n",
    "print(f\"Number of validating samples: {len(valset)}\")"
   ]
  },
  {
   "cell_type": "code",
   "execution_count": 15,
   "metadata": {
    "ExecuteTime": {
     "end_time": "2020-04-15T05:06:19.428371Z",
     "start_time": "2020-04-15T05:06:18.688388Z"
    }
   },
   "outputs": [
    {
     "name": "stdout",
     "output_type": "stream",
     "text": [
      "Unique words in training set: 22809\n",
      "Unique labels in training set: 3\n"
     ]
    }
   ],
   "source": [
    "TEXT.build_vocab(trainset,\n",
    "                vectors = \"glove.6B.100d\",\n",
    "                unk_init = torch.Tensor.normal_)\n",
    "LABEL.build_vocab(trainset)\n",
    "SELECTED_TEXT.build_vocab(trainset)\n",
    "\n",
    "print(f\"Unique words in training set: {len(TEXT.vocab)}\")\n",
    "print(f\"Unique labels in training set: {len(LABEL.vocab)}\")"
   ]
  },
  {
   "cell_type": "code",
   "execution_count": 16,
   "metadata": {
    "ExecuteTime": {
     "end_time": "2020-04-15T05:06:19.433357Z",
     "start_time": "2020-04-15T05:06:19.429376Z"
    }
   },
   "outputs": [],
   "source": [
    "BATCH_SIZE = 64\n",
    "\n",
    "train_iter = data.BucketIterator(trainset,\n",
    "                                batch_size=BATCH_SIZE,\n",
    "                                device = device)\n",
    "\n",
    "val_iter = data.BucketIterator(valset,\n",
    "                                batch_size=BATCH_SIZE,\n",
    "                                device = device)"
   ]
  },
  {
   "cell_type": "code",
   "execution_count": 17,
   "metadata": {
    "ExecuteTime": {
     "end_time": "2020-04-15T05:06:19.443331Z",
     "start_time": "2020-04-15T05:06:19.434383Z"
    }
   },
   "outputs": [],
   "source": [
    "class CNN(nn.Module):\n",
    "    def __init__(self, vocab_size, embedding_dim, n_filters, filter_sizes, output_dim, \n",
    "                 dropout, pad_idx):\n",
    "    \n",
    "        super().__init__()     \n",
    "        self.embedding = nn.Embedding(vocab_size, embedding_dim, padding_idx = pad_idx)\n",
    "        self.convs = nn.ModuleList([\n",
    "                                    nn.Conv2d(in_channels = 1, \n",
    "                                              out_channels = n_filters, \n",
    "                                              kernel_size = (fs, embedding_dim)) \n",
    "                                    for fs in filter_sizes\n",
    "                                    ])\n",
    "        self.fc = nn.Linear(len(filter_sizes) * n_filters, output_dim)\n",
    "        self.dropout = nn.Dropout(dropout)\n",
    "        \n",
    "    def forward(self, text):\n",
    "                \n",
    "        #text = [batch size, sent len]\n",
    "        embedded = self.embedding(text)   \n",
    "        \n",
    "        #embedded = [batch size, sent len, emb dim]\n",
    "        embedded = embedded.unsqueeze(1)\n",
    "        #embedded = [batch size, 1, sent len, emb dim]\n",
    "        \n",
    "        conved = [F.relu(conv(embedded)).squeeze(3) for conv in self.convs] \n",
    "        #conved_n = [batch size, n_filters, sent len - filter_sizes[n] + 1]\n",
    "                \n",
    "        pooled = [F.max_pool1d(conv, conv.shape[2]).squeeze(2) for conv in conved]\n",
    "        #pooled_n = [batch size, n_filters]\n",
    "        \n",
    "        cat = self.dropout(torch.cat(pooled, dim = 1))\n",
    "        #cat = [batch size, n_filters * len(filter_sizes)]\n",
    "            \n",
    "        return self.fc(cat)"
   ]
  },
  {
   "cell_type": "code",
   "execution_count": 18,
   "metadata": {
    "ExecuteTime": {
     "end_time": "2020-04-15T05:06:20.711099Z",
     "start_time": "2020-04-15T05:06:19.444361Z"
    }
   },
   "outputs": [
    {
     "name": "stdout",
     "output_type": "stream",
     "text": [
      "CNN(\n",
      "  (embedding): Embedding(22809, 100, padding_idx=1)\n",
      "  (convs): ModuleList(\n",
      "    (0): Conv2d(1, 100, kernel_size=(3, 100), stride=(1, 1))\n",
      "    (1): Conv2d(1, 100, kernel_size=(4, 100), stride=(1, 1))\n",
      "    (2): Conv2d(1, 100, kernel_size=(5, 100), stride=(1, 1))\n",
      "  )\n",
      "  (fc): Linear(in_features=300, out_features=3, bias=True)\n",
      "  (dropout): Dropout(p=0.5, inplace=False)\n",
      ")\n"
     ]
    }
   ],
   "source": [
    "INPUT_DIM = len(TEXT.vocab)\n",
    "EMBEDDING_DIM = 100\n",
    "N_FILTERS = 100\n",
    "FILTER_SIZES = [3,4,5]\n",
    "OUTPUT_DIM = 3\n",
    "DROPOUT = 0.5\n",
    "PAD_IDX = TEXT.vocab.stoi[TEXT.pad_token]\n",
    "UNK_IDX = TEXT.vocab.stoi[TEXT.unk_token]\n",
    "\n",
    "model = CNN(INPUT_DIM, EMBEDDING_DIM, N_FILTERS, FILTER_SIZES, OUTPUT_DIM, DROPOUT, PAD_IDX)\n",
    "\n",
    "model = model.to(device)\n",
    "optimizer = torch.optim.Adam(model.parameters(), lr = 1e-4,weight_decay=1e-4)\n",
    "criterion = nn.CrossEntropyLoss()\n",
    "print(model)"
   ]
  },
  {
   "cell_type": "code",
   "execution_count": 19,
   "metadata": {
    "ExecuteTime": {
     "end_time": "2020-04-15T05:06:20.716089Z",
     "start_time": "2020-04-15T05:06:20.712072Z"
    }
   },
   "outputs": [
    {
     "name": "stdout",
     "output_type": "stream",
     "text": [
      "The model has 2,402,103 trainable parameters\n"
     ]
    }
   ],
   "source": [
    "def count_parameters(model):\n",
    "    return sum(p.numel() for p in model.parameters() if p.requires_grad)\n",
    "\n",
    "print(f'The model has {count_parameters(model):,} trainable parameters')"
   ]
  },
  {
   "cell_type": "code",
   "execution_count": 20,
   "metadata": {
    "ExecuteTime": {
     "end_time": "2020-04-15T05:06:20.729034Z",
     "start_time": "2020-04-15T05:06:20.717058Z"
    }
   },
   "outputs": [],
   "source": [
    "pretrained_embeddings = TEXT.vocab.vectors\n",
    "model.embedding.weight.data.copy_(pretrained_embeddings)\n",
    "model.embedding.weight.data[UNK_IDX] = torch.zeros(EMBEDDING_DIM)\n",
    "model.embedding.weight.data[PAD_IDX] = torch.zeros(EMBEDDING_DIM)"
   ]
  },
  {
   "cell_type": "code",
   "execution_count": 21,
   "metadata": {
    "ExecuteTime": {
     "end_time": "2020-04-15T05:06:20.736008Z",
     "start_time": "2020-04-15T05:06:20.731022Z"
    }
   },
   "outputs": [],
   "source": [
    "def calc_accuracy(outputs, labels):\n",
    "    predictions = torch.max(outputs, 1)[1]\n",
    "    correct = (predictions == labels)\n",
    "    acc = correct.sum()  *1.0 / len(correct)\n",
    "    return acc"
   ]
  },
  {
   "cell_type": "code",
   "execution_count": 22,
   "metadata": {
    "ExecuteTime": {
     "end_time": "2020-04-15T05:06:20.745009Z",
     "start_time": "2020-04-15T05:06:20.738003Z"
    }
   },
   "outputs": [],
   "source": [
    "from tqdm.notebook import tqdm\n",
    "def train_step(model, optimizer, criterion, train_iter):\n",
    "    model.train()\n",
    "    loss_epoch = 0\n",
    "    acc_epoch = 0\n",
    "    for batch in train_iter:\n",
    "    \n",
    "        batch_size = len(batch)\n",
    "        \n",
    "        optimizer.zero_grad()\n",
    "        text = batch.text.view(batch_size, -1)\n",
    "        labels = batch.label\n",
    "\n",
    "        outputs = model(text)\n",
    "        loss = criterion(outputs,labels.long())\n",
    "        \n",
    "        loss_epoch += loss.item()\n",
    "        acc_epoch += calc_accuracy(outputs, labels)\n",
    "        \n",
    "        loss.backward()\n",
    "        optimizer.step()\n",
    "    \n",
    "    return loss_epoch / len(train_iter) , acc_epoch / len(train_iter)"
   ]
  },
  {
   "cell_type": "code",
   "execution_count": 23,
   "metadata": {
    "ExecuteTime": {
     "end_time": "2020-04-15T05:06:20.751966Z",
     "start_time": "2020-04-15T05:06:20.745981Z"
    }
   },
   "outputs": [],
   "source": [
    "def evaluate_step(model, criterion, val_iter):\n",
    "    model.eval()\n",
    "    loss_epoch = 0\n",
    "    acc_epoch = 0\n",
    "    with torch.no_grad():\n",
    "        for batch in val_iter:\n",
    "\n",
    "            batch_size = len(batch)\n",
    "        \n",
    "            text = batch.text.view(batch_size, -1)\n",
    "            labels = batch.label\n",
    "\n",
    "            outputs = model(text)\n",
    "            loss = criterion(outputs,labels.long())\n",
    "            \n",
    "            loss_epoch += loss.item()\n",
    "            acc_epoch += calc_accuracy(outputs, labels)\n",
    "            \n",
    "    return loss_epoch / len(val_iter) , acc_epoch / len(val_iter)"
   ]
  },
  {
   "cell_type": "code",
   "execution_count": 24,
   "metadata": {
    "ExecuteTime": {
     "end_time": "2020-04-15T05:06:20.757949Z",
     "start_time": "2020-04-15T05:06:20.752963Z"
    }
   },
   "outputs": [],
   "source": [
    "loss_list = {\n",
    "    \"train\": [],\n",
    "    \"val\": []\n",
    "}\n",
    "\n",
    "acc_list = {\n",
    "    \"train\": [],\n",
    "    \"val\": []\n",
    "}"
   ]
  },
  {
   "cell_type": "code",
   "execution_count": 25,
   "metadata": {
    "ExecuteTime": {
     "end_time": "2020-04-15T05:07:26.910622Z",
     "start_time": "2020-04-15T05:06:20.758946Z"
    },
    "scrolled": true
   },
   "outputs": [
    {
     "name": "stdout",
     "output_type": "stream",
     "text": [
      "Start training...\n",
      "Epoch: [1|20]\n",
      "\t Training loss: 1.028 | Training acc: 0.489\n",
      "\t Validating loss: 0.949 | Validating acc: 0.596\n",
      "\tModel saved!\n",
      "Epoch: [2|20]\n",
      "\t Training loss: 0.908 | Training acc: 0.598\n",
      "\t Validating loss: 0.842 | Validating acc: 0.643\n",
      "\tModel saved!\n",
      "Epoch: [3|20]\n",
      "\t Training loss: 0.822 | Training acc: 0.650\n",
      "\t Validating loss: 0.779 | Validating acc: 0.672\n",
      "\tModel saved!\n",
      "Epoch: [4|20]\n",
      "\t Training loss: 0.772 | Training acc: 0.676\n",
      "\t Validating loss: 0.744 | Validating acc: 0.685\n",
      "\tModel saved!\n",
      "Epoch: [5|20]\n",
      "\t Training loss: 0.737 | Training acc: 0.697\n",
      "\t Validating loss: 0.724 | Validating acc: 0.692\n",
      "\tModel saved!\n",
      "Epoch: [6|20]\n",
      "\t Training loss: 0.712 | Training acc: 0.711\n",
      "\t Validating loss: 0.708 | Validating acc: 0.707\n",
      "\tModel saved!\n",
      "Epoch: [7|20]\n",
      "\t Training loss: 0.689 | Training acc: 0.721\n",
      "\t Validating loss: 0.698 | Validating acc: 0.711\n",
      "\tModel saved!\n",
      "Epoch: [8|20]\n",
      "\t Training loss: 0.671 | Training acc: 0.730\n",
      "\t Validating loss: 0.695 | Validating acc: 0.713\n",
      "\tModel saved!\n",
      "Epoch: [9|20]\n",
      "\t Training loss: 0.657 | Training acc: 0.737\n",
      "\t Validating loss: 0.685 | Validating acc: 0.715\n",
      "\tModel saved!\n",
      "Epoch: [10|20]\n",
      "\t Training loss: 0.644 | Training acc: 0.741\n",
      "\t Validating loss: 0.674 | Validating acc: 0.723\n",
      "\tModel saved!\n",
      "Epoch: [11|20]\n",
      "\t Training loss: 0.630 | Training acc: 0.750\n",
      "\t Validating loss: 0.674 | Validating acc: 0.726\n",
      "Epoch: [12|20]\n",
      "\t Training loss: 0.622 | Training acc: 0.754\n",
      "\t Validating loss: 0.668 | Validating acc: 0.723\n",
      "\tModel saved!\n",
      "Epoch: [13|20]\n",
      "\t Training loss: 0.608 | Training acc: 0.759\n",
      "\t Validating loss: 0.667 | Validating acc: 0.729\n",
      "\tModel saved!\n",
      "Epoch: [14|20]\n",
      "\t Training loss: 0.596 | Training acc: 0.765\n",
      "\t Validating loss: 0.660 | Validating acc: 0.734\n",
      "\tModel saved!\n",
      "Epoch: [15|20]\n",
      "\t Training loss: 0.585 | Training acc: 0.770\n",
      "\t Validating loss: 0.658 | Validating acc: 0.731\n",
      "\tModel saved!\n",
      "Epoch: [16|20]\n",
      "\t Training loss: 0.577 | Training acc: 0.775\n",
      "\t Validating loss: 0.662 | Validating acc: 0.730\n",
      "Epoch: [17|20]\n",
      "\t Training loss: 0.563 | Training acc: 0.779\n",
      "\t Validating loss: 0.657 | Validating acc: 0.736\n",
      "\tModel saved!\n",
      "Epoch: [18|20]\n",
      "\t Training loss: 0.550 | Training acc: 0.786\n",
      "\t Validating loss: 0.659 | Validating acc: 0.735\n",
      "Epoch: [19|20]\n",
      "\t Training loss: 0.540 | Training acc: 0.791\n",
      "\t Validating loss: 0.654 | Validating acc: 0.734\n",
      "\tModel saved!\n",
      "Epoch: [20|20]\n",
      "\t Training loss: 0.529 | Training acc: 0.798\n",
      "\t Validating loss: 0.657 | Validating acc: 0.733\n",
      "Training Completed!\n"
     ]
    }
   ],
   "source": [
    "TRAIN_DATA = 1\n",
    "if TRAIN_DATA:\n",
    "    EPOCHS = 20\n",
    "    best_val_loss = 1000\n",
    "    print(\"Start training...\")\n",
    "    \n",
    "    for epoch in range(EPOCHS):\n",
    "        train_loss, train_acc = train_step(model,optimizer, criterion, train_iter)\n",
    "        val_loss, val_acc = evaluate_step(model, criterion, val_iter)\n",
    "        \n",
    "        print(f\"Epoch: [{epoch+1}|{EPOCHS}]\")\n",
    "        print(f\"\\t Training loss: {train_loss:.3f} | Training acc: {train_acc:.3f}\")\n",
    "        print(f\"\\t Validating loss: {val_loss:.3f} | Validating acc: {val_acc:.3f}\")\n",
    "        \n",
    "        if val_loss<best_val_loss:\n",
    "            best_val_loss = val_loss\n",
    "            torch.save(model.state_dict(), \"model/modelCNN2.pt\")\n",
    "            print(\"\\tModel saved!\")\n",
    "            \n",
    "        loss_list[\"train\"].append(train_loss)\n",
    "        loss_list[\"val\"].append(val_loss)\n",
    "        acc_list[\"train\"].append(train_acc)\n",
    "        acc_list[\"val\"].append(val_acc)\n",
    "        \n",
    "    print(\"Training Completed!\")\n",
    "\n",
    "else:\n",
    "    model.load_state_dict(torch.load(\"model/modelCNN.pt\"))"
   ]
  },
  {
   "cell_type": "code",
   "execution_count": 26,
   "metadata": {
    "ExecuteTime": {
     "end_time": "2020-04-15T05:07:27.183891Z",
     "start_time": "2020-04-15T05:07:26.911623Z"
    }
   },
   "outputs": [
    {
     "data": {
      "image/png": "[encoded data removed]",
      "text/plain": [
       "<Figure size 1440x1080 with 2 Axes>"
      ]
     },
     "metadata": {
      "needs_background": "light"
     },
     "output_type": "display_data"
    }
   ],
   "source": [
    "def plot(loss_list, acc_list, EPOCHS):\n",
    "    \n",
    "    fig = plt.figure(figsize=(20,15))\n",
    "    \n",
    "    fig.add_subplot(2,1,1)\n",
    "    plt.title(\"Loss per epoch\")\n",
    "    plt.plot(range(EPOCHS), loss_list[\"train\"], label = \"Train loss\")\n",
    "    plt.plot(range(EPOCHS), loss_list[\"val\"], color = \"orange\", label = \"Validation loss\")\n",
    "    plt.legend()\n",
    "    \n",
    "    fig.add_subplot(2,1,2)\n",
    "    plt.title(\"Accuracy per epoch\")\n",
    "    plt.plot(range(EPOCHS), acc_list[\"train\"], label = \"Train accuracy\")\n",
    "    plt.plot(range(EPOCHS), acc_list[\"val\"], color = \"orange\", label = \"Validation accuracy\")\n",
    "    plt.legend()\n",
    "\n",
    "if TRAIN_DATA:\n",
    "    plot(loss_list, acc_list, EPOCHS)"
   ]
  },
  {
   "cell_type": "code",
   "execution_count": 27,
   "metadata": {
    "ExecuteTime": {
     "end_time": "2020-04-15T05:07:27.615840Z",
     "start_time": "2020-04-15T05:07:27.184889Z"
    }
   },
   "outputs": [],
   "source": [
    "import spacy\n",
    "nlp = spacy.load('en')\n",
    "\n",
    "def predict_sentiment(model, sentence, min_len = 5):\n",
    "    model.eval()\n",
    "    tokenized = mytokenizer(sentence)\n",
    "    if len(tokenized) < min_len:\n",
    "        tokenized += ['<pad>'] * (min_len - len(tokenized))\n",
    "    indexed = [TEXT.vocab.stoi[t] for t in tokenized]\n",
    "    tensor = torch.LongTensor(indexed).to(device)\n",
    "    tensor = tensor.unsqueeze(0)\n",
    "    prediction = torch.softmax(model(tensor), dim=1)\n",
    "    return prediction"
   ]
  },
  {
   "cell_type": "code",
   "execution_count": 38,
   "metadata": {
    "ExecuteTime": {
     "end_time": "2020-04-15T05:08:53.564591Z",
     "start_time": "2020-04-15T05:08:53.560602Z"
    }
   },
   "outputs": [
    {
     "name": "stdout",
     "output_type": "stream",
     "text": [
      "['*', 'sucker']\n"
     ]
    }
   ],
   "source": [
    "text = \"**** you sucker\"\n",
    "print(mytokenizer(text))"
   ]
  },
  {
   "cell_type": "code",
   "execution_count": 39,
   "metadata": {
    "ExecuteTime": {
     "end_time": "2020-04-15T05:08:55.154546Z",
     "start_time": "2020-04-15T05:08:55.147537Z"
    }
   },
   "outputs": [
    {
     "name": "stdout",
     "output_type": "stream",
     "text": [
      "tensor([[0.1050, 0.0233, 0.8716]], device='cuda:0', grad_fn=<SoftmaxBackward>)\n"
     ]
    }
   ],
   "source": [
    "print(predict_sentiment(model,text))"
   ]
  }
 ],
 "metadata": {
  "kernelspec": {
   "display_name": "nlp",
   "language": "python",
   "name": "nlp"
  },
  "language_info": {
   "codemirror_mode": {
    "name": "ipython",
    "version": 3
   },
   "file_extension": ".py",
   "mimetype": "text/x-python",
   "name": "python",
   "nbconvert_exporter": "python",
   "pygments_lexer": "ipython3",
   "version": "3.7.6"
  }
 },
 "nbformat": 4,
 "nbformat_minor": 2
}
