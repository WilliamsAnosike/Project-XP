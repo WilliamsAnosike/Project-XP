{
 "cells": [
  {
   "cell_type": "code",
   "execution_count": 1,
   "metadata": {
    "ExecuteTime": {
     "end_time": "2020-04-17T06:31:48.147428Z",
     "start_time": "2020-04-17T06:31:47.037227Z"
    }
   },
   "outputs": [],
   "source": [
    "import torch\n",
    "import torchtext\n",
    "import torch.nn as nn\n",
    "import torch.nn.functional as F\n",
    "import torchtext.data as data\n",
    "import pandas as pd\n",
    "import numpy as np\n",
    "import matplotlib.pyplot as plt\n",
    "import string\n",
    "\n",
    "import re\n",
    "from nltk.corpus import stopwords\n",
    "from nltk.stem.wordnet import WordNetLemmatizer"
   ]
  },
  {
   "cell_type": "code",
   "execution_count": 2,
   "metadata": {
    "ExecuteTime": {
     "end_time": "2020-04-17T06:31:48.176352Z",
     "start_time": "2020-04-17T06:31:48.148426Z"
    }
   },
   "outputs": [
    {
     "name": "stdout",
     "output_type": "stream",
     "text": [
      "cuda:0\n"
     ]
    }
   ],
   "source": [
    "device = torch.device(\"cuda: 0\" if torch.cuda.is_available() else \"cpu\")\n",
    "print(device)"
   ]
  },
  {
   "cell_type": "code",
   "execution_count": 3,
   "metadata": {
    "ExecuteTime": {
     "end_time": "2020-04-17T06:31:48.183333Z",
     "start_time": "2020-04-17T06:31:48.177349Z"
    }
   },
   "outputs": [],
   "source": [
    "SEED = 2020\n",
    "torch.manual_seed(SEED)\n",
    "torch.backends.cudnn.deterministic = True\n",
    "plt.rcParams.update({'font.size': 15})"
   ]
  },
  {
   "cell_type": "code",
   "execution_count": 4,
   "metadata": {
    "ExecuteTime": {
     "end_time": "2020-04-17T06:31:48.188320Z",
     "start_time": "2020-04-17T06:31:48.184330Z"
    }
   },
   "outputs": [],
   "source": [
    "DATA_DIR = {\n",
    "    \"train\": \"data/train.csv\",\n",
    "    \"train2\": \"data/train2.csv\",\n",
    "    \"test\": \"data/test.csv\"\n",
    "}"
   ]
  },
  {
   "cell_type": "code",
   "execution_count": 5,
   "metadata": {
    "ExecuteTime": {
     "end_time": "2020-04-17T06:31:48.556335Z",
     "start_time": "2020-04-17T06:31:48.189317Z"
    }
   },
   "outputs": [],
   "source": [
    "datatable = pd.read_csv(DATA_DIR[\"train\"])\n",
    "datatable2 =  pd.read_csv(DATA_DIR[\"train2\"])\n",
    "datatable = datatable.dropna()\n",
    "datatable2 = datatable2.dropna()"
   ]
  },
  {
   "cell_type": "code",
   "execution_count": 6,
   "metadata": {
    "ExecuteTime": {
     "end_time": "2020-04-17T06:31:48.571295Z",
     "start_time": "2020-04-17T06:31:48.557332Z"
    },
    "scrolled": true
   },
   "outputs": [
    {
     "data": {
      "text/html": [
       "<div>\n",
       "<style scoped>\n",
       "    .dataframe tbody tr th:only-of-type {\n",
       "        vertical-align: middle;\n",
       "    }\n",
       "\n",
       "    .dataframe tbody tr th {\n",
       "        vertical-align: top;\n",
       "    }\n",
       "\n",
       "    .dataframe thead th {\n",
       "        text-align: right;\n",
       "    }\n",
       "</style>\n",
       "<table border=\"1\" class=\"dataframe\">\n",
       "  <thead>\n",
       "    <tr style=\"text-align: right;\">\n",
       "      <th></th>\n",
       "      <th>textID</th>\n",
       "      <th>text</th>\n",
       "      <th>selected_text</th>\n",
       "      <th>sentiment</th>\n",
       "    </tr>\n",
       "  </thead>\n",
       "  <tbody>\n",
       "    <tr>\n",
       "      <th>0</th>\n",
       "      <td>cb774db0d1</td>\n",
       "      <td>I`d have responded, if I were going</td>\n",
       "      <td>I`d have responded, if I were going</td>\n",
       "      <td>neutral</td>\n",
       "    </tr>\n",
       "    <tr>\n",
       "      <th>1</th>\n",
       "      <td>549e992a42</td>\n",
       "      <td>Sooo SAD I will miss you here in San Diego!!!</td>\n",
       "      <td>Sooo SAD</td>\n",
       "      <td>negative</td>\n",
       "    </tr>\n",
       "    <tr>\n",
       "      <th>2</th>\n",
       "      <td>088c60f138</td>\n",
       "      <td>my boss is bullying me...</td>\n",
       "      <td>bullying me</td>\n",
       "      <td>negative</td>\n",
       "    </tr>\n",
       "    <tr>\n",
       "      <th>3</th>\n",
       "      <td>9642c003ef</td>\n",
       "      <td>what interview! leave me alone</td>\n",
       "      <td>leave me alone</td>\n",
       "      <td>negative</td>\n",
       "    </tr>\n",
       "    <tr>\n",
       "      <th>4</th>\n",
       "      <td>358bd9e861</td>\n",
       "      <td>Sons of ****, why couldn`t they put them on t...</td>\n",
       "      <td>Sons of ****,</td>\n",
       "      <td>negative</td>\n",
       "    </tr>\n",
       "    <tr>\n",
       "      <th>...</th>\n",
       "      <td>...</td>\n",
       "      <td>...</td>\n",
       "      <td>...</td>\n",
       "      <td>...</td>\n",
       "    </tr>\n",
       "    <tr>\n",
       "      <th>27476</th>\n",
       "      <td>4eac33d1c0</td>\n",
       "      <td>wish we could come see u on Denver  husband l...</td>\n",
       "      <td>d lost</td>\n",
       "      <td>negative</td>\n",
       "    </tr>\n",
       "    <tr>\n",
       "      <th>27477</th>\n",
       "      <td>4f4c4fc327</td>\n",
       "      <td>I`ve wondered about rake to.  The client has ...</td>\n",
       "      <td>, don`t force</td>\n",
       "      <td>negative</td>\n",
       "    </tr>\n",
       "    <tr>\n",
       "      <th>27478</th>\n",
       "      <td>f67aae2310</td>\n",
       "      <td>Yay good for both of you. Enjoy the break - y...</td>\n",
       "      <td>Yay good for both of you.</td>\n",
       "      <td>positive</td>\n",
       "    </tr>\n",
       "    <tr>\n",
       "      <th>27479</th>\n",
       "      <td>ed167662a5</td>\n",
       "      <td>But it was worth it  ****.</td>\n",
       "      <td>But it was worth it  ****.</td>\n",
       "      <td>positive</td>\n",
       "    </tr>\n",
       "    <tr>\n",
       "      <th>27480</th>\n",
       "      <td>6f7127d9d7</td>\n",
       "      <td>All this flirting going on - The ATG smiles...</td>\n",
       "      <td>All this flirting going on - The ATG smiles. Y...</td>\n",
       "      <td>neutral</td>\n",
       "    </tr>\n",
       "  </tbody>\n",
       "</table>\n",
       "<p>27480 rows × 4 columns</p>\n",
       "</div>"
      ],
      "text/plain": [
       "           textID                                               text  \\\n",
       "0      cb774db0d1                I`d have responded, if I were going   \n",
       "1      549e992a42      Sooo SAD I will miss you here in San Diego!!!   \n",
       "2      088c60f138                          my boss is bullying me...   \n",
       "3      9642c003ef                     what interview! leave me alone   \n",
       "4      358bd9e861   Sons of ****, why couldn`t they put them on t...   \n",
       "...           ...                                                ...   \n",
       "27476  4eac33d1c0   wish we could come see u on Denver  husband l...   \n",
       "27477  4f4c4fc327   I`ve wondered about rake to.  The client has ...   \n",
       "27478  f67aae2310   Yay good for both of you. Enjoy the break - y...   \n",
       "27479  ed167662a5                         But it was worth it  ****.   \n",
       "27480  6f7127d9d7     All this flirting going on - The ATG smiles...   \n",
       "\n",
       "                                           selected_text sentiment  \n",
       "0                    I`d have responded, if I were going   neutral  \n",
       "1                                               Sooo SAD  negative  \n",
       "2                                            bullying me  negative  \n",
       "3                                         leave me alone  negative  \n",
       "4                                          Sons of ****,  negative  \n",
       "...                                                  ...       ...  \n",
       "27476                                             d lost  negative  \n",
       "27477                                      , don`t force  negative  \n",
       "27478                          Yay good for both of you.  positive  \n",
       "27479                         But it was worth it  ****.  positive  \n",
       "27480  All this flirting going on - The ATG smiles. Y...   neutral  \n",
       "\n",
       "[27480 rows x 4 columns]"
      ]
     },
     "metadata": {},
     "output_type": "display_data"
    }
   ],
   "source": [
    "display(datatable)"
   ]
  },
  {
   "cell_type": "code",
   "execution_count": 7,
   "metadata": {
    "ExecuteTime": {
     "end_time": "2020-04-17T06:31:48.584260Z",
     "start_time": "2020-04-17T06:31:48.574288Z"
    }
   },
   "outputs": [
    {
     "data": {
      "text/html": [
       "<div>\n",
       "<style scoped>\n",
       "    .dataframe tbody tr th:only-of-type {\n",
       "        vertical-align: middle;\n",
       "    }\n",
       "\n",
       "    .dataframe tbody tr th {\n",
       "        vertical-align: top;\n",
       "    }\n",
       "\n",
       "    .dataframe thead th {\n",
       "        text-align: right;\n",
       "    }\n",
       "</style>\n",
       "<table border=\"1\" class=\"dataframe\">\n",
       "  <thead>\n",
       "    <tr style=\"text-align: right;\">\n",
       "      <th></th>\n",
       "      <th>id</th>\n",
       "      <th>sentiment</th>\n",
       "      <th>text</th>\n",
       "    </tr>\n",
       "  </thead>\n",
       "  <tbody>\n",
       "    <tr>\n",
       "      <th>0</th>\n",
       "      <td>5814_8</td>\n",
       "      <td>positive</td>\n",
       "      <td>With all this stuff going down at the moment w...</td>\n",
       "    </tr>\n",
       "    <tr>\n",
       "      <th>1</th>\n",
       "      <td>2381_9</td>\n",
       "      <td>positive</td>\n",
       "      <td>\\The Classic War of the Worlds\\\" by Timothy Hi...</td>\n",
       "    </tr>\n",
       "    <tr>\n",
       "      <th>2</th>\n",
       "      <td>7759_3</td>\n",
       "      <td>negative</td>\n",
       "      <td>The film starts with a manager (Nicholas Bell)...</td>\n",
       "    </tr>\n",
       "    <tr>\n",
       "      <th>3</th>\n",
       "      <td>3630_4</td>\n",
       "      <td>negative</td>\n",
       "      <td>It must be assumed that those who praised this...</td>\n",
       "    </tr>\n",
       "    <tr>\n",
       "      <th>4</th>\n",
       "      <td>9495_8</td>\n",
       "      <td>positive</td>\n",
       "      <td>Superbly trashy and wondrously unpretentious 8...</td>\n",
       "    </tr>\n",
       "    <tr>\n",
       "      <th>...</th>\n",
       "      <td>...</td>\n",
       "      <td>...</td>\n",
       "      <td>...</td>\n",
       "    </tr>\n",
       "    <tr>\n",
       "      <th>24995</th>\n",
       "      <td>3453_3</td>\n",
       "      <td>negative</td>\n",
       "      <td>It seems like more consideration has gone into...</td>\n",
       "    </tr>\n",
       "    <tr>\n",
       "      <th>24996</th>\n",
       "      <td>5064_1</td>\n",
       "      <td>negative</td>\n",
       "      <td>I don't believe they made this film. Completel...</td>\n",
       "    </tr>\n",
       "    <tr>\n",
       "      <th>24997</th>\n",
       "      <td>10905_3</td>\n",
       "      <td>negative</td>\n",
       "      <td>Guy is a loser. Can't get girls, needs to buil...</td>\n",
       "    </tr>\n",
       "    <tr>\n",
       "      <th>24998</th>\n",
       "      <td>10194_3</td>\n",
       "      <td>negative</td>\n",
       "      <td>This 30 minute documentary Buñuel made in the ...</td>\n",
       "    </tr>\n",
       "    <tr>\n",
       "      <th>24999</th>\n",
       "      <td>8478_8</td>\n",
       "      <td>positive</td>\n",
       "      <td>I saw this movie as a child and it broke my he...</td>\n",
       "    </tr>\n",
       "  </tbody>\n",
       "</table>\n",
       "<p>25000 rows × 3 columns</p>\n",
       "</div>"
      ],
      "text/plain": [
       "            id sentiment                                               text\n",
       "0       5814_8  positive  With all this stuff going down at the moment w...\n",
       "1       2381_9  positive  \\The Classic War of the Worlds\\\" by Timothy Hi...\n",
       "2       7759_3  negative  The film starts with a manager (Nicholas Bell)...\n",
       "3       3630_4  negative  It must be assumed that those who praised this...\n",
       "4       9495_8  positive  Superbly trashy and wondrously unpretentious 8...\n",
       "...        ...       ...                                                ...\n",
       "24995   3453_3  negative  It seems like more consideration has gone into...\n",
       "24996   5064_1  negative  I don't believe they made this film. Completel...\n",
       "24997  10905_3  negative  Guy is a loser. Can't get girls, needs to buil...\n",
       "24998  10194_3  negative  This 30 minute documentary Buñuel made in the ...\n",
       "24999   8478_8  positive  I saw this movie as a child and it broke my he...\n",
       "\n",
       "[25000 rows x 3 columns]"
      ]
     },
     "metadata": {},
     "output_type": "display_data"
    }
   ],
   "source": [
    "display(datatable2)"
   ]
  },
  {
   "cell_type": "code",
   "execution_count": 8,
   "metadata": {
    "ExecuteTime": {
     "end_time": "2020-04-17T06:31:48.757796Z",
     "start_time": "2020-04-17T06:31:48.585257Z"
    }
   },
   "outputs": [
    {
     "data": {
      "image/png": "[encoded data removed]",
      "text/plain": [
       "<Figure size 432x288 with 1 Axes>"
      ]
     },
     "metadata": {
      "needs_background": "light"
     },
     "output_type": "display_data"
    },
    {
     "data": {
      "image/png": "[encoded data removed]",
      "text/plain": [
       "<Figure size 432x288 with 1 Axes>"
      ]
     },
     "metadata": {
      "needs_background": "light"
     },
     "output_type": "display_data"
    }
   ],
   "source": [
    "def label_count(datatable,title):\n",
    "    \n",
    "    sentiment_count = {\n",
    "    \"neg\": len(datatable[datatable[\"sentiment\"] == \"negative\"]),\n",
    "    \"neu\": len(datatable[datatable[\"sentiment\"] == \"neutral\"]),\n",
    "    \"pos:\": len(datatable[datatable[\"sentiment\"] == \"positive\"])\n",
    "}\n",
    "\n",
    "    sentiment = [i for i in sentiment_count.keys()]\n",
    "    count = [i for i in sentiment_count.values()]\n",
    "    plt.bar(sentiment, count)\n",
    "    plt.title(title)\n",
    "    plt.show()\n",
    "    \n",
    "label_count(datatable,\"Tweets\")\n",
    "label_count(datatable2,\"IMDB Reviews\")"
   ]
  },
  {
   "cell_type": "code",
   "execution_count": 9,
   "metadata": {
    "ExecuteTime": {
     "end_time": "2020-04-17T06:31:49.199643Z",
     "start_time": "2020-04-17T06:31:48.758793Z"
    },
    "scrolled": false
   },
   "outputs": [
    {
     "data": {
      "image/png": "[encoded data removed]",
      "text/plain": [
       "<Figure size 720x1080 with 4 Axes>"
      ]
     },
     "metadata": {
      "needs_background": "light"
     },
     "output_type": "display_data"
    }
   ],
   "source": [
    "def visualize_top_k(datatable, title, k = 10):\n",
    "    \n",
    "    positive_rows = datatable[datatable[\"sentiment\"] == \"positive\"][\"text\"]\n",
    "    negative_rows = datatable[datatable[\"sentiment\"] == \"negative\"][\"text\"]\n",
    "    neutral_rows = datatable[datatable[\"sentiment\"] == \"neutral\"][\"text\"]\n",
    "    \n",
    "    def build_vocab(rows):\n",
    "        def sort_dict(d):\n",
    "            result = {k: v for k, v in sorted(d.items(), key=lambda item: item[1], reverse=True)}\n",
    "            return result\n",
    "        vocab_dict = {}\n",
    "        for i in rows:\n",
    "            k = str.split(i)\n",
    "            for j in k:\n",
    "                vocab_dict[j] = 1 if j not in vocab_dict else vocab_dict[j]+1\n",
    "        vocab_dict = sort_dict(vocab_dict)\n",
    "        return vocab_dict\n",
    "    \n",
    "    vocab_dict = {\n",
    "        \"pos\" : build_vocab(positive_rows),\n",
    "        \"neg\": build_vocab(negative_rows),\n",
    "        \"neu\": build_vocab(neutral_rows)\n",
    "    }\n",
    "    \n",
    "    \n",
    "    def get_top_k(vocab_dict, k=10):\n",
    "        top_k_x = [i for i in vocab_dict.keys()]\n",
    "        top_k_y = [i for i in vocab_dict.values()]\n",
    "        return top_k_x[:k],top_k_y[:k]\n",
    "    \n",
    "    top_k = {\n",
    "        \"pos\": get_top_k(vocab_dict[\"pos\"],k),\n",
    "        \"neg\": get_top_k(vocab_dict[\"neg\"],k),\n",
    "        \"neu\": get_top_k(vocab_dict[\"neu\"],k)\n",
    "    }\n",
    "    \n",
    "    fig = plt.figure(figsize=(10,15))\n",
    "    plt.title(title)\n",
    "    for idx,i in enumerate([\"pos\", \"neg\", \"neu\"]):\n",
    "        fig.add_subplot(3,1,idx+1)\n",
    "        plt.title(i)\n",
    "        plt.bar(*top_k[i], width=0.3)\n",
    "        \n",
    "    \n",
    "    plt.show()\n",
    "    \n",
    "    \n",
    "visualize_top_k(datatable,\"Tweets\",5)\n"
   ]
  },
  {
   "cell_type": "code",
   "execution_count": 10,
   "metadata": {
    "ExecuteTime": {
     "end_time": "2020-04-17T06:31:51.130448Z",
     "start_time": "2020-04-17T06:31:49.200612Z"
    },
    "scrolled": true
   },
   "outputs": [
    {
     "data": {
      "image/png": "[encoded data removed]",
      "text/plain": [
       "<Figure size 720x1080 with 4 Axes>"
      ]
     },
     "metadata": {
      "needs_background": "light"
     },
     "output_type": "display_data"
    }
   ],
   "source": [
    "visualize_top_k(datatable2,\"IMDB Reviews\", 5)"
   ]
  },
  {
   "cell_type": "code",
   "execution_count": 11,
   "metadata": {
    "ExecuteTime": {
     "end_time": "2020-04-17T06:31:52.493151Z",
     "start_time": "2020-04-17T06:31:51.131451Z"
    }
   },
   "outputs": [
    {
     "name": "stdout",
     "output_type": "stream",
     "text": [
      "Maximum length that a single input can have using this model: 512 words\n"
     ]
    }
   ],
   "source": [
    "from transformers import BertTokenizer\n",
    "\n",
    "tokenizer = BertTokenizer.from_pretrained('bert-base-uncased')\n",
    "max_input_length = tokenizer.max_model_input_sizes['bert-base-uncased'] \n",
    "print(f\"Maximum length that a single input can have using this model: {max_input_length} words\")"
   ]
  },
  {
   "cell_type": "code",
   "execution_count": 12,
   "metadata": {
    "ExecuteTime": {
     "end_time": "2020-04-17T06:31:52.498138Z",
     "start_time": "2020-04-17T06:31:52.494149Z"
    }
   },
   "outputs": [],
   "source": [
    "# Using inititated tokens from transformers\n",
    "init_token_idx = tokenizer.cls_token_id\n",
    "eos_token_idx = tokenizer.sep_token_id\n",
    "pad_token_idx = tokenizer.pad_token_id\n",
    "unk_token_idx = tokenizer.unk_token_id"
   ]
  },
  {
   "cell_type": "code",
   "execution_count": 13,
   "metadata": {
    "ExecuteTime": {
     "end_time": "2020-04-17T06:31:53.259243Z",
     "start_time": "2020-04-17T06:31:52.499140Z"
    }
   },
   "outputs": [],
   "source": [
    "punctuations = string.punctuation.replace(\"*\",\"\")\n",
    "stopwords_list = stopwords.words(\"english\")\n",
    "spacy_tokenizer = torchtext.data.utils.get_tokenizer('spacy')\n",
    "\n",
    "def preprocessing(text):\n",
    "  \n",
    "    def remove_punctuations(sentence):\n",
    "        result = \"\".join([w if w not in punctuations and not w.isdigit() else \" \" for w in sentence])\n",
    "        return result\n",
    "    \n",
    "    def word_lowercase(sentence):\n",
    "        return sentence.lower()\n",
    "    \n",
    "    def remove_URL(text):\n",
    "        url = re.compile(r'https?://\\S+|www\\.\\S+')\n",
    "        html=re.compile(r'<.*?>')\n",
    "        text = html.sub(r'',text)\n",
    "        text = url.sub(r'',str(text))\n",
    "        return text \n",
    "    \n",
    "    def convert_consecutive(sentence):\n",
    "        consecutive = re.compile(r'(.)\\1\\1+')\n",
    "        sentence = consecutive.sub(r\"\\1\",sentence)\n",
    "        return sentence\n",
    "    \n",
    "    def remove_newline(text):\n",
    "        return text.rstrip(\"\\n\")\n",
    "    \n",
    "    def clean(sentence):\n",
    "        result = []\n",
    "        sentence = remove_newline(sentence)\n",
    "        sentence = remove_URL(sentence)\n",
    "        sentence = convert_consecutive(sentence)\n",
    "        sentence = word_lowercase(sentence)\n",
    "        sentence = remove_punctuations(sentence)\n",
    "        return sentence\n",
    "    \n",
    " \n",
    "    text = clean(text)\n",
    "    if text == \"\" or text.isspace():\n",
    "        text = \"<unk>\"\n",
    "    return text"
   ]
  },
  {
   "cell_type": "code",
   "execution_count": 14,
   "metadata": {
    "ExecuteTime": {
     "end_time": "2020-04-17T06:31:53.265224Z",
     "start_time": "2020-04-17T06:31:53.260237Z"
    }
   },
   "outputs": [],
   "source": [
    "def mytokenizer(sentence, train = True):\n",
    "    sentence = preprocessing(sentence)\n",
    "    tokens = str.split(sentence)\n",
    "    tokens = tokens[:max_input_length-2]\n",
    "    if train:\n",
    "        tokens = [w for w in tokens if w not in stopwords_list]\n",
    "    return tokens"
   ]
  },
  {
   "cell_type": "code",
   "execution_count": 15,
   "metadata": {
    "ExecuteTime": {
     "end_time": "2020-04-17T06:31:53.271208Z",
     "start_time": "2020-04-17T06:31:53.266221Z"
    }
   },
   "outputs": [],
   "source": [
    "TEXT = data.Field(batch_first = True,\n",
    "                  use_vocab= False, # so we dont need to build vocabulary from training data\n",
    "                  tokenize = mytokenizer,\n",
    "                  preprocessing = tokenizer.convert_tokens_to_ids,\n",
    "                  init_token = init_token_idx,\n",
    "                  eos_token = eos_token_idx,\n",
    "                  pad_token = pad_token_idx,\n",
    "                  unk_token = unk_token_idx,\n",
    "                  stop_words=stopwords_list)\n",
    "\n",
    "TEXT2 = data.Field(batch_first=True,\n",
    "                 tokenize=mytokenizer)\n",
    "LABEL = data.LabelField(dtype=torch.float)\n",
    "IDS = data.LabelField()"
   ]
  },
  {
   "cell_type": "code",
   "execution_count": 16,
   "metadata": {
    "ExecuteTime": {
     "end_time": "2020-04-17T06:31:55.349648Z",
     "start_time": "2020-04-17T06:31:53.272206Z"
    }
   },
   "outputs": [
    {
     "name": "stdout",
     "output_type": "stream",
     "text": [
      "Number of training samples 1: 27481\n",
      "Number of validating samples: 3534\n",
      "Number of new training samples: 31015\n"
     ]
    }
   ],
   "source": [
    "FIELDS = [[\"ID\", None],[\"text\",TEXT],[\"selected\",TEXT2], [\"label\",LABEL]]\n",
    "#FIELDS2 = [[\"ID\",None], [\"label\", LABEL], [\"text\",TEXT]]\n",
    "\n",
    "\n",
    "TEST_FIELDS = [[\"id\", IDS],[\"text\",TEXT] , [\"label\",LABEL]]\n",
    "\n",
    "\n",
    "trainset = data.TabularDataset(DATA_DIR[\"train\"],\n",
    "                             format = \"csv\",\n",
    "                             fields = FIELDS,\n",
    "                            skip_header = True)\n",
    "\n",
    "\"\"\"trainset2 = data.TabularDataset(DATA_DIR[\"train2\"],\n",
    "                             format = \"csv\",\n",
    "                             fields = FIELDS2,\n",
    "                            skip_header = True)\"\"\"\n",
    "\n",
    "valset = data.TabularDataset(DATA_DIR[\"test\"],\n",
    "                             format = \"csv\",\n",
    "                             fields = TEST_FIELDS,\n",
    "                            skip_header = True)\n",
    "\n",
    "new_set = trainset+valset\n",
    "list_set = [x for x in new_set]\n",
    "newset = torchtext.data.Dataset(list_set,[('text',TEXT),('label',LABEL)])\n",
    "\n",
    "print(f\"Number of training samples 1: {len(trainset)}\")\n",
    "#print(f\"Number of training samples 2: {len(trainset2)}\")\n",
    "print(f\"Number of validating samples: {len(valset)}\")\n",
    "print(f\"Number of new training samples: {len(newset)}\")"
   ]
  },
  {
   "cell_type": "code",
   "execution_count": 17,
   "metadata": {
    "ExecuteTime": {
     "end_time": "2020-04-17T06:31:55.531191Z",
     "start_time": "2020-04-17T06:31:55.350645Z"
    }
   },
   "outputs": [
    {
     "name": "stdout",
     "output_type": "stream",
     "text": [
      "Unique words in training set: 30522\n",
      "Unique labels in training set: 3\n"
     ]
    }
   ],
   "source": [
    "LABEL.build_vocab(newset)\n",
    "TEXT2.build_vocab(trainset)\n",
    "IDS.build_vocab(valset)\n",
    "\n",
    "print(f\"Unique words in training set: {len(tokenizer.vocab)}\")\n",
    "print(f\"Unique labels in training set: {len(LABEL.vocab)}\")"
   ]
  },
  {
   "cell_type": "code",
   "execution_count": 18,
   "metadata": {
    "ExecuteTime": {
     "end_time": "2020-04-17T06:31:55.536180Z",
     "start_time": "2020-04-17T06:31:55.532159Z"
    }
   },
   "outputs": [],
   "source": [
    "BATCH_SIZE = 64\n",
    "\n",
    "train_iter = data.BucketIterator(trainset,\n",
    "                                batch_size=BATCH_SIZE,\n",
    "                                device = device)\n",
    "\n",
    "val_iter = data.BucketIterator(valset,\n",
    "                                batch_size=BATCH_SIZE,\n",
    "                                device = device)\n",
    "\n",
    "new_iter = data.BucketIterator(newset,\n",
    "                                batch_size=BATCH_SIZE,\n",
    "                                device = device)"
   ]
  },
  {
   "cell_type": "code",
   "execution_count": 19,
   "metadata": {
    "ExecuteTime": {
     "end_time": "2020-04-17T06:31:57.209675Z",
     "start_time": "2020-04-17T06:31:55.537147Z"
    }
   },
   "outputs": [],
   "source": [
    "# Load the pre-trained model\n",
    "from transformers import BertModel\n",
    "\n",
    "bert = BertModel.from_pretrained(\"pretrained_model/\")"
   ]
  },
  {
   "cell_type": "code",
   "execution_count": 20,
   "metadata": {
    "ExecuteTime": {
     "end_time": "2020-04-17T06:31:57.218649Z",
     "start_time": "2020-04-17T06:31:57.210669Z"
    }
   },
   "outputs": [],
   "source": [
    "class BERTGRUSentiment(nn.Module):\n",
    "    def __init__(self,\n",
    "                 bert,\n",
    "                 hidden_dim,\n",
    "                 output_dim,\n",
    "                 n_layers,\n",
    "                 bidirectional,\n",
    "                 dropout):\n",
    "        super().__init__()\n",
    "        self.bert = bert\n",
    "        embedding_dim = bert.config.to_dict()['hidden_size']\n",
    "        self.rnn = nn.GRU(embedding_dim,\n",
    "                          hidden_dim,\n",
    "                          num_layers=n_layers,\n",
    "                          bidirectional=bidirectional,\n",
    "                          batch_first=True,\n",
    "                          dropout=0 if n_layers < 2 else dropout)\n",
    "        self.out = nn.Linear(hidden_dim * 2 if bidirectional else hidden_dim, output_dim)\n",
    "        self.dropout = nn.Dropout(dropout,inplace=False)\n",
    "        \n",
    "    def forward(self, text):\n",
    "\n",
    "        # text = [batch size, sent len]\n",
    "        with torch.no_grad():\n",
    "            embedded = self.bert(text)[0]\n",
    "        # embedded = [batch size, sent len, emb dim]\n",
    "        _, hidden = self.rnn(embedded)\n",
    "        # hidden = [n layers * n directions, batch size, emb dim]\n",
    "        hidden_tmp = hidden.clone()\n",
    "        if self.rnn.bidirectional:\n",
    "            hidden = self.dropout(\n",
    "                torch.cat((hidden_tmp[-2, :, :], hidden_tmp[-1, :, :]), dim=1))\n",
    "        else:\n",
    "            hidden = self.dropout(hidden_tmp[-1, :, :])\n",
    "        # hidden = [batch size, hid dim]\n",
    "        output = self.out(hidden)\n",
    "        # output = [batch size, out dim]\n",
    "        return output"
   ]
  },
  {
   "cell_type": "code",
   "execution_count": 21,
   "metadata": {
    "ExecuteTime": {
     "end_time": "2020-04-17T06:31:59.490753Z",
     "start_time": "2020-04-17T06:31:57.222639Z"
    }
   },
   "outputs": [
    {
     "name": "stdout",
     "output_type": "stream",
     "text": [
      "BERTGRUSentiment(\n",
      "  (bert): BertModel(\n",
      "    (embeddings): BertEmbeddings(\n",
      "      (word_embeddings): Embedding(30522, 768, padding_idx=0)\n",
      "      (position_embeddings): Embedding(512, 768)\n",
      "      (token_type_embeddings): Embedding(2, 768)\n",
      "      (LayerNorm): LayerNorm((768,), eps=1e-12, elementwise_affine=True)\n",
      "      (dropout): Dropout(p=0.1, inplace=False)\n",
      "    )\n",
      "    (encoder): BertEncoder(\n",
      "      (layer): ModuleList(\n",
      "        (0): BertLayer(\n",
      "          (attention): BertAttention(\n",
      "            (self): BertSelfAttention(\n",
      "              (query): Linear(in_features=768, out_features=768, bias=True)\n",
      "              (key): Linear(in_features=768, out_features=768, bias=True)\n",
      "              (value): Linear(in_features=768, out_features=768, bias=True)\n",
      "              (dropout): Dropout(p=0.1, inplace=False)\n",
      "            )\n",
      "            (output): BertSelfOutput(\n",
      "              (dense): Linear(in_features=768, out_features=768, bias=True)\n",
      "              (LayerNorm): LayerNorm((768,), eps=1e-12, elementwise_affine=True)\n",
      "              (dropout): Dropout(p=0.1, inplace=False)\n",
      "            )\n",
      "          )\n",
      "          (intermediate): BertIntermediate(\n",
      "            (dense): Linear(in_features=768, out_features=3072, bias=True)\n",
      "          )\n",
      "          (output): BertOutput(\n",
      "            (dense): Linear(in_features=3072, out_features=768, bias=True)\n",
      "            (LayerNorm): LayerNorm((768,), eps=1e-12, elementwise_affine=True)\n",
      "            (dropout): Dropout(p=0.1, inplace=False)\n",
      "          )\n",
      "        )\n",
      "        (1): BertLayer(\n",
      "          (attention): BertAttention(\n",
      "            (self): BertSelfAttention(\n",
      "              (query): Linear(in_features=768, out_features=768, bias=True)\n",
      "              (key): Linear(in_features=768, out_features=768, bias=True)\n",
      "              (value): Linear(in_features=768, out_features=768, bias=True)\n",
      "              (dropout): Dropout(p=0.1, inplace=False)\n",
      "            )\n",
      "            (output): BertSelfOutput(\n",
      "              (dense): Linear(in_features=768, out_features=768, bias=True)\n",
      "              (LayerNorm): LayerNorm((768,), eps=1e-12, elementwise_affine=True)\n",
      "              (dropout): Dropout(p=0.1, inplace=False)\n",
      "            )\n",
      "          )\n",
      "          (intermediate): BertIntermediate(\n",
      "            (dense): Linear(in_features=768, out_features=3072, bias=True)\n",
      "          )\n",
      "          (output): BertOutput(\n",
      "            (dense): Linear(in_features=3072, out_features=768, bias=True)\n",
      "            (LayerNorm): LayerNorm((768,), eps=1e-12, elementwise_affine=True)\n",
      "            (dropout): Dropout(p=0.1, inplace=False)\n",
      "          )\n",
      "        )\n",
      "        (2): BertLayer(\n",
      "          (attention): BertAttention(\n",
      "            (self): BertSelfAttention(\n",
      "              (query): Linear(in_features=768, out_features=768, bias=True)\n",
      "              (key): Linear(in_features=768, out_features=768, bias=True)\n",
      "              (value): Linear(in_features=768, out_features=768, bias=True)\n",
      "              (dropout): Dropout(p=0.1, inplace=False)\n",
      "            )\n",
      "            (output): BertSelfOutput(\n",
      "              (dense): Linear(in_features=768, out_features=768, bias=True)\n",
      "              (LayerNorm): LayerNorm((768,), eps=1e-12, elementwise_affine=True)\n",
      "              (dropout): Dropout(p=0.1, inplace=False)\n",
      "            )\n",
      "          )\n",
      "          (intermediate): BertIntermediate(\n",
      "            (dense): Linear(in_features=768, out_features=3072, bias=True)\n",
      "          )\n",
      "          (output): BertOutput(\n",
      "            (dense): Linear(in_features=3072, out_features=768, bias=True)\n",
      "            (LayerNorm): LayerNorm((768,), eps=1e-12, elementwise_affine=True)\n",
      "            (dropout): Dropout(p=0.1, inplace=False)\n",
      "          )\n",
      "        )\n",
      "        (3): BertLayer(\n",
      "          (attention): BertAttention(\n",
      "            (self): BertSelfAttention(\n",
      "              (query): Linear(in_features=768, out_features=768, bias=True)\n",
      "              (key): Linear(in_features=768, out_features=768, bias=True)\n",
      "              (value): Linear(in_features=768, out_features=768, bias=True)\n",
      "              (dropout): Dropout(p=0.1, inplace=False)\n",
      "            )\n",
      "            (output): BertSelfOutput(\n",
      "              (dense): Linear(in_features=768, out_features=768, bias=True)\n",
      "              (LayerNorm): LayerNorm((768,), eps=1e-12, elementwise_affine=True)\n",
      "              (dropout): Dropout(p=0.1, inplace=False)\n",
      "            )\n",
      "          )\n",
      "          (intermediate): BertIntermediate(\n",
      "            (dense): Linear(in_features=768, out_features=3072, bias=True)\n",
      "          )\n",
      "          (output): BertOutput(\n",
      "            (dense): Linear(in_features=3072, out_features=768, bias=True)\n",
      "            (LayerNorm): LayerNorm((768,), eps=1e-12, elementwise_affine=True)\n",
      "            (dropout): Dropout(p=0.1, inplace=False)\n",
      "          )\n",
      "        )\n",
      "        (4): BertLayer(\n",
      "          (attention): BertAttention(\n",
      "            (self): BertSelfAttention(\n",
      "              (query): Linear(in_features=768, out_features=768, bias=True)\n",
      "              (key): Linear(in_features=768, out_features=768, bias=True)\n",
      "              (value): Linear(in_features=768, out_features=768, bias=True)\n",
      "              (dropout): Dropout(p=0.1, inplace=False)\n",
      "            )\n",
      "            (output): BertSelfOutput(\n",
      "              (dense): Linear(in_features=768, out_features=768, bias=True)\n",
      "              (LayerNorm): LayerNorm((768,), eps=1e-12, elementwise_affine=True)\n",
      "              (dropout): Dropout(p=0.1, inplace=False)\n",
      "            )\n",
      "          )\n",
      "          (intermediate): BertIntermediate(\n",
      "            (dense): Linear(in_features=768, out_features=3072, bias=True)\n",
      "          )\n",
      "          (output): BertOutput(\n",
      "            (dense): Linear(in_features=3072, out_features=768, bias=True)\n",
      "            (LayerNorm): LayerNorm((768,), eps=1e-12, elementwise_affine=True)\n",
      "            (dropout): Dropout(p=0.1, inplace=False)\n",
      "          )\n",
      "        )\n",
      "        (5): BertLayer(\n",
      "          (attention): BertAttention(\n",
      "            (self): BertSelfAttention(\n",
      "              (query): Linear(in_features=768, out_features=768, bias=True)\n",
      "              (key): Linear(in_features=768, out_features=768, bias=True)\n",
      "              (value): Linear(in_features=768, out_features=768, bias=True)\n",
      "              (dropout): Dropout(p=0.1, inplace=False)\n",
      "            )\n",
      "            (output): BertSelfOutput(\n",
      "              (dense): Linear(in_features=768, out_features=768, bias=True)\n",
      "              (LayerNorm): LayerNorm((768,), eps=1e-12, elementwise_affine=True)\n",
      "              (dropout): Dropout(p=0.1, inplace=False)\n",
      "            )\n",
      "          )\n",
      "          (intermediate): BertIntermediate(\n",
      "            (dense): Linear(in_features=768, out_features=3072, bias=True)\n",
      "          )\n",
      "          (output): BertOutput(\n",
      "            (dense): Linear(in_features=3072, out_features=768, bias=True)\n",
      "            (LayerNorm): LayerNorm((768,), eps=1e-12, elementwise_affine=True)\n",
      "            (dropout): Dropout(p=0.1, inplace=False)\n",
      "          )\n",
      "        )\n",
      "        (6): BertLayer(\n",
      "          (attention): BertAttention(\n",
      "            (self): BertSelfAttention(\n",
      "              (query): Linear(in_features=768, out_features=768, bias=True)\n",
      "              (key): Linear(in_features=768, out_features=768, bias=True)\n",
      "              (value): Linear(in_features=768, out_features=768, bias=True)\n",
      "              (dropout): Dropout(p=0.1, inplace=False)\n",
      "            )\n",
      "            (output): BertSelfOutput(\n",
      "              (dense): Linear(in_features=768, out_features=768, bias=True)\n",
      "              (LayerNorm): LayerNorm((768,), eps=1e-12, elementwise_affine=True)\n",
      "              (dropout): Dropout(p=0.1, inplace=False)\n",
      "            )\n",
      "          )\n",
      "          (intermediate): BertIntermediate(\n",
      "            (dense): Linear(in_features=768, out_features=3072, bias=True)\n",
      "          )\n",
      "          (output): BertOutput(\n",
      "            (dense): Linear(in_features=3072, out_features=768, bias=True)\n",
      "            (LayerNorm): LayerNorm((768,), eps=1e-12, elementwise_affine=True)\n",
      "            (dropout): Dropout(p=0.1, inplace=False)\n",
      "          )\n",
      "        )\n",
      "        (7): BertLayer(\n",
      "          (attention): BertAttention(\n",
      "            (self): BertSelfAttention(\n",
      "              (query): Linear(in_features=768, out_features=768, bias=True)\n",
      "              (key): Linear(in_features=768, out_features=768, bias=True)\n",
      "              (value): Linear(in_features=768, out_features=768, bias=True)\n",
      "              (dropout): Dropout(p=0.1, inplace=False)\n",
      "            )\n",
      "            (output): BertSelfOutput(\n",
      "              (dense): Linear(in_features=768, out_features=768, bias=True)\n",
      "              (LayerNorm): LayerNorm((768,), eps=1e-12, elementwise_affine=True)\n",
      "              (dropout): Dropout(p=0.1, inplace=False)\n",
      "            )\n",
      "          )\n",
      "          (intermediate): BertIntermediate(\n",
      "            (dense): Linear(in_features=768, out_features=3072, bias=True)\n",
      "          )\n",
      "          (output): BertOutput(\n",
      "            (dense): Linear(in_features=3072, out_features=768, bias=True)\n",
      "            (LayerNorm): LayerNorm((768,), eps=1e-12, elementwise_affine=True)\n",
      "            (dropout): Dropout(p=0.1, inplace=False)\n",
      "          )\n",
      "        )\n",
      "        (8): BertLayer(\n",
      "          (attention): BertAttention(\n",
      "            (self): BertSelfAttention(\n",
      "              (query): Linear(in_features=768, out_features=768, bias=True)\n",
      "              (key): Linear(in_features=768, out_features=768, bias=True)\n",
      "              (value): Linear(in_features=768, out_features=768, bias=True)\n",
      "              (dropout): Dropout(p=0.1, inplace=False)\n",
      "            )\n",
      "            (output): BertSelfOutput(\n",
      "              (dense): Linear(in_features=768, out_features=768, bias=True)\n",
      "              (LayerNorm): LayerNorm((768,), eps=1e-12, elementwise_affine=True)\n",
      "              (dropout): Dropout(p=0.1, inplace=False)\n",
      "            )\n",
      "          )\n",
      "          (intermediate): BertIntermediate(\n",
      "            (dense): Linear(in_features=768, out_features=3072, bias=True)\n",
      "          )\n",
      "          (output): BertOutput(\n",
      "            (dense): Linear(in_features=3072, out_features=768, bias=True)\n",
      "            (LayerNorm): LayerNorm((768,), eps=1e-12, elementwise_affine=True)\n",
      "            (dropout): Dropout(p=0.1, inplace=False)\n",
      "          )\n",
      "        )\n",
      "        (9): BertLayer(\n",
      "          (attention): BertAttention(\n",
      "            (self): BertSelfAttention(\n",
      "              (query): Linear(in_features=768, out_features=768, bias=True)\n",
      "              (key): Linear(in_features=768, out_features=768, bias=True)\n",
      "              (value): Linear(in_features=768, out_features=768, bias=True)\n",
      "              (dropout): Dropout(p=0.1, inplace=False)\n",
      "            )\n",
      "            (output): BertSelfOutput(\n",
      "              (dense): Linear(in_features=768, out_features=768, bias=True)\n",
      "              (LayerNorm): LayerNorm((768,), eps=1e-12, elementwise_affine=True)\n",
      "              (dropout): Dropout(p=0.1, inplace=False)\n",
      "            )\n",
      "          )\n",
      "          (intermediate): BertIntermediate(\n",
      "            (dense): Linear(in_features=768, out_features=3072, bias=True)\n",
      "          )\n",
      "          (output): BertOutput(\n",
      "            (dense): Linear(in_features=3072, out_features=768, bias=True)\n",
      "            (LayerNorm): LayerNorm((768,), eps=1e-12, elementwise_affine=True)\n",
      "            (dropout): Dropout(p=0.1, inplace=False)\n",
      "          )\n",
      "        )\n",
      "        (10): BertLayer(\n",
      "          (attention): BertAttention(\n",
      "            (self): BertSelfAttention(\n",
      "              (query): Linear(in_features=768, out_features=768, bias=True)\n",
      "              (key): Linear(in_features=768, out_features=768, bias=True)\n",
      "              (value): Linear(in_features=768, out_features=768, bias=True)\n",
      "              (dropout): Dropout(p=0.1, inplace=False)\n",
      "            )\n",
      "            (output): BertSelfOutput(\n",
      "              (dense): Linear(in_features=768, out_features=768, bias=True)\n",
      "              (LayerNorm): LayerNorm((768,), eps=1e-12, elementwise_affine=True)\n",
      "              (dropout): Dropout(p=0.1, inplace=False)\n",
      "            )\n",
      "          )\n",
      "          (intermediate): BertIntermediate(\n",
      "            (dense): Linear(in_features=768, out_features=3072, bias=True)\n",
      "          )\n",
      "          (output): BertOutput(\n",
      "            (dense): Linear(in_features=3072, out_features=768, bias=True)\n",
      "            (LayerNorm): LayerNorm((768,), eps=1e-12, elementwise_affine=True)\n",
      "            (dropout): Dropout(p=0.1, inplace=False)\n",
      "          )\n",
      "        )\n",
      "        (11): BertLayer(\n",
      "          (attention): BertAttention(\n",
      "            (self): BertSelfAttention(\n",
      "              (query): Linear(in_features=768, out_features=768, bias=True)\n",
      "              (key): Linear(in_features=768, out_features=768, bias=True)\n",
      "              (value): Linear(in_features=768, out_features=768, bias=True)\n",
      "              (dropout): Dropout(p=0.1, inplace=False)\n",
      "            )\n",
      "            (output): BertSelfOutput(\n",
      "              (dense): Linear(in_features=768, out_features=768, bias=True)\n",
      "              (LayerNorm): LayerNorm((768,), eps=1e-12, elementwise_affine=True)\n",
      "              (dropout): Dropout(p=0.1, inplace=False)\n",
      "            )\n",
      "          )\n",
      "          (intermediate): BertIntermediate(\n",
      "            (dense): Linear(in_features=768, out_features=3072, bias=True)\n",
      "          )\n",
      "          (output): BertOutput(\n",
      "            (dense): Linear(in_features=3072, out_features=768, bias=True)\n",
      "            (LayerNorm): LayerNorm((768,), eps=1e-12, elementwise_affine=True)\n",
      "            (dropout): Dropout(p=0.1, inplace=False)\n",
      "          )\n",
      "        )\n",
      "      )\n",
      "    )\n",
      "    (pooler): BertPooler(\n",
      "      (dense): Linear(in_features=768, out_features=768, bias=True)\n",
      "      (activation): Tanh()\n",
      "    )\n",
      "  )\n",
      "  (rnn): GRU(768, 256, num_layers=2, batch_first=True, dropout=0.25, bidirectional=True)\n",
      "  (out): Linear(in_features=512, out_features=3, bias=True)\n",
      "  (dropout): Dropout(p=0.25, inplace=False)\n",
      ")\n"
     ]
    }
   ],
   "source": [
    "HIDDEN_DIM = 256\n",
    "OUTPUT_DIM = 3\n",
    "N_LAYERS = 2\n",
    "BIDIRECTIONAL = True\n",
    "DROPOUT = 0.25\n",
    "\n",
    "model = BERTGRUSentiment(bert,\n",
    "                         HIDDEN_DIM,\n",
    "                         OUTPUT_DIM,\n",
    "                         N_LAYERS,\n",
    "                         BIDIRECTIONAL,\n",
    "                         DROPOUT)\n",
    "model = model.to(device)\n",
    "\n",
    "optimizer = torch.optim.Adam(model.parameters(), lr = 1e-4,weight_decay=1e-4)\n",
    "criterion = nn.CrossEntropyLoss()\n",
    "print(model)"
   ]
  },
  {
   "cell_type": "code",
   "execution_count": 22,
   "metadata": {
    "ExecuteTime": {
     "end_time": "2020-04-17T06:31:59.497736Z",
     "start_time": "2020-04-17T06:31:59.492720Z"
    }
   },
   "outputs": [
    {
     "name": "stdout",
     "output_type": "stream",
     "text": [
      "The model has 2,760,195 trainable parameters\n"
     ]
    }
   ],
   "source": [
    "# Freeze the BERT model's parameters\n",
    "for name, param in model.named_parameters():                \n",
    "    if name.startswith('bert'):\n",
    "        param.requires_grad = False\n",
    "        \n",
    "def count_parameters(model):\n",
    "    return sum(p.numel() for p in model.parameters() if p.requires_grad)\n",
    "\n",
    "print(f'The model has {count_parameters(model):,} trainable parameters')"
   ]
  },
  {
   "cell_type": "code",
   "execution_count": 23,
   "metadata": {
    "ExecuteTime": {
     "end_time": "2020-04-17T06:31:59.504687Z",
     "start_time": "2020-04-17T06:31:59.498704Z"
    }
   },
   "outputs": [],
   "source": [
    "def calc_accuracy(outputs, labels):\n",
    "    predictions = torch.max(outputs, 1)[1]\n",
    "    correct = (predictions == labels)\n",
    "    acc = correct.sum()  *1.0 / len(correct)\n",
    "    return acc"
   ]
  },
  {
   "cell_type": "code",
   "execution_count": 24,
   "metadata": {
    "ExecuteTime": {
     "end_time": "2020-04-17T06:31:59.512667Z",
     "start_time": "2020-04-17T06:31:59.505685Z"
    }
   },
   "outputs": [],
   "source": [
    "from tqdm.notebook import tqdm\n",
    "def train_step(model, optimizer, criterion, train_iter):\n",
    "    model.train()\n",
    "    loss_epoch = 0\n",
    "    acc_epoch = 0\n",
    "    for batch in tqdm(train_iter):\n",
    "    \n",
    "        batch_size = len(batch)\n",
    "        \n",
    "        optimizer.zero_grad()\n",
    "        text = batch.text.view(batch_size, -1)\n",
    "        labels = batch.label\n",
    "\n",
    "        outputs = model(text)\n",
    "        loss = criterion(outputs,labels.long())\n",
    "        \n",
    "        loss_epoch += loss.item()\n",
    "        acc_epoch += calc_accuracy(outputs, labels)\n",
    "        \n",
    "        loss.backward()\n",
    "        optimizer.step()\n",
    "    \n",
    "    return loss_epoch / len(train_iter) , acc_epoch / len(train_iter)"
   ]
  },
  {
   "cell_type": "code",
   "execution_count": 25,
   "metadata": {
    "ExecuteTime": {
     "end_time": "2020-04-17T06:31:59.522682Z",
     "start_time": "2020-04-17T06:31:59.515661Z"
    }
   },
   "outputs": [],
   "source": [
    "def evaluate_step(model, criterion, val_iter):\n",
    "    model.eval()\n",
    "    loss_epoch = 0\n",
    "    acc_epoch = 0\n",
    "    with torch.no_grad():\n",
    "        for batch in val_iter:\n",
    "\n",
    "            batch_size = len(batch)\n",
    "        \n",
    "            text = batch.text.view(batch_size, -1)\n",
    "            labels = batch.label\n",
    "\n",
    "            outputs = model(text)\n",
    "            loss = criterion(outputs,labels.long())\n",
    "            \n",
    "            loss_epoch += loss.item()\n",
    "            acc_epoch += calc_accuracy(outputs, labels)\n",
    "            \n",
    "    return loss_epoch / len(val_iter) , acc_epoch / len(val_iter)"
   ]
  },
  {
   "cell_type": "code",
   "execution_count": 26,
   "metadata": {
    "ExecuteTime": {
     "end_time": "2020-04-17T06:31:59.527654Z",
     "start_time": "2020-04-17T06:31:59.523636Z"
    }
   },
   "outputs": [],
   "source": [
    "loss_list = {\n",
    "    \"train\": [],\n",
    "    \"val\": []\n",
    "}\n",
    "\n",
    "acc_list = {\n",
    "    \"train\": [],\n",
    "    \"val\": []\n",
    "}"
   ]
  },
  {
   "cell_type": "code",
   "execution_count": 27,
   "metadata": {
    "ExecuteTime": {
     "end_time": "2020-04-17T06:56:55.718540Z",
     "start_time": "2020-04-17T06:31:59.528624Z"
    },
    "scrolled": false
   },
   "outputs": [
    {
     "name": "stdout",
     "output_type": "stream",
     "text": [
      "Start training...\n"
     ]
    },
    {
     "data": {
      "application/vnd.jupyter.widget-view+json": {
       "model_id": "90c10e54761046a7be45f70d996c7560",
       "version_major": 2,
       "version_minor": 0
      },
      "text/plain": [
       "HBox(children=(FloatProgress(value=0.0, max=430.0), HTML(value='')))"
      ]
     },
     "metadata": {},
     "output_type": "display_data"
    },
    {
     "name": "stdout",
     "output_type": "stream",
     "text": [
      "\n",
      "Epoch: [1|30]\n",
      "\t Training loss: 0.941 | Training acc: 0.544\n",
      "\t Validating loss: 0.849 | Validating acc: 0.609\n",
      "\tModel saved!\n"
     ]
    },
    {
     "data": {
      "application/vnd.jupyter.widget-view+json": {
       "model_id": "032e79923b3644bbb2b0868cf607d9c8",
       "version_major": 2,
       "version_minor": 0
      },
      "text/plain": [
       "HBox(children=(FloatProgress(value=0.0, max=430.0), HTML(value='')))"
      ]
     },
     "metadata": {},
     "output_type": "display_data"
    },
    {
     "name": "stdout",
     "output_type": "stream",
     "text": [
      "\n",
      "Epoch: [2|30]\n",
      "\t Training loss: 0.858 | Training acc: 0.609\n",
      "\t Validating loss: 0.820 | Validating acc: 0.631\n",
      "\tModel saved!\n"
     ]
    },
    {
     "data": {
      "application/vnd.jupyter.widget-view+json": {
       "model_id": "2ee1d97fad2b4f5d87ee4dc217afbad4",
       "version_major": 2,
       "version_minor": 0
      },
      "text/plain": [
       "HBox(children=(FloatProgress(value=0.0, max=430.0), HTML(value='')))"
      ]
     },
     "metadata": {},
     "output_type": "display_data"
    },
    {
     "name": "stdout",
     "output_type": "stream",
     "text": [
      "\n",
      "Epoch: [3|30]\n",
      "\t Training loss: 0.830 | Training acc: 0.627\n",
      "\t Validating loss: 0.806 | Validating acc: 0.631\n",
      "\tModel saved!\n"
     ]
    },
    {
     "data": {
      "application/vnd.jupyter.widget-view+json": {
       "model_id": "1f2576f3f7274faf9e5fc4c422446770",
       "version_major": 2,
       "version_minor": 0
      },
      "text/plain": [
       "HBox(children=(FloatProgress(value=0.0, max=430.0), HTML(value='')))"
      ]
     },
     "metadata": {},
     "output_type": "display_data"
    },
    {
     "name": "stdout",
     "output_type": "stream",
     "text": [
      "\n",
      "Epoch: [4|30]\n",
      "\t Training loss: 0.812 | Training acc: 0.634\n",
      "\t Validating loss: 0.790 | Validating acc: 0.645\n",
      "\tModel saved!\n"
     ]
    },
    {
     "data": {
      "application/vnd.jupyter.widget-view+json": {
       "model_id": "8cd611d21f324170af0f2fa4c69a37e2",
       "version_major": 2,
       "version_minor": 0
      },
      "text/plain": [
       "HBox(children=(FloatProgress(value=0.0, max=430.0), HTML(value='')))"
      ]
     },
     "metadata": {},
     "output_type": "display_data"
    },
    {
     "name": "stdout",
     "output_type": "stream",
     "text": [
      "\n",
      "Epoch: [5|30]\n",
      "\t Training loss: 0.797 | Training acc: 0.645\n",
      "\t Validating loss: 0.776 | Validating acc: 0.658\n",
      "\tModel saved!\n"
     ]
    },
    {
     "data": {
      "application/vnd.jupyter.widget-view+json": {
       "model_id": "f1bee1d2d7ea4eb68cc1ba3544f761f9",
       "version_major": 2,
       "version_minor": 0
      },
      "text/plain": [
       "HBox(children=(FloatProgress(value=0.0, max=430.0), HTML(value='')))"
      ]
     },
     "metadata": {},
     "output_type": "display_data"
    },
    {
     "name": "stdout",
     "output_type": "stream",
     "text": [
      "\n",
      "Epoch: [6|30]\n",
      "\t Training loss: 0.787 | Training acc: 0.656\n",
      "\t Validating loss: 0.763 | Validating acc: 0.666\n",
      "\tModel saved!\n"
     ]
    },
    {
     "data": {
      "application/vnd.jupyter.widget-view+json": {
       "model_id": "45c6ed2c8b7c4a578c32f24302d5bed3",
       "version_major": 2,
       "version_minor": 0
      },
      "text/plain": [
       "HBox(children=(FloatProgress(value=0.0, max=430.0), HTML(value='')))"
      ]
     },
     "metadata": {},
     "output_type": "display_data"
    },
    {
     "name": "stdout",
     "output_type": "stream",
     "text": [
      "\n",
      "Epoch: [7|30]\n",
      "\t Training loss: 0.768 | Training acc: 0.666\n",
      "\t Validating loss: 0.751 | Validating acc: 0.671\n",
      "\tModel saved!\n"
     ]
    },
    {
     "data": {
      "application/vnd.jupyter.widget-view+json": {
       "model_id": "fe8ece53915148e5b7024bd0462e1567",
       "version_major": 2,
       "version_minor": 0
      },
      "text/plain": [
       "HBox(children=(FloatProgress(value=0.0, max=430.0), HTML(value='')))"
      ]
     },
     "metadata": {},
     "output_type": "display_data"
    },
    {
     "name": "stdout",
     "output_type": "stream",
     "text": [
      "\n",
      "Epoch: [8|30]\n",
      "\t Training loss: 0.761 | Training acc: 0.669\n",
      "\t Validating loss: 0.730 | Validating acc: 0.686\n",
      "\tModel saved!\n"
     ]
    },
    {
     "data": {
      "application/vnd.jupyter.widget-view+json": {
       "model_id": "12343c098a2e43c299fb05a07cb67b1f",
       "version_major": 2,
       "version_minor": 0
      },
      "text/plain": [
       "HBox(children=(FloatProgress(value=0.0, max=430.0), HTML(value='')))"
      ]
     },
     "metadata": {},
     "output_type": "display_data"
    },
    {
     "name": "stdout",
     "output_type": "stream",
     "text": [
      "\n",
      "Epoch: [9|30]\n",
      "\t Training loss: 0.754 | Training acc: 0.673\n",
      "\t Validating loss: 0.727 | Validating acc: 0.688\n",
      "\tModel saved!\n"
     ]
    },
    {
     "data": {
      "application/vnd.jupyter.widget-view+json": {
       "model_id": "b651b7065b014018af07f8f6fdacc83c",
       "version_major": 2,
       "version_minor": 0
      },
      "text/plain": [
       "HBox(children=(FloatProgress(value=0.0, max=430.0), HTML(value='')))"
      ]
     },
     "metadata": {},
     "output_type": "display_data"
    },
    {
     "name": "stdout",
     "output_type": "stream",
     "text": [
      "\n",
      "Epoch: [10|30]\n",
      "\t Training loss: 0.741 | Training acc: 0.682\n",
      "\t Validating loss: 0.733 | Validating acc: 0.682\n"
     ]
    },
    {
     "data": {
      "application/vnd.jupyter.widget-view+json": {
       "model_id": "a0cc84c5985e496e95314f627eb9620f",
       "version_major": 2,
       "version_minor": 0
      },
      "text/plain": [
       "HBox(children=(FloatProgress(value=0.0, max=430.0), HTML(value='')))"
      ]
     },
     "metadata": {},
     "output_type": "display_data"
    },
    {
     "name": "stdout",
     "output_type": "stream",
     "text": [
      "\n",
      "Epoch: [11|30]\n",
      "\t Training loss: 0.734 | Training acc: 0.683\n",
      "\t Validating loss: 0.734 | Validating acc: 0.679\n"
     ]
    },
    {
     "data": {
      "application/vnd.jupyter.widget-view+json": {
       "model_id": "876856c05f864e69a4949940ae291044",
       "version_major": 2,
       "version_minor": 0
      },
      "text/plain": [
       "HBox(children=(FloatProgress(value=0.0, max=430.0), HTML(value='')))"
      ]
     },
     "metadata": {},
     "output_type": "display_data"
    },
    {
     "name": "stdout",
     "output_type": "stream",
     "text": [
      "\n",
      "Epoch: [12|30]\n",
      "\t Training loss: 0.728 | Training acc: 0.691\n",
      "\t Validating loss: 0.711 | Validating acc: 0.695\n",
      "\tModel saved!\n"
     ]
    },
    {
     "data": {
      "application/vnd.jupyter.widget-view+json": {
       "model_id": "b24680dce207459d9c04a9a8ceb3fb3e",
       "version_major": 2,
       "version_minor": 0
      },
      "text/plain": [
       "HBox(children=(FloatProgress(value=0.0, max=430.0), HTML(value='')))"
      ]
     },
     "metadata": {},
     "output_type": "display_data"
    },
    {
     "name": "stdout",
     "output_type": "stream",
     "text": [
      "\n",
      "Epoch: [13|30]\n",
      "\t Training loss: 0.723 | Training acc: 0.692\n",
      "\t Validating loss: 0.735 | Validating acc: 0.685\n"
     ]
    },
    {
     "data": {
      "application/vnd.jupyter.widget-view+json": {
       "model_id": "410a39949de04476814a897dfc348019",
       "version_major": 2,
       "version_minor": 0
      },
      "text/plain": [
       "HBox(children=(FloatProgress(value=0.0, max=430.0), HTML(value='')))"
      ]
     },
     "metadata": {},
     "output_type": "display_data"
    },
    {
     "name": "stdout",
     "output_type": "stream",
     "text": [
      "\n",
      "Epoch: [14|30]\n",
      "\t Training loss: 0.712 | Training acc: 0.696\n",
      "\t Validating loss: 0.703 | Validating acc: 0.703\n",
      "\tModel saved!\n"
     ]
    },
    {
     "data": {
      "application/vnd.jupyter.widget-view+json": {
       "model_id": "4aac73baa63044338473b61461afdc1c",
       "version_major": 2,
       "version_minor": 0
      },
      "text/plain": [
       "HBox(children=(FloatProgress(value=0.0, max=430.0), HTML(value='')))"
      ]
     },
     "metadata": {},
     "output_type": "display_data"
    },
    {
     "name": "stdout",
     "output_type": "stream",
     "text": [
      "\n",
      "Epoch: [15|30]\n",
      "\t Training loss: 0.705 | Training acc: 0.702\n",
      "\t Validating loss: 0.732 | Validating acc: 0.680\n"
     ]
    },
    {
     "data": {
      "application/vnd.jupyter.widget-view+json": {
       "model_id": "f7624e3c8b2d4657ac238633302dde4c",
       "version_major": 2,
       "version_minor": 0
      },
      "text/plain": [
       "HBox(children=(FloatProgress(value=0.0, max=430.0), HTML(value='')))"
      ]
     },
     "metadata": {},
     "output_type": "display_data"
    },
    {
     "name": "stdout",
     "output_type": "stream",
     "text": [
      "\n",
      "Epoch: [16|30]\n",
      "\t Training loss: 0.699 | Training acc: 0.704\n",
      "\t Validating loss: 0.698 | Validating acc: 0.701\n",
      "\tModel saved!\n"
     ]
    },
    {
     "data": {
      "application/vnd.jupyter.widget-view+json": {
       "model_id": "209c1db40b904e49b810bb85b71dd4d0",
       "version_major": 2,
       "version_minor": 0
      },
      "text/plain": [
       "HBox(children=(FloatProgress(value=0.0, max=430.0), HTML(value='')))"
      ]
     },
     "metadata": {},
     "output_type": "display_data"
    },
    {
     "name": "stdout",
     "output_type": "stream",
     "text": [
      "\n",
      "Epoch: [17|30]\n",
      "\t Training loss: 0.689 | Training acc: 0.709\n",
      "\t Validating loss: 0.702 | Validating acc: 0.705\n"
     ]
    },
    {
     "data": {
      "application/vnd.jupyter.widget-view+json": {
       "model_id": "a2da5f32fd714bfb8c7d45d1a3e3ec54",
       "version_major": 2,
       "version_minor": 0
      },
      "text/plain": [
       "HBox(children=(FloatProgress(value=0.0, max=430.0), HTML(value='')))"
      ]
     },
     "metadata": {},
     "output_type": "display_data"
    },
    {
     "name": "stdout",
     "output_type": "stream",
     "text": [
      "\n",
      "Epoch: [18|30]\n",
      "\t Training loss: 0.686 | Training acc: 0.711\n",
      "\t Validating loss: 0.702 | Validating acc: 0.712\n"
     ]
    },
    {
     "data": {
      "application/vnd.jupyter.widget-view+json": {
       "model_id": "c7e0069f50624ec9ab1e033da1e36f10",
       "version_major": 2,
       "version_minor": 0
      },
      "text/plain": [
       "HBox(children=(FloatProgress(value=0.0, max=430.0), HTML(value='')))"
      ]
     },
     "metadata": {},
     "output_type": "display_data"
    },
    {
     "name": "stdout",
     "output_type": "stream",
     "text": [
      "\n",
      "Epoch: [19|30]\n",
      "\t Training loss: 0.683 | Training acc: 0.713\n",
      "\t Validating loss: 0.701 | Validating acc: 0.708\n"
     ]
    },
    {
     "data": {
      "application/vnd.jupyter.widget-view+json": {
       "model_id": "4cc36297229248bc9dd7b72b5c369dba",
       "version_major": 2,
       "version_minor": 0
      },
      "text/plain": [
       "HBox(children=(FloatProgress(value=0.0, max=430.0), HTML(value='')))"
      ]
     },
     "metadata": {},
     "output_type": "display_data"
    },
    {
     "name": "stdout",
     "output_type": "stream",
     "text": [
      "\n",
      "Epoch: [20|30]\n",
      "\t Training loss: 0.676 | Training acc: 0.714\n",
      "\t Validating loss: 0.731 | Validating acc: 0.694\n"
     ]
    },
    {
     "data": {
      "application/vnd.jupyter.widget-view+json": {
       "model_id": "f6d1cb7b094a4c55bd6f66665fb3c41d",
       "version_major": 2,
       "version_minor": 0
      },
      "text/plain": [
       "HBox(children=(FloatProgress(value=0.0, max=430.0), HTML(value='')))"
      ]
     },
     "metadata": {},
     "output_type": "display_data"
    },
    {
     "name": "stdout",
     "output_type": "stream",
     "text": [
      "\n",
      "Epoch: [21|30]\n",
      "\t Training loss: 0.668 | Training acc: 0.718\n",
      "\t Validating loss: 0.694 | Validating acc: 0.715\n",
      "\tModel saved!\n"
     ]
    },
    {
     "data": {
      "application/vnd.jupyter.widget-view+json": {
       "model_id": "a44beae63cf040a480acb9f1bae3b771",
       "version_major": 2,
       "version_minor": 0
      },
      "text/plain": [
       "HBox(children=(FloatProgress(value=0.0, max=430.0), HTML(value='')))"
      ]
     },
     "metadata": {},
     "output_type": "display_data"
    },
    {
     "name": "stdout",
     "output_type": "stream",
     "text": [
      "\n",
      "Epoch: [22|30]\n",
      "\t Training loss: 0.665 | Training acc: 0.723\n",
      "\t Validating loss: 0.717 | Validating acc: 0.705\n"
     ]
    },
    {
     "data": {
      "application/vnd.jupyter.widget-view+json": {
       "model_id": "947b929d37a54f778a315b1059351919",
       "version_major": 2,
       "version_minor": 0
      },
      "text/plain": [
       "HBox(children=(FloatProgress(value=0.0, max=430.0), HTML(value='')))"
      ]
     },
     "metadata": {},
     "output_type": "display_data"
    },
    {
     "name": "stdout",
     "output_type": "stream",
     "text": [
      "\n",
      "Epoch: [23|30]\n",
      "\t Training loss: 0.663 | Training acc: 0.724\n",
      "\t Validating loss: 0.707 | Validating acc: 0.705\n"
     ]
    },
    {
     "data": {
      "application/vnd.jupyter.widget-view+json": {
       "model_id": "b0c3f252580840d3af51a8748a233859",
       "version_major": 2,
       "version_minor": 0
      },
      "text/plain": [
       "HBox(children=(FloatProgress(value=0.0, max=430.0), HTML(value='')))"
      ]
     },
     "metadata": {},
     "output_type": "display_data"
    },
    {
     "name": "stdout",
     "output_type": "stream",
     "text": [
      "\n",
      "Epoch: [24|30]\n",
      "\t Training loss: 0.654 | Training acc: 0.726\n",
      "\t Validating loss: 0.706 | Validating acc: 0.711\n"
     ]
    },
    {
     "data": {
      "application/vnd.jupyter.widget-view+json": {
       "model_id": "38b9af9bdd7f46e388b6a54c6f88957b",
       "version_major": 2,
       "version_minor": 0
      },
      "text/plain": [
       "HBox(children=(FloatProgress(value=0.0, max=430.0), HTML(value='')))"
      ]
     },
     "metadata": {},
     "output_type": "display_data"
    },
    {
     "name": "stdout",
     "output_type": "stream",
     "text": [
      "\n",
      "Epoch: [25|30]\n",
      "\t Training loss: 0.647 | Training acc: 0.733\n",
      "\t Validating loss: 0.702 | Validating acc: 0.711\n"
     ]
    },
    {
     "data": {
      "application/vnd.jupyter.widget-view+json": {
       "model_id": "1e380f30e52d44ccb3bf400a9e9fa981",
       "version_major": 2,
       "version_minor": 0
      },
      "text/plain": [
       "HBox(children=(FloatProgress(value=0.0, max=430.0), HTML(value='')))"
      ]
     },
     "metadata": {},
     "output_type": "display_data"
    },
    {
     "name": "stdout",
     "output_type": "stream",
     "text": [
      "\n",
      "Epoch: [26|30]\n",
      "\t Training loss: 0.641 | Training acc: 0.732\n",
      "\t Validating loss: 0.697 | Validating acc: 0.710\n"
     ]
    },
    {
     "data": {
      "application/vnd.jupyter.widget-view+json": {
       "model_id": "16c224be4edd479684d978d58548b447",
       "version_major": 2,
       "version_minor": 0
      },
      "text/plain": [
       "HBox(children=(FloatProgress(value=0.0, max=430.0), HTML(value='')))"
      ]
     },
     "metadata": {},
     "output_type": "display_data"
    },
    {
     "name": "stdout",
     "output_type": "stream",
     "text": [
      "\n",
      "Epoch: [27|30]\n",
      "\t Training loss: 0.635 | Training acc: 0.735\n",
      "\t Validating loss: 0.710 | Validating acc: 0.701\n"
     ]
    },
    {
     "data": {
      "application/vnd.jupyter.widget-view+json": {
       "model_id": "c196dca3a629450ca1c1a9b8acb61125",
       "version_major": 2,
       "version_minor": 0
      },
      "text/plain": [
       "HBox(children=(FloatProgress(value=0.0, max=430.0), HTML(value='')))"
      ]
     },
     "metadata": {},
     "output_type": "display_data"
    },
    {
     "name": "stdout",
     "output_type": "stream",
     "text": [
      "\n",
      "Epoch: [28|30]\n",
      "\t Training loss: 0.632 | Training acc: 0.735\n",
      "\t Validating loss: 0.704 | Validating acc: 0.714\n"
     ]
    },
    {
     "data": {
      "application/vnd.jupyter.widget-view+json": {
       "model_id": "d0a43db9106d4725a9f53d58b2922898",
       "version_major": 2,
       "version_minor": 0
      },
      "text/plain": [
       "HBox(children=(FloatProgress(value=0.0, max=430.0), HTML(value='')))"
      ]
     },
     "metadata": {},
     "output_type": "display_data"
    },
    {
     "name": "stdout",
     "output_type": "stream",
     "text": [
      "\n",
      "Epoch: [29|30]\n",
      "\t Training loss: 0.627 | Training acc: 0.739\n",
      "\t Validating loss: 0.712 | Validating acc: 0.707\n"
     ]
    },
    {
     "data": {
      "application/vnd.jupyter.widget-view+json": {
       "model_id": "e34368af0d29471098bd3ce745730206",
       "version_major": 2,
       "version_minor": 0
      },
      "text/plain": [
       "HBox(children=(FloatProgress(value=0.0, max=430.0), HTML(value='')))"
      ]
     },
     "metadata": {},
     "output_type": "display_data"
    },
    {
     "name": "stdout",
     "output_type": "stream",
     "text": [
      "\n",
      "Epoch: [30|30]\n",
      "\t Training loss: 0.620 | Training acc: 0.744\n",
      "\t Validating loss: 0.703 | Validating acc: 0.715\n",
      "Training Completed!\n"
     ]
    }
   ],
   "source": [
    "TRAIN_DATA = 1\n",
    "if TRAIN_DATA:\n",
    "    EPOCHS = 30\n",
    "    best_val_loss = 1000\n",
    "    print(\"Start training...\")\n",
    "    \n",
    "    for epoch in range(EPOCHS):\n",
    "        train_loss, train_acc = train_step(model,optimizer, criterion, train_iter)\n",
    "        val_loss, val_acc = evaluate_step(model, criterion, val_iter)\n",
    "        \n",
    "        print(f\"Epoch: [{epoch+1}|{EPOCHS}]\")\n",
    "        print(f\"\\t Training loss: {train_loss:.3f} | Training acc: {train_acc:.3f}\")\n",
    "        print(f\"\\t Validating loss: {val_loss:.3f} | Validating acc: {val_acc:.3f}\")\n",
    "        \n",
    "        if val_loss<best_val_loss:\n",
    "            best_val_loss = val_loss\n",
    "            torch.save(model.state_dict(), \"model/modelBERT3.pt\")\n",
    "            print(\"\\tModel saved!\")\n",
    "            \n",
    "        loss_list[\"train\"].append(train_loss)\n",
    "        loss_list[\"val\"].append(val_loss)\n",
    "        acc_list[\"train\"].append(train_acc)\n",
    "        acc_list[\"val\"].append(val_acc)\n",
    "        \n",
    "    print(\"Training Completed!\")\n",
    "\n",
    "else:\n",
    "    model.load_state_dict(torch.load(\"model/model.pt\"))"
   ]
  },
  {
   "cell_type": "code",
   "execution_count": 28,
   "metadata": {
    "ExecuteTime": {
     "end_time": "2020-04-17T06:56:55.998794Z",
     "start_time": "2020-04-17T06:56:55.719522Z"
    }
   },
   "outputs": [
    {
     "data": {
      "image/png": "[encoded data removed]",
      "text/plain": [
       "<Figure size 1440x1080 with 2 Axes>"
      ]
     },
     "metadata": {
      "needs_background": "light"
     },
     "output_type": "display_data"
    }
   ],
   "source": [
    "def plot(loss_list, acc_list, EPOCHS):\n",
    "    \n",
    "    fig = plt.figure(figsize=(20,15))\n",
    "    \n",
    "    fig.add_subplot(2,1,1)\n",
    "    plt.title(\"Loss per epoch\")\n",
    "    plt.plot(range(EPOCHS), loss_list[\"train\"], label = \"Train loss\")\n",
    "    plt.plot(range(EPOCHS), loss_list[\"val\"], color = \"orange\", label = \"Validation loss\")\n",
    "    plt.legend()\n",
    "    \n",
    "    fig.add_subplot(2,1,2)\n",
    "    plt.title(\"Accuracy per epoch\")\n",
    "    plt.plot(range(EPOCHS), acc_list[\"train\"], label = \"Train accuracy\")\n",
    "    plt.plot(range(EPOCHS), acc_list[\"val\"], color = \"orange\", label = \"Validation accuracy\")\n",
    "    plt.legend()\n",
    "\n",
    "if TRAIN_DATA:\n",
    "    plot(loss_list, acc_list, EPOCHS)"
   ]
  },
  {
   "cell_type": "code",
   "execution_count": 29,
   "metadata": {
    "ExecuteTime": {
     "end_time": "2020-04-17T06:56:56.446670Z",
     "start_time": "2020-04-17T06:56:55.999760Z"
    }
   },
   "outputs": [],
   "source": [
    "import spacy\n",
    "nlp = spacy.load('en')\n",
    "\n",
    "def predict_sentiment(model, sentence, sentiment, tokenizer, min_len = 5):\n",
    "    \n",
    "    \n",
    "    if len(sentence.split())<=3 or sentiment == \"neutral\":\n",
    "        return sentence\n",
    "    \n",
    "    \n",
    "    model.eval()\n",
    "    label = LABEL.vocab.stoi[sentiment]\n",
    "    \n",
    "    threshhold = [0.5,0.7,0.7]\n",
    "    sentence_split = sentence.split()\n",
    "    print(sentence_split)\n",
    "    tokenized = [mytokenizer(i,train=False)[0] for i in sentence_split]\n",
    "    print(tokenized)\n",
    "    \n",
    "    start = 0\n",
    "    end = len(tokenized)-1\n",
    "    \n",
    "    result = []\n",
    "    with torch.no_grad():\n",
    "        for idx,token in enumerate(tokenized):\n",
    "            \n",
    "            indexed = [init_token_idx] + tokenizer.convert_tokens_to_ids([token]) + [eos_token_idx]\n",
    "            tensor = torch.LongTensor(indexed).to(device)\n",
    "            tensor = tensor.unsqueeze(0)\n",
    "            \n",
    "            prediction = torch.softmax(model(tensor), dim=1)\n",
    "            \n",
    "            result.append(prediction[0][label].cpu().numpy())\n",
    "            \n",
    "    result = np.array(result)\n",
    "    print(result)\n",
    "    \n",
    "    most_weighted = result > threshhold[label]\n",
    "    flag = 0\n",
    "    for idx,i in enumerate(most_weighted):\n",
    "        if i:\n",
    "            if flag == 0:\n",
    "                start = idx\n",
    "                end = idx\n",
    "                flag = 1\n",
    "            else:\n",
    "                end = idx\n",
    " \n",
    "    return \" \".join(sentence_split[start:end+1])"
   ]
  },
  {
   "cell_type": "code",
   "execution_count": 30,
   "metadata": {
    "ExecuteTime": {
     "end_time": "2020-04-17T06:56:56.452549Z",
     "start_time": "2020-04-17T06:56:56.447561Z"
    }
   },
   "outputs": [],
   "source": [
    "def predict_single(model, tokenizer, sentence):\n",
    "    model.eval()\n",
    "    with torch.no_grad():\n",
    "        tokens = mytokenizer(sentence)\n",
    "        print(tokens)\n",
    "        indexed = [init_token_idx] + tokenizer.convert_tokens_to_ids(tokens) + [eos_token_idx]\n",
    "        print(indexed)\n",
    "        tensor = torch.LongTensor(indexed).to(device)\n",
    "        tensor = tensor.unsqueeze(0)\n",
    "        prediction = torch.softmax(model(tensor), dim=1)\n",
    "    return prediction"
   ]
  },
  {
   "cell_type": "code",
   "execution_count": 31,
   "metadata": {
    "ExecuteTime": {
     "end_time": "2020-04-17T06:56:56.669967Z",
     "start_time": "2020-04-17T06:56:56.453563Z"
    }
   },
   "outputs": [
    {
     "name": "stdout",
     "output_type": "stream",
     "text": [
      "['\"', 'nooooooooo....u', 'never', 'call', 'me', 'anymore', 'lol...but,', 'i`ve', 'been', 'good', 'too...rick', 'ross', 'is', 'in', 'town,', 'might', 'go', '2', 'his', 'show', '2nite', ';-)\"']\n",
      "['<unk>', 'no', 'never', 'call', 'me', 'anymore', 'lol', 'i', 'been', 'good', 'too', 'ross', 'is', 'in', 'town', 'might', 'go', '<unk>', 'his', 'show', 'nite', '<unk>']\n",
      "[0.11258998 0.04101022 0.02926005 0.0177124  0.03038049 0.02935602\n",
      " 0.11258998 0.07291408 0.05041187 0.7219731  0.09749373 0.18776463\n",
      " 0.09011039 0.05045318 0.15879314 0.304501   0.05888372 0.11258998\n",
      " 0.22272076 0.03443261 0.11258998 0.11258998]\n"
     ]
    },
    {
     "data": {
      "text/plain": [
       "'good'"
      ]
     },
     "execution_count": 31,
     "metadata": {},
     "output_type": "execute_result"
    }
   ],
   "source": [
    "text = '\" nooooooooo....u never call me anymore  lol...but, i`ve been good too...rick ross is in town, might go 2 his show 2nite ;-)\"'\n",
    "sentiment = \"positive\"\n",
    "predict_sentiment(model, text, sentiment, tokenizer)"
   ]
  },
  {
   "cell_type": "code",
   "execution_count": 32,
   "metadata": {
    "ExecuteTime": {
     "end_time": "2020-04-17T06:56:56.687946Z",
     "start_time": "2020-04-17T06:56:56.670964Z"
    }
   },
   "outputs": [
    {
     "name": "stdout",
     "output_type": "stream",
     "text": [
      "['<unk>']\n",
      "[101, 100, 102]\n"
     ]
    },
    {
     "data": {
      "text/plain": [
       "tensor([[0.6193, 0.1126, 0.2681]], device='cuda:0')"
      ]
     },
     "execution_count": 32,
     "metadata": {},
     "output_type": "execute_result"
    }
   ],
   "source": [
    "text = \"\"\n",
    "predict_single(model,tokenizer, text)"
   ]
  },
  {
   "cell_type": "code",
   "execution_count": 33,
   "metadata": {
    "ExecuteTime": {
     "end_time": "2020-04-17T06:56:56.693931Z",
     "start_time": "2020-04-17T06:56:56.688916Z"
    }
   },
   "outputs": [],
   "source": [
    "import csv\n",
    "def predict(model):\n",
    "    with open(\"data/test.csv\") as fi, open(\"data/submission.csv\", \"w\", newline = \"\") as fo:\n",
    "        reader = csv.reader(fi)\n",
    "        writer = csv.writer(fo)\n",
    "        header = next(iter(reader))\n",
    "        writer.writerow(header)\n",
    "        for row in tqdm(reader):\n",
    "            idx, sentence, sentiment = row\n",
    "            target = predict_sentiment(model,sentence,sentiment)\n",
    "            writer.writerow([idx] + [target])\n",
    "        print(\"Writing Completed!\")"
   ]
  },
  {
   "cell_type": "code",
   "execution_count": 34,
   "metadata": {
    "ExecuteTime": {
     "end_time": "2020-04-17T06:56:56.700912Z",
     "start_time": "2020-04-17T06:56:56.694900Z"
    },
    "scrolled": true
   },
   "outputs": [],
   "source": [
    "#predict(model)"
   ]
  }
 ],
 "metadata": {
  "kernelspec": {
   "display_name": "nlp",
   "language": "python",
   "name": "nlp"
  },
  "language_info": {
   "codemirror_mode": {
    "name": "ipython",
    "version": 3
   },
   "file_extension": ".py",
   "mimetype": "text/x-python",
   "name": "python",
   "nbconvert_exporter": "python",
   "pygments_lexer": "ipython3",
   "version": "3.7.6"
  }
 },
 "nbformat": 4,
 "nbformat_minor": 2
}
