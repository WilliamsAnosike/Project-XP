{
 "cells": [
  {
   "cell_type": "code",
   "execution_count": 1,
   "metadata": {
    "ExecuteTime": {
     "end_time": "2020-04-22T06:55:22.171633Z",
     "start_time": "2020-04-22T06:55:20.420874Z"
    }
   },
   "outputs": [],
   "source": [
    "import torch\n",
    "import torch.utils.data as data\n",
    "import torch.nn as nn\n",
    "import torchtext\n",
    "from torch.autograd import Variable\n",
    "import torchvision\n",
    "from torchvision import transforms, models\n",
    "import torch.nn.functional as F\n",
    "\n",
    "from tqdm.notebook import tqdm\n",
    "import numpy as np\n",
    "import matplotlib.pyplot as plt\n",
    "import json\n",
    "import pandas as pd\n",
    "from PIL import Image\n",
    "import os\n",
    "import string\n",
    "import math\n",
    "import nltk\n",
    "import re\n",
    "from collections import Counter\n",
    "\n",
    "from helper import *"
   ]
  },
  {
   "cell_type": "code",
   "execution_count": 2,
   "metadata": {
    "ExecuteTime": {
     "end_time": "2020-04-22T06:55:22.204545Z",
     "start_time": "2020-04-22T06:55:22.172630Z"
    }
   },
   "outputs": [
    {
     "name": "stdout",
     "output_type": "stream",
     "text": [
      "cuda:0\n"
     ]
    }
   ],
   "source": [
    "device = torch.device(\"cuda: 0\" if torch.cuda.is_available() else \"cpu\")\n",
    "print(device)"
   ]
  },
  {
   "cell_type": "code",
   "execution_count": 3,
   "metadata": {
    "ExecuteTime": {
     "end_time": "2020-04-22T06:55:22.211555Z",
     "start_time": "2020-04-22T06:55:22.206540Z"
    }
   },
   "outputs": [],
   "source": [
    "DATA_DIR = {\n",
    "    \"train\": \"data/train2017\",\n",
    "    \"val\": \"data/val2017\",\n",
    "    \"test\": \"data/test2017\",\n",
    "    \"annotation\": {\n",
    "        \"train\": \"data/annotations/captions_train2017.json\",\n",
    "        \"val\": \"data/annotations/captions_val2017.json\"\n",
    "    }\n",
    "}"
   ]
  },
  {
   "cell_type": "code",
   "execution_count": 4,
   "metadata": {
    "ExecuteTime": {
     "end_time": "2020-04-22T06:55:23.670328Z",
     "start_time": "2020-04-22T06:55:22.212552Z"
    }
   },
   "outputs": [
    {
     "name": "stdout",
     "output_type": "stream",
     "text": [
      "Number of training samples: 118287 images\n"
     ]
    }
   ],
   "source": [
    "traindict = process_data(DATA_DIR[\"annotation\"][\"train\"])\n",
    "valdict = process_data(DATA_DIR[\"annotation\"][\"val\"])\n",
    "\n",
    "TRAINING_SAMPLES = len(traindict)\n",
    "print(f\"Number of training samples: {TRAINING_SAMPLES} images\")"
   ]
  },
  {
   "cell_type": "code",
   "execution_count": 32,
   "metadata": {
    "ExecuteTime": {
     "end_time": "2020-04-22T07:08:37.091624Z",
     "start_time": "2020-04-22T07:08:37.071679Z"
    }
   },
   "outputs": [],
   "source": [
    "class DataAnalyzer:\n",
    "    def __init__(self, datadict, tokenizer):\n",
    "        self.datadict = list(traindict.values())\n",
    "        self.captions_list = self.inititate_caption()\n",
    "        self.cnt_lengths = [Counter(), Counter(), Counter(), Counter(), Counter()]\n",
    "        self.cnt_n_grams = [Counter(), Counter(), Counter(), Counter(), Counter()]\n",
    "        self.n_grams = 0\n",
    "        self.tokenizer = tokenizer\n",
    "    def inititate_caption(self):\n",
    "        \"\"\"\n",
    "        Inititate captions list by index\n",
    "        \"\"\"\n",
    "        result_list = []\n",
    "        for i in tqdm(range(len(self.datadict))):\n",
    "            captions_list = self.datadict[i][\"captions\"]\n",
    "            for idx, caps in enumerate(captions_list):\n",
    "                if idx>=len(result_list):\n",
    "                    result_list.append([caps])\n",
    "                else:\n",
    "                    result_list[idx].append(caps)\n",
    "        return result_list      \n",
    "            \n",
    "    def generate_n_grams(self,sentence,n):\n",
    "        \"\"\"\n",
    "        Input a sentence, and leve of n-grams\n",
    "        Output n-grams list\n",
    "        \"\"\"\n",
    "        x = self.tokenizer(sentence)\n",
    "        if n == 1:\n",
    "            return x\n",
    "        result = []\n",
    "        n_grams = set(zip(*[x[i:] for i in range(n)]))\n",
    "        for n_gram in n_grams:\n",
    "            result.append(' '.join(n_gram))\n",
    "        return result\n",
    "\n",
    "    def analyze_freq(self,n_grams=1, idx = None):\n",
    "        \"\"\"\n",
    "        Analyze the captions and return a Counter object\n",
    "        \"\"\"\n",
    "        if self.n_grams==0:\n",
    "            self.n_grams=n_grams\n",
    "            \n",
    "        assert self.n_grams==n_grams, \"n-grams don't match\"\n",
    "        assert idx==None or (idx>=0 and idx<=4) , \"Index must be between 0-4 or None\"\n",
    "        \n",
    "        if idx is None:\n",
    "            all_idx = Counter()\n",
    "            for i in range(5):\n",
    "                all_idx += self.analyze_freq(n_grams, idx=i)\n",
    "            return all_idx\n",
    "        else:\n",
    "            captions_list = self.captions_list[idx]\n",
    "        \n",
    "        if len(self.cnt_n_grams[idx]) == 0:\n",
    "            print(\"Start analyzing...\")\n",
    "            for caption in tqdm(captions_list):\n",
    "                n_gram_tokens = self.generate_n_grams(caption,n_grams)\n",
    "                self.cnt_n_grams[idx].update(n_gram_tokens)\n",
    "            print(\"Analyzing Completed!\")\n",
    "        return self.cnt_n_grams[idx]\n",
    "    \n",
    "    def visualize_top_k(self, mode,idx = None, k = 10):\n",
    "        \n",
    "        assert mode in [\"freqs\", \"len\"], \"mode must be 'freqs' or 'len'\"\n",
    "        \n",
    "        if mode==\"freqs\":\n",
    "            count_dict = self.analyze_freq(n_grams=self.n_grams, idx = idx)\n",
    "        if mode == \"len\":\n",
    "            count_dict = self.analyze_length(idx = idx)\n",
    "            \n",
    "        def top_k_words(count_dict, k):\n",
    "            top_k = count_dict.most_common(k)\n",
    "            return top_k\n",
    "\n",
    "        top_k = top_k_words(count_dict,k)\n",
    "        words = [i[0] for i in top_k]\n",
    "        freqs = [i[1] for i in top_k]\n",
    "\n",
    "        fig, ax = plt.subplots(figsize=(20,15))\n",
    "        y_pos = np.arange(len(words))\n",
    "        rgb = np.random.rand(3,)\n",
    "        ax.barh(y_pos, freqs, align='center',color=[rgb])\n",
    "        ax.set_yticks(y_pos)\n",
    "        ax.set_yticklabels(words,fontsize=20)\n",
    "        ax.invert_yaxis()\n",
    "        if mode == \"freqs\":\n",
    "            ax.set_xlabel('Frequency',fontsize=20)\n",
    "            ax.set_title(f'Top {k} common words',fontsize=20)\n",
    "        else:\n",
    "            ax.set_xlabel('Length',fontsize=20)\n",
    "            ax.set_title(f'Top {k} length',fontsize=20)\n",
    "        plt.show()\n",
    "    \n",
    "    def analyze_length(self,idx=None):\n",
    "        assert idx==None or (idx>=0 and idx<=4) , \"Index must be between 0-4 or None\"\n",
    "        if idx is None:\n",
    "            all_idx = Counter()\n",
    "            for i in range(5):\n",
    "                all_idx += self.analyze_length(idx=i)\n",
    "            return all_idx\n",
    "        else:\n",
    "            captions_list = self.captions_list[idx]\n",
    "            \n",
    "        if len(self.cnt_lengths[idx]) == 0:\n",
    "            print(\"Start analyzing...\")\n",
    "            for caption in tqdm(captions_list):\n",
    "                tokens = self.tokenizer(caption)\n",
    "                self.cnt_lengths[idx].update([len(tokens)])\n",
    "            print(\"Analyzing Completed!\")\n",
    "        return self.cnt_lengths[idx]\n",
    "    \n",
    "    def __len__(self):\n",
    "        return len(self.datadict)"
   ]
  },
  {
   "cell_type": "code",
   "execution_count": 34,
   "metadata": {
    "ExecuteTime": {
     "end_time": "2020-04-22T07:13:38.641371Z",
     "start_time": "2020-04-22T07:13:38.388048Z"
    },
    "scrolled": false
   },
   "outputs": [
    {
     "data": {
      "application/vnd.jupyter.widget-view+json": {
       "model_id": "8813e50193ba4920a9d52bcc66ca3a08",
       "version_major": 2,
       "version_minor": 0
      },
      "text/plain": [
       "HBox(children=(FloatProgress(value=0.0, max=118287.0), HTML(value='')))"
      ]
     },
     "metadata": {},
     "output_type": "display_data"
    },
    {
     "name": "stdout",
     "output_type": "stream",
     "text": [
      "\n"
     ]
    }
   ],
   "source": [
    "analyze = DataAnalyzer(traindict, tokenizer=mytokenizer)"
   ]
  },
  {
   "cell_type": "code",
   "execution_count": null,
   "metadata": {},
   "outputs": [],
   "source": [
    "analyze.analyze_length()\n",
    "analyze.analyze_freq()"
   ]
  },
  {
   "cell_type": "code",
   "execution_count": 33,
   "metadata": {
    "ExecuteTime": {
     "end_time": "2020-04-22T07:08:56.353249Z",
     "start_time": "2020-04-22T07:08:56.208637Z"
    },
    "scrolled": true
   },
   "outputs": [
    {
     "data": {
      "image/png": "[encoded data removed]",
      "text/plain": [
       "<Figure size 1440x1080 with 1 Axes>"
      ]
     },
     "metadata": {
      "needs_background": "light"
     },
     "output_type": "display_data"
    }
   ],
   "source": [
    "analyze.visualize_top_k(mode=\"len\",k=5)"
   ]
  },
  {
   "cell_type": "code",
   "execution_count": null,
   "metadata": {},
   "outputs": [],
   "source": [
    "analyze.visualize_top_k(mode=\"freqs\",k=5)"
   ]
  }
 ],
 "metadata": {
  "kernelspec": {
   "display_name": "nlp",
   "language": "python",
   "name": "nlp"
  },
  "language_info": {
   "codemirror_mode": {
    "name": "ipython",
    "version": 3
   },
   "file_extension": ".py",
   "mimetype": "text/x-python",
   "name": "python",
   "nbconvert_exporter": "python",
   "pygments_lexer": "ipython3",
   "version": "3.7.6"
  }
 },
 "nbformat": 4,
 "nbformat_minor": 4
}
