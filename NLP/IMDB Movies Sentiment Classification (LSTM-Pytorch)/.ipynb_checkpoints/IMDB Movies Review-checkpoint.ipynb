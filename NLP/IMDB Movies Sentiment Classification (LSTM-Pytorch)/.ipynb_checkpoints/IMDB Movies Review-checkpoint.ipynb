{
 "cells": [
  {
   "cell_type": "markdown",
   "metadata": {},
   "source": [
    "The link to this challenge: https://www.kaggle.com/c/word2vec-nlp-tutorial/overview"
   ]
  },
  {
   "cell_type": "markdown",
   "metadata": {},
   "source": [
    "Things to do to improve the model:\n",
    "    - Preprocessing data (trim off common words such as \"the\", \"a\", ...\n",
    "    - Increasing vocabulary size"
   ]
  },
  {
   "cell_type": "code",
   "execution_count": 1,
   "metadata": {
    "ExecuteTime": {
     "end_time": "2020-04-04T17:16:17.842309Z",
     "start_time": "2020-04-04T17:16:16.952317Z"
    }
   },
   "outputs": [],
   "source": [
    "import torch\n",
    "import torchtext\n",
    "import torchtext.data as data\n",
    "import torch.nn as nn\n",
    "from IPython.display import Image\n",
    "import csv\n",
    "import pandas as pd"
   ]
  },
  {
   "cell_type": "code",
   "execution_count": 2,
   "metadata": {
    "ExecuteTime": {
     "end_time": "2020-04-04T15:16:51.682585Z",
     "start_time": "2020-04-04T15:16:51.660108Z"
    }
   },
   "outputs": [
    {
     "name": "stdout",
     "output_type": "stream",
     "text": [
      "cuda:0\n"
     ]
    }
   ],
   "source": [
    "device = torch.device(\"cuda: 0\" if torch.cuda.is_available() else \"cpu\")\n",
    "print(device)"
   ]
  },
  {
   "cell_type": "code",
   "execution_count": 3,
   "metadata": {
    "ExecuteTime": {
     "end_time": "2020-04-04T15:16:51.691536Z",
     "start_time": "2020-04-04T15:16:51.683558Z"
    }
   },
   "outputs": [],
   "source": [
    "DATA_DIR = \"data/labeledTrainData.tsv\""
   ]
  },
  {
   "cell_type": "code",
   "execution_count": 6,
   "metadata": {
    "ExecuteTime": {
     "end_time": "2020-04-04T15:16:52.830971Z",
     "start_time": "2020-04-04T15:16:52.044076Z"
    }
   },
   "outputs": [],
   "source": [
    "# Create Field \n",
    "TEXT = data.Field(tokenize=\"spacy\", include_lengths=True)\n",
    "LABEL = data.LabelField(dtype=torch.float)"
   ]
  },
  {
   "cell_type": "code",
   "execution_count": 7,
   "metadata": {
    "ExecuteTime": {
     "end_time": "2020-04-04T15:16:52.836957Z",
     "start_time": "2020-04-04T15:16:52.832966Z"
    }
   },
   "outputs": [],
   "source": [
    "# Create fields based on the data table\n",
    "fields = [(None,None),(\"label\", LABEL),(\"text\",TEXT)]"
   ]
  },
  {
   "cell_type": "code",
   "execution_count": 8,
   "metadata": {
    "ExecuteTime": {
     "end_time": "2020-04-04T15:17:25.204467Z",
     "start_time": "2020-04-04T15:16:52.837953Z"
    }
   },
   "outputs": [],
   "source": [
    "# Create Tabular dataset\n",
    "dataset = data.TabularDataset(path=DATA_DIR,format=\"tsv\", fields = fields, skip_header=True)"
   ]
  },
  {
   "cell_type": "code",
   "execution_count": 9,
   "metadata": {
    "ExecuteTime": {
     "end_time": "2020-04-04T15:17:25.233323Z",
     "start_time": "2020-04-04T15:17:25.205368Z"
    }
   },
   "outputs": [
    {
     "name": "stdout",
     "output_type": "stream",
     "text": [
      "Number of training samples: 22500\n",
      "Number of validating samples: 2500\n"
     ]
    }
   ],
   "source": [
    "# Split dataset into training set and validating set\n",
    "trainset, valset = dataset.split(split_ratio=0.9)\n",
    "print(f\"Number of training samples: {len(trainset)}\")\n",
    "print(f\"Number of validating samples: {len(valset)}\")"
   ]
  },
  {
   "cell_type": "code",
   "execution_count": 10,
   "metadata": {
    "ExecuteTime": {
     "end_time": "2020-04-04T15:17:25.385061Z",
     "start_time": "2020-04-04T15:17:25.234290Z"
    }
   },
   "outputs": [],
   "source": [
    "# Check if data have been read properly\n",
    "#print(vars(trainset.examples[0]))"
   ]
  },
  {
   "cell_type": "code",
   "execution_count": 11,
   "metadata": {
    "ExecuteTime": {
     "end_time": "2020-04-04T15:17:26.906989Z",
     "start_time": "2020-04-04T15:17:25.391045Z"
    }
   },
   "outputs": [],
   "source": [
    "# Build the vocabulary on the training set, using pre-trained embedding layer (word2vector)\n",
    "MAX_VOCAB_SIZE = 20000\n",
    "TEXT.build_vocab(trainset,\n",
    "                 max_size = MAX_VOCAB_SIZE,\n",
    "                 vectors = \"glove.6B.100d\",\n",
    "                 unk_init = torch.Tensor.normal_)\n",
    "\n",
    "LABEL.build_vocab(trainset)"
   ]
  },
  {
   "cell_type": "code",
   "execution_count": 12,
   "metadata": {
    "ExecuteTime": {
     "end_time": "2020-04-04T15:17:26.911942Z",
     "start_time": "2020-04-04T15:17:26.907953Z"
    }
   },
   "outputs": [
    {
     "name": "stdout",
     "output_type": "stream",
     "text": [
      "Unique tokens in TEXT vocabulary: 20002\n",
      "Unique tokens in LABEL vocabulary: 2\n"
     ]
    }
   ],
   "source": [
    "# The vocabulary automatically add <pad> and <unk> tokens so that the size increases by 2\n",
    "print(f\"Unique tokens in TEXT vocabulary: {len(TEXT.vocab)}\")\n",
    "print(f\"Unique tokens in LABEL vocabulary: {len(LABEL.vocab)}\")"
   ]
  },
  {
   "cell_type": "code",
   "execution_count": 13,
   "metadata": {
    "ExecuteTime": {
     "end_time": "2020-04-04T15:17:26.918924Z",
     "start_time": "2020-04-04T15:17:26.912940Z"
    }
   },
   "outputs": [],
   "source": [
    "# Show 10 most common words on the training vocabulary\n",
    "#print(TEXT.vocab.freqs.most_common(10))"
   ]
  },
  {
   "cell_type": "code",
   "execution_count": 14,
   "metadata": {
    "ExecuteTime": {
     "end_time": "2020-04-04T15:17:26.924936Z",
     "start_time": "2020-04-04T15:17:26.919921Z"
    }
   },
   "outputs": [],
   "source": [
    "BATCH_SIZE = 64\n",
    "# Load dataset into iterator, sort the data by the length of words (required for packed sequence in the model)\n",
    "train_iter, valid_iter = data.BucketIterator.splits(\n",
    "    (trainset, valset), \n",
    "    sort_within_batch = True,\n",
    "    sort_key=lambda x: len(x.text),\n",
    "    batch_size = BATCH_SIZE,\n",
    "    device = device)"
   ]
  },
  {
   "attachments": {
    "architecture.png": {
     "image/png": "[encoded data removed]"
    }
   },
   "cell_type": "markdown",
   "metadata": {
    "ExecuteTime": {
     "end_time": "2020-04-04T17:16:44.229897Z",
     "start_time": "2020-04-04T17:16:44.217928Z"
    }
   },
   "source": [
    "![architecture.png](attachment:architecture.png)"
   ]
  },
  {
   "cell_type": "code",
   "execution_count": 15,
   "metadata": {
    "ExecuteTime": {
     "end_time": "2020-04-04T15:17:26.932887Z",
     "start_time": "2020-04-04T15:17:26.925905Z"
    }
   },
   "outputs": [],
   "source": [
    "class RNN(nn.Module):\n",
    "    def __init__(self, vocab_size, embed_dim, hidden_dim, output_dim ,\n",
    "                 n_layers, bidirectional, dropout, pad_idx):\n",
    "        super(RNN, self).__init__()\n",
    "        self.embedding = nn.Embedding(vocab_size, embed_dim, padding_idx=pad_idx)\n",
    "        self.lstm = nn.LSTM(embed_dim,\n",
    "                            hidden_dim,\n",
    "                            num_layers=n_layers,\n",
    "                            bidirectional = bidirectional,\n",
    "                            dropout = dropout)\n",
    "        self.fc = nn.Linear(hidden_dim*2, output_dim)\n",
    "        self.dropout = nn.Dropout(dropout)\n",
    "        #self.activation = nn.Sigmoid()\n",
    "    def forward(self, text, text_lengths):\n",
    "        embedded = self.dropout(self.embedding(text))\n",
    "        #Pack padded sequence for add padding to texts that dont have enoungh length\n",
    "        packed_embedded = nn.utils.rnn.pack_padded_sequence(embedded, text_lengths)\n",
    "        #LSTM return output, hidden state and cell state\n",
    "        packed_output ,(hidden, cell) = self.lstm(packed_embedded)\n",
    "        # Because we use bidirectional so that we have to concatonate two hidden layers \n",
    "        #(the last layer in both foward and backward RNN)\n",
    "        hidden = self.dropout(\n",
    "            torch.cat((hidden[-2, :, :], hidden[-1, :, :]), dim=1))\n",
    "        \n",
    "        # Because we concatenate two hidden layes so the input dim for fully-connected is doubled\n",
    "        output = self.fc(hidden)\n",
    "        return output"
   ]
  },
  {
   "cell_type": "code",
   "execution_count": 16,
   "metadata": {
    "ExecuteTime": {
     "end_time": "2020-04-04T15:17:26.958923Z",
     "start_time": "2020-04-04T15:17:26.933884Z"
    },
    "scrolled": true
   },
   "outputs": [
    {
     "name": "stdout",
     "output_type": "stream",
     "text": [
      "RNN(\n",
      "  (embedding): Embedding(20002, 100)\n",
      "  (lstm): LSTM(100, 100, num_layers=2, dropout=0.5, bidirectional=True)\n",
      "  (fc): Linear(in_features=200, out_features=1, bias=True)\n",
      "  (dropout): Dropout(p=0.5, inplace=False)\n",
      ")\n"
     ]
    }
   ],
   "source": [
    "VOCAB_SIZE = len(TEXT.vocab)\n",
    "EMBED_DIM = 100\n",
    "HIDDEN_DIM = 100\n",
    "OUTPUT_DIM = 1\n",
    "N_LAYERS = 2\n",
    "BIDIRECTIONAL = True\n",
    "DROPOUT = 0.5\n",
    "# Get the <pad> id for embedding layer\n",
    "PAD_IDX = TEXT.vocab.stoi[TEXT.pad_token] \n",
    "\n",
    "model = RNN(VOCAB_SIZE, EMBED_DIM, HIDDEN_DIM, OUTPUT_DIM, N_LAYERS, BIDIRECTIONAL, DROPOUT, PAD_IDX)\n",
    "print(model)"
   ]
  },
  {
   "cell_type": "code",
   "execution_count": 17,
   "metadata": {
    "ExecuteTime": {
     "end_time": "2020-04-04T15:17:26.963804Z",
     "start_time": "2020-04-04T15:17:26.959814Z"
    }
   },
   "outputs": [
    {
     "name": "stdout",
     "output_type": "stream",
     "text": [
      "The model has 2,403,601 trainable parameters\n"
     ]
    }
   ],
   "source": [
    "def count_parameters(model):\n",
    "    return sum(p.numel() for p in model.parameters() if p.requires_grad)\n",
    "\n",
    "print(f'The model has {count_parameters(model):,} trainable parameters')"
   ]
  },
  {
   "cell_type": "code",
   "execution_count": 18,
   "metadata": {
    "ExecuteTime": {
     "end_time": "2020-04-04T15:17:26.976787Z",
     "start_time": "2020-04-04T15:17:26.964802Z"
    }
   },
   "outputs": [],
   "source": [
    "# Load pretrained embedding for the vocabulary\n",
    "pretrained_embeddings = TEXT.vocab.vectors\n",
    "model.embedding.weight.data.copy_(pretrained_embeddings)\n",
    "\n",
    "# Set the <pad> and <unk> token to zero values (because we dont need these token for training)\n",
    "UNK_IDX = TEXT.vocab.stoi[TEXT.unk_token]\n",
    "model.embedding.weight.data[UNK_IDX] = torch.zeros(EMBED_DIM)\n",
    "model.embedding.weight.data[PAD_IDX] = torch.zeros(EMBED_DIM)"
   ]
  },
  {
   "cell_type": "code",
   "execution_count": 19,
   "metadata": {
    "ExecuteTime": {
     "end_time": "2020-04-04T15:17:29.040325Z",
     "start_time": "2020-04-04T15:17:26.977767Z"
    }
   },
   "outputs": [],
   "source": [
    "optimizer = torch.optim.Adam(model.parameters(), lr = 0.005)\n",
    "criterion = nn.BCEWithLogitsLoss().to(device)\n",
    "model = model.to(device)"
   ]
  },
  {
   "cell_type": "code",
   "execution_count": 20,
   "metadata": {
    "ExecuteTime": {
     "end_time": "2020-04-04T15:17:29.045312Z",
     "start_time": "2020-04-04T15:17:29.041323Z"
    }
   },
   "outputs": [],
   "source": [
    "# Return accuracy\n",
    "def binary_accuracy(predictions, y):\n",
    "    rounded_preds = torch.round(torch.sigmoid(predictions))\n",
    "    correct = (rounded_preds==y).float().sum()\n",
    "    acc = correct/len(predictions)\n",
    "    return acc"
   ]
  },
  {
   "cell_type": "code",
   "execution_count": 21,
   "metadata": {
    "ExecuteTime": {
     "end_time": "2020-04-04T15:17:29.053290Z",
     "start_time": "2020-04-04T15:17:29.046310Z"
    }
   },
   "outputs": [],
   "source": [
    "from tqdm import tqdm\n",
    "def train_step(model, train_iter, optimizer, criterion):\n",
    "    total_loss = 0\n",
    "    total_acc = 0\n",
    "    model.train()\n",
    "    for batch in tqdm(train_iter):\n",
    "        optimizer.zero_grad()\n",
    "        text, text_lengths = batch.text\n",
    "        predictions = model(text, text_lengths).squeeze()\n",
    "        loss= criterion(predictions, batch.label)\n",
    "        acc = binary_accuracy(predictions, batch.label)\n",
    "        loss.backward()\n",
    "        optimizer.step()\n",
    "        total_loss += loss.item()\n",
    "        total_acc += acc.item()\n",
    "    return total_loss / len(train_iter), total_acc/ len(train_iter)"
   ]
  },
  {
   "cell_type": "code",
   "execution_count": 22,
   "metadata": {
    "ExecuteTime": {
     "end_time": "2020-04-04T15:17:29.062296Z",
     "start_time": "2020-04-04T15:17:29.056283Z"
    }
   },
   "outputs": [],
   "source": [
    "def val_step(model, iterator, criterion):\n",
    "    epoch_loss = 0\n",
    "    epoch_acc = 0\n",
    "    model.eval()\n",
    "    with torch.no_grad():\n",
    "    \n",
    "        for batch in iterator:\n",
    "            text, text_lengths = batch.text\n",
    "            predictions = model(text, text_lengths).squeeze()\n",
    "            loss = criterion(predictions, batch.label)\n",
    "            \n",
    "            acc = binary_accuracy(predictions, batch.label)\n",
    "\n",
    "            epoch_loss += loss.item()\n",
    "            epoch_acc += acc.item()\n",
    "        \n",
    "    return epoch_loss / len(iterator), epoch_acc / len(iterator)"
   ]
  },
  {
   "cell_type": "code",
   "execution_count": 23,
   "metadata": {
    "ExecuteTime": {
     "end_time": "2020-04-04T15:17:29.071244Z",
     "start_time": "2020-04-04T15:17:29.063291Z"
    }
   },
   "outputs": [],
   "source": [
    "import time\n",
    "\n",
    "def epoch_time(start_time, end_time):\n",
    "    elapsed_time = end_time - start_time\n",
    "    elapsed_mins = int(elapsed_time / 60)\n",
    "    elapsed_secs = int(elapsed_time - (elapsed_mins * 60))\n",
    "    return elapsed_mins, elapsed_secs"
   ]
  },
  {
   "cell_type": "code",
   "execution_count": 24,
   "metadata": {
    "ExecuteTime": {
     "end_time": "2020-04-04T15:17:29.086203Z",
     "start_time": "2020-04-04T15:17:29.072241Z"
    }
   },
   "outputs": [],
   "source": [
    "def train(model, optimizer, criterion, train_iter, val_iter):\n",
    "    EPOCHS = 10\n",
    "    best_valid_acc = 0\n",
    "    print(\"Start training...\")\n",
    "    for epoch in range(EPOCHS):\n",
    "        start_time = time.time()\n",
    "        train_loss, train_acc = train_step(model,train_iter,optimizer, criterion)\n",
    "        val_loss, val_acc = val_step(model, val_iter,  criterion)\n",
    "        end_time = time.time()\n",
    "        epoch_mins, epoch_secs = epoch_time(start_time, end_time)\n",
    "        \n",
    "        if val_acc > best_valid_acc:\n",
    "            best_valid_acc = val_acc\n",
    "            torch.save(model.state_dict(), 'model/model.pt')\n",
    "            print(\"Model saved!\")\n",
    "        print(f'Epoch: {epoch+1:02} | Epoch Time: {epoch_mins}m {epoch_secs}s')\n",
    "        print(f'\\tTrain Loss: {train_loss:.3f} | Train Acc: {train_acc*100:.2f}%')\n",
    "        print(f'\\t Val. Loss: {val_loss:.3f} |  Val. Acc: {val_acc*100:.2f}%')\n",
    "    print(\"Training completed.\")\n",
    "    return model"
   ]
  },
  {
   "cell_type": "code",
   "execution_count": 25,
   "metadata": {
    "ExecuteTime": {
     "end_time": "2020-04-04T15:17:29.096202Z",
     "start_time": "2020-04-04T15:17:29.088198Z"
    },
    "scrolled": false
   },
   "outputs": [],
   "source": [
    "TRAIN_DATA = 0\n",
    "if TRAIN_DATA:\n",
    "    model = train(model,optimizer,criterion,train_iter, valid_iter)"
   ]
  },
  {
   "cell_type": "code",
   "execution_count": 26,
   "metadata": {
    "ExecuteTime": {
     "end_time": "2020-04-04T15:17:29.719638Z",
     "start_time": "2020-04-04T15:17:29.097197Z"
    }
   },
   "outputs": [],
   "source": [
    "import spacy\n",
    "nlp = spacy.load(\"en\")\n",
    "# Predict a sentence\n",
    "def predict_sentence(model, sentence):\n",
    "    model.eval()\n",
    "    # tokenize the sentence (by spacing)\n",
    "    tokenized = [tok.text for tok in nlp.tokenizer(sentence)]\n",
    "    \n",
    "    # Convert tokens into interger\n",
    "    indexed = [TEXT.vocab.stoi[t] for t in tokenized]\n",
    "    \n",
    "    # Compute number of words in the sentence\n",
    "    length = [len(indexed)]\n",
    "    \n",
    "    #Tensorize\n",
    "    tensor = torch.LongTensor(indexed).to(device)\n",
    "    tensor = tensor.unsqueeze(1)\n",
    "    length_tensor = torch.LongTensor(length)\n",
    "    \n",
    "    #Predict probability\n",
    "    prediction = torch.sigmoid(model(tensor, length_tensor))\n",
    "    return prediction.item()"
   ]
  },
  {
   "cell_type": "code",
   "execution_count": 28,
   "metadata": {
    "ExecuteTime": {
     "end_time": "2020-04-04T15:17:45.935578Z",
     "start_time": "2020-04-04T15:17:45.918613Z"
    },
    "scrolled": false
   },
   "outputs": [],
   "source": [
    "if not TRAIN_DATA:\n",
    "    model.load_state_dict(torch.load(\"model/model 89,30.pt\"))"
   ]
  },
  {
   "cell_type": "code",
   "execution_count": 29,
   "metadata": {
    "ExecuteTime": {
     "end_time": "2020-04-04T15:18:21.376358Z",
     "start_time": "2020-04-04T15:17:49.728024Z"
    }
   },
   "outputs": [],
   "source": [
    "TEST_DIR= \"data/testData.tsv\"\n",
    "ID = data.LabelField(sequential=False)\n",
    "test_fields = [(\"id\", ID), (\"text\", TEXT)]\n",
    "testset = data.TabularDataset(path = TEST_DIR, format = \"tsv\", fields=test_fields, skip_header= True)"
   ]
  },
  {
   "cell_type": "code",
   "execution_count": 30,
   "metadata": {
    "ExecuteTime": {
     "end_time": "2020-04-04T15:18:24.787399Z",
     "start_time": "2020-04-04T15:18:24.439980Z"
    }
   },
   "outputs": [],
   "source": [
    "ID.build_vocab(testset)"
   ]
  },
  {
   "cell_type": "code",
   "execution_count": 31,
   "metadata": {
    "ExecuteTime": {
     "end_time": "2020-04-04T15:18:26.364274Z",
     "start_time": "2020-04-04T15:18:26.360286Z"
    }
   },
   "outputs": [],
   "source": [
    "test_iter = data.BucketIterator(testset,\n",
    "                                batch_size=BATCH_SIZE,\n",
    "                                sort_key= lambda x: len(x.text),\n",
    "                                sort_within_batch=True,\n",
    "                                device = device)"
   ]
  },
  {
   "cell_type": "code",
   "execution_count": 36,
   "metadata": {
    "ExecuteTime": {
     "end_time": "2020-04-04T15:20:15.858250Z",
     "start_time": "2020-04-04T15:20:15.851299Z"
    }
   },
   "outputs": [],
   "source": [
    "def predict_test(model, test_iter):\n",
    "    model.eval()\n",
    "    result = []\n",
    "    with torch.no_grad():\n",
    "        for batch in tqdm(test_iter):\n",
    "            text, text_lengths = batch.text\n",
    "            output = model(text,text_lengths).squeeze()\n",
    "            predictions = torch.sigmoid(output)\n",
    "            labels = predictions >= 0.6\n",
    "            ids_list = batch.id.cpu().numpy()\n",
    "            labels_list = labels.cpu().numpy()\n",
    "            for i,j in zip(ids_list,labels_list):\n",
    "                result.append([ID.vocab.itos[i],j])\n",
    "    return result"
   ]
  },
  {
   "cell_type": "code",
   "execution_count": 37,
   "metadata": {
    "ExecuteTime": {
     "end_time": "2020-04-04T15:20:25.822485Z",
     "start_time": "2020-04-04T15:20:17.801578Z"
    }
   },
   "outputs": [
    {
     "name": "stderr",
     "output_type": "stream",
     "text": [
      "100%|████████████████████████████████████████████████████████████████████████████████| 391/391 [00:08<00:00, 48.78it/s]\n"
     ]
    }
   ],
   "source": [
    "result = predict_test(model, test_iter)"
   ]
  },
  {
   "cell_type": "code",
   "execution_count": 38,
   "metadata": {
    "ExecuteTime": {
     "end_time": "2020-04-04T15:20:27.329058Z",
     "start_time": "2020-04-04T15:20:27.281829Z"
    }
   },
   "outputs": [],
   "source": [
    "with open(\"data/submission.csv\", \"w\", newline=\"\") as f:\n",
    "    Writer = csv.writer(f)\n",
    "    Writer.writerow([\"id\"]+[\"sentiment\"])\n",
    "    for i in result:\n",
    "        Writer.writerow([str(i[0])] + [int(i[1])])"
   ]
  },
  {
   "cell_type": "code",
   "execution_count": 35,
   "metadata": {
    "ExecuteTime": {
     "end_time": "2020-04-04T15:19:57.662845Z",
     "start_time": "2020-04-04T15:19:57.654855Z"
    }
   },
   "outputs": [
    {
     "name": "stdout",
     "output_type": "stream",
     "text": [
      "0.6940540671348572\n"
     ]
    }
   ],
   "source": [
    "print(predict_sentence(model,\"This film sucks\"))"
   ]
  }
 ],
 "metadata": {
  "kernelspec": {
   "display_name": "nlp",
   "language": "python",
   "name": "nlp"
  },
  "language_info": {
   "codemirror_mode": {
    "name": "ipython",
    "version": 3
   },
   "file_extension": ".py",
   "mimetype": "text/x-python",
   "name": "python",
   "nbconvert_exporter": "python",
   "pygments_lexer": "ipython3",
   "version": "3.7.6"
  }
 },
 "nbformat": 4,
 "nbformat_minor": 2
}
