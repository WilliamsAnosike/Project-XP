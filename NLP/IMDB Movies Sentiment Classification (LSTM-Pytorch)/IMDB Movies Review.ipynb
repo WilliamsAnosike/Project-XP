{
 "cells": [
  {
   "cell_type": "markdown",
   "metadata": {},
   "source": [
    "The link to this challenge: https://www.kaggle.com/c/word2vec-nlp-tutorial/overview"
   ]
  },
  {
   "cell_type": "code",
   "execution_count": 1,
   "metadata": {
    "ExecuteTime": {
     "end_time": "2020-04-05T10:09:17.803125Z",
     "start_time": "2020-04-05T10:09:16.883494Z"
    }
   },
   "outputs": [],
   "source": [
    "import torch\n",
    "import torchtext\n",
    "import torchtext.data as data\n",
    "import torch.nn as nn\n",
    "from IPython.display import Image\n",
    "import csv\n",
    "import pandas as pd\n",
    "import string\n",
    "from nltk.stem.snowball import SnowballStemmer\n",
    "from nltk.corpus import stopwords\n",
    "from nltk.stem.wordnet import WordNetLemmatizer"
   ]
  },
  {
   "cell_type": "code",
   "execution_count": 2,
   "metadata": {
    "ExecuteTime": {
     "end_time": "2020-04-05T10:09:17.828130Z",
     "start_time": "2020-04-05T10:09:17.804119Z"
    }
   },
   "outputs": [
    {
     "name": "stdout",
     "output_type": "stream",
     "text": [
      "cuda:0\n"
     ]
    }
   ],
   "source": [
    "device = torch.device(\"cuda: 0\" if torch.cuda.is_available() else \"cpu\")\n",
    "print(device)"
   ]
  },
  {
   "cell_type": "code",
   "execution_count": 3,
   "metadata": {
    "ExecuteTime": {
     "end_time": "2020-04-05T10:09:17.834068Z",
     "start_time": "2020-04-05T10:09:17.829052Z"
    }
   },
   "outputs": [],
   "source": [
    "DATA_DIR = \"data/labeledTrainData.tsv\""
   ]
  },
  {
   "cell_type": "code",
   "execution_count": 4,
   "metadata": {
    "ExecuteTime": {
     "end_time": "2020-04-05T10:09:17.842018Z",
     "start_time": "2020-04-05T10:09:17.835036Z"
    }
   },
   "outputs": [],
   "source": [
    "# Preprocess data \n",
    "def preprocess(sentence):\n",
    "    \n",
    "    punctuations = string.punctuation\n",
    "    stemmer = SnowballStemmer(\"english\")\n",
    "    lemmatizer = WordNetLemmatizer()\n",
    "    excluding_words = [\"br\"]\n",
    "    stopwords_list = stopwords.words(\"english\")\n",
    "    \n",
    "    # Remove punctuation such as \".\", \",\", \"?\"\n",
    "    def remove_punctuation(word):\n",
    "        result = \"\".join([c for c in word if c not in punctuations])\n",
    "        return result\n",
    "    \n",
    "    # Aplly Snoball stemmer\n",
    "    def word_stemmer(word):\n",
    "        result = stemmer.stem(word)\n",
    "        return result\n",
    "    \n",
    "    # Apply Word net lemmatizer\n",
    "    def word_lemmatizer(word):\n",
    "        result = lemmatizer.lemmatize(word)\n",
    "        return result\n",
    "    \n",
    "    # Remove stopwords, short words\n",
    "    def excluding_word(word):\n",
    "        if word in excluding_words:\n",
    "            return None\n",
    "        if word in stopwords_list:\n",
    "            return None\n",
    "        if len(word) <= 1:\n",
    "            return None\n",
    "        return word\n",
    "    \n",
    "    # Convert word to lowercase\n",
    "    def lowercase_word(word):\n",
    "        return word.lower()\n",
    "    \n",
    "    processed = []\n",
    "    for word in sentence:\n",
    "        new_word = lowercase_word(word)\n",
    "        new_word = remove_punctuation(new_word)\n",
    "        #new_word = word_stemmer(new_word)\n",
    "        new_word = word_lemmatizer(new_word)\n",
    "        new_word = excluding_word(new_word)\n",
    "        if new_word is not None:\n",
    "            processed.append(new_word)\n",
    "    return processed"
   ]
  },
  {
   "cell_type": "code",
   "execution_count": 5,
   "metadata": {
    "ExecuteTime": {
     "end_time": "2020-04-05T10:09:19.060785Z",
     "start_time": "2020-04-05T10:09:17.843016Z"
    }
   },
   "outputs": [
    {
     "name": "stdout",
     "output_type": "stream",
     "text": [
      "['hello', 'read', 'comic']\n"
     ]
    }
   ],
   "source": [
    "print(preprocess([\"Hello\", \"how..\", \"are\", \"you\",\"?\",\"Did\",\"you..\",\"read\",\"comics?\"]))"
   ]
  },
  {
   "cell_type": "code",
   "execution_count": 6,
   "metadata": {
    "ExecuteTime": {
     "end_time": "2020-04-05T10:09:19.725109Z",
     "start_time": "2020-04-05T10:09:19.061785Z"
    }
   },
   "outputs": [],
   "source": [
    "# Create Field, apply space tokenizer and data pre-processing\n",
    "TEXT = data.Field(tokenize=\"spacy\", include_lengths=True, preprocessing=preprocess)\n",
    "LABEL = data.LabelField(dtype=torch.float)"
   ]
  },
  {
   "cell_type": "code",
   "execution_count": 7,
   "metadata": {
    "ExecuteTime": {
     "end_time": "2020-04-05T10:09:19.730098Z",
     "start_time": "2020-04-05T10:09:19.727135Z"
    }
   },
   "outputs": [],
   "source": [
    "# Create fields based on the data table\n",
    "fields = [(None,None),(\"label\", LABEL),(\"text\",TEXT)]"
   ]
  },
  {
   "cell_type": "code",
   "execution_count": 8,
   "metadata": {
    "ExecuteTime": {
     "end_time": "2020-04-05T10:10:29.709030Z",
     "start_time": "2020-04-05T10:09:19.731095Z"
    }
   },
   "outputs": [],
   "source": [
    "# Create Tabular dataset\n",
    "dataset = data.TabularDataset(path=DATA_DIR,format=\"tsv\", fields = fields, skip_header=True)"
   ]
  },
  {
   "cell_type": "code",
   "execution_count": 9,
   "metadata": {
    "ExecuteTime": {
     "end_time": "2020-04-05T10:10:29.738874Z",
     "start_time": "2020-04-05T10:10:29.709920Z"
    }
   },
   "outputs": [
    {
     "name": "stdout",
     "output_type": "stream",
     "text": [
      "Number of training samples: 22500\n",
      "Number of validating samples: 2500\n"
     ]
    }
   ],
   "source": [
    "# Split dataset into training set and validating set\n",
    "trainset, valset = dataset.split(split_ratio=0.9)\n",
    "print(f\"Number of training samples: {len(trainset)}\")\n",
    "print(f\"Number of validating samples: {len(valset)}\")"
   ]
  },
  {
   "cell_type": "code",
   "execution_count": 10,
   "metadata": {
    "ExecuteTime": {
     "end_time": "2020-04-05T10:10:29.742833Z",
     "start_time": "2020-04-05T10:10:29.739841Z"
    }
   },
   "outputs": [],
   "source": [
    "# Check if data have been read properly\n",
    "#print(vars(trainset.examples[0]))"
   ]
  },
  {
   "cell_type": "code",
   "execution_count": 11,
   "metadata": {
    "ExecuteTime": {
     "end_time": "2020-04-05T10:10:30.724346Z",
     "start_time": "2020-04-05T10:10:29.743829Z"
    }
   },
   "outputs": [],
   "source": [
    "# Build the vocabulary on the training set, using pre-trained embedding layer (word2vector)\n",
    "MAX_VOCAB_SIZE = 30000\n",
    "TEXT.build_vocab(trainset,\n",
    "                 max_size = MAX_VOCAB_SIZE,\n",
    "                 vectors = \"glove.6B.100d\",\n",
    "                 unk_init = torch.Tensor.normal_)\n",
    "\n",
    "LABEL.build_vocab(trainset)"
   ]
  },
  {
   "cell_type": "code",
   "execution_count": 12,
   "metadata": {
    "ExecuteTime": {
     "end_time": "2020-04-05T10:10:30.728338Z",
     "start_time": "2020-04-05T10:10:30.725345Z"
    }
   },
   "outputs": [
    {
     "name": "stdout",
     "output_type": "stream",
     "text": [
      "Unique tokens in TEXT vocabulary: 30002\n",
      "Unique tokens in LABEL vocabulary: 2\n"
     ]
    }
   ],
   "source": [
    "# The vocabulary automatically add <pad> and <unk> tokens so that the size increases by 2\n",
    "print(f\"Unique tokens in TEXT vocabulary: {len(TEXT.vocab)}\")\n",
    "print(f\"Unique tokens in LABEL vocabulary: {len(LABEL.vocab)}\")"
   ]
  },
  {
   "cell_type": "code",
   "execution_count": 13,
   "metadata": {
    "ExecuteTime": {
     "end_time": "2020-04-05T10:10:30.752304Z",
     "start_time": "2020-04-05T10:10:30.729340Z"
    }
   },
   "outputs": [
    {
     "name": "stdout",
     "output_type": "stream",
     "text": [
      "[('movie', 45636), ('wa', 45035), ('film', 41442), ('nt', 29890), ('one', 24713), ('like', 18536), ('ha', 15572), ('time', 13940), ('good', 13599), ('character', 12550)]\n"
     ]
    }
   ],
   "source": [
    "# Show 10 most common words on the training vocabulary\n",
    "print(TEXT.vocab.freqs.most_common(10))"
   ]
  },
  {
   "cell_type": "code",
   "execution_count": 14,
   "metadata": {
    "ExecuteTime": {
     "end_time": "2020-04-05T10:10:30.758271Z",
     "start_time": "2020-04-05T10:10:30.753271Z"
    }
   },
   "outputs": [],
   "source": [
    "BATCH_SIZE = 64\n",
    "# Load dataset into iterator, sort the data by the length of words (required for packed sequence in the model)\n",
    "train_iter, valid_iter = data.BucketIterator.splits(\n",
    "    (trainset, valset), \n",
    "    sort_within_batch = True,\n",
    "    sort_key=lambda x: len(x.text),\n",
    "    batch_size = BATCH_SIZE,\n",
    "    device = device)"
   ]
  },
  {
   "attachments": {
    "architecture.png": {
     "image/png": "[encoded data removed]"
    }
   },
   "cell_type": "markdown",
   "metadata": {
    "ExecuteTime": {
     "end_time": "2020-04-04T17:16:44.229897Z",
     "start_time": "2020-04-04T17:16:44.217928Z"
    }
   },
   "source": [
    "![architecture.png](attachment:architecture.png)"
   ]
  },
  {
   "cell_type": "code",
   "execution_count": 15,
   "metadata": {
    "ExecuteTime": {
     "end_time": "2020-04-05T10:10:30.768272Z",
     "start_time": "2020-04-05T10:10:30.759255Z"
    }
   },
   "outputs": [],
   "source": [
    "class RNN(nn.Module):\n",
    "    def __init__(self, vocab_size, embed_dim, hidden_dim, output_dim ,\n",
    "                 n_layers, bidirectional, dropout, pad_idx):\n",
    "        super(RNN, self).__init__()\n",
    "        self.embedding = nn.Embedding(vocab_size, embed_dim, padding_idx=pad_idx)\n",
    "        self.lstm = nn.LSTM(embed_dim,\n",
    "                            hidden_dim,\n",
    "                            num_layers=n_layers,\n",
    "                            bidirectional = bidirectional,\n",
    "                            dropout = dropout)\n",
    "        self.fc = nn.Linear(hidden_dim*2, output_dim)\n",
    "        self.dropout = nn.Dropout(dropout)\n",
    "        #self.activation = nn.Sigmoid()\n",
    "    def forward(self, text, text_lengths):\n",
    "        embedded = self.dropout(self.embedding(text))\n",
    "        #Pack padded sequence for add padding to texts that dont have enoungh length\n",
    "        packed_embedded = nn.utils.rnn.pack_padded_sequence(embedded, text_lengths)\n",
    "        #LSTM return output, hidden state and cell state\n",
    "        packed_output ,(hidden, cell) = self.lstm(packed_embedded)\n",
    "        # Because we use bidirectional so that we have to concatonate two hidden layers \n",
    "        #(the last layer in both foward and backward RNN)\n",
    "        hidden = self.dropout(\n",
    "            torch.cat((hidden[-2, :, :], hidden[-1, :, :]), dim=1))\n",
    "        \n",
    "        # Because we concatenate two hidden layes so the input dim for fully-connected is doubled\n",
    "        output = self.fc(hidden)\n",
    "        return output"
   ]
  },
  {
   "cell_type": "code",
   "execution_count": 16,
   "metadata": {
    "ExecuteTime": {
     "end_time": "2020-04-05T10:10:30.799148Z",
     "start_time": "2020-04-05T10:10:30.769228Z"
    },
    "scrolled": true
   },
   "outputs": [
    {
     "name": "stdout",
     "output_type": "stream",
     "text": [
      "RNN(\n",
      "  (embedding): Embedding(30002, 100, padding_idx=1)\n",
      "  (lstm): LSTM(100, 100, num_layers=2, dropout=0.5, bidirectional=True)\n",
      "  (fc): Linear(in_features=200, out_features=1, bias=True)\n",
      "  (dropout): Dropout(p=0.5, inplace=False)\n",
      ")\n"
     ]
    }
   ],
   "source": [
    "VOCAB_SIZE = len(TEXT.vocab)\n",
    "EMBED_DIM = 100\n",
    "HIDDEN_DIM = 100\n",
    "OUTPUT_DIM = 1\n",
    "N_LAYERS = 2\n",
    "BIDIRECTIONAL = True\n",
    "DROPOUT = 0.5\n",
    "# Get the <pad> id for embedding layer\n",
    "PAD_IDX = TEXT.vocab.stoi[TEXT.pad_token] \n",
    "\n",
    "model = RNN(VOCAB_SIZE, EMBED_DIM, HIDDEN_DIM, OUTPUT_DIM, N_LAYERS, BIDIRECTIONAL, DROPOUT, PAD_IDX)\n",
    "print(model)"
   ]
  },
  {
   "cell_type": "code",
   "execution_count": 17,
   "metadata": {
    "ExecuteTime": {
     "end_time": "2020-04-05T10:10:30.803171Z",
     "start_time": "2020-04-05T10:10:30.800145Z"
    }
   },
   "outputs": [
    {
     "name": "stdout",
     "output_type": "stream",
     "text": [
      "The model has 3,403,601 trainable parameters\n"
     ]
    }
   ],
   "source": [
    "def count_parameters(model):\n",
    "    return sum(p.numel() for p in model.parameters() if p.requires_grad)\n",
    "\n",
    "print(f'The model has {count_parameters(model):,} trainable parameters')"
   ]
  },
  {
   "cell_type": "code",
   "execution_count": 18,
   "metadata": {
    "ExecuteTime": {
     "end_time": "2020-04-05T10:10:30.813111Z",
     "start_time": "2020-04-05T10:10:30.804135Z"
    }
   },
   "outputs": [],
   "source": [
    "# Load pretrained embedding for the vocabulary\n",
    "pretrained_embeddings = TEXT.vocab.vectors\n",
    "model.embedding.weight.data.copy_(pretrained_embeddings)\n",
    "\n",
    "# Set the <pad> and <unk> token to zero values (because we dont need these token for training)\n",
    "UNK_IDX = TEXT.vocab.stoi[TEXT.unk_token]\n",
    "model.embedding.weight.data[UNK_IDX] = torch.zeros(EMBED_DIM)\n",
    "model.embedding.weight.data[PAD_IDX] = torch.zeros(EMBED_DIM)"
   ]
  },
  {
   "cell_type": "code",
   "execution_count": 19,
   "metadata": {
    "ExecuteTime": {
     "end_time": "2020-04-05T10:10:32.743303Z",
     "start_time": "2020-04-05T10:10:30.814108Z"
    }
   },
   "outputs": [],
   "source": [
    "optimizer = torch.optim.Adam(model.parameters(), lr = 0.005, weight_decay = 0.0005)\n",
    "criterion = nn.BCEWithLogitsLoss().to(device)\n",
    "model = model.to(device)"
   ]
  },
  {
   "cell_type": "code",
   "execution_count": 20,
   "metadata": {
    "ExecuteTime": {
     "end_time": "2020-04-05T10:10:32.752268Z",
     "start_time": "2020-04-05T10:10:32.746299Z"
    }
   },
   "outputs": [],
   "source": [
    "# Return accuracy\n",
    "def binary_accuracy(predictions, y):\n",
    "    rounded_preds = torch.round(torch.sigmoid(predictions))\n",
    "    correct = (rounded_preds==y).float().sum()\n",
    "    acc = correct/len(predictions)\n",
    "    return acc"
   ]
  },
  {
   "cell_type": "code",
   "execution_count": 21,
   "metadata": {
    "ExecuteTime": {
     "end_time": "2020-04-05T10:10:32.764258Z",
     "start_time": "2020-04-05T10:10:32.753253Z"
    }
   },
   "outputs": [],
   "source": [
    "from tqdm import tqdm\n",
    "def train_step(model, train_iter, optimizer, criterion):\n",
    "    total_loss = 0\n",
    "    total_acc = 0\n",
    "    model.train()\n",
    "    for batch in tqdm(train_iter):\n",
    "        optimizer.zero_grad()\n",
    "        text, text_lengths = batch.text\n",
    "        predictions = model(text, text_lengths).squeeze()\n",
    "        loss= criterion(predictions, batch.label)\n",
    "        acc = binary_accuracy(predictions, batch.label)\n",
    "        loss.backward()\n",
    "        optimizer.step()\n",
    "        total_loss += loss.item()\n",
    "        total_acc += acc.item()\n",
    "    return total_loss / len(train_iter), total_acc/ len(train_iter)"
   ]
  },
  {
   "cell_type": "code",
   "execution_count": 22,
   "metadata": {
    "ExecuteTime": {
     "end_time": "2020-04-05T10:10:32.773228Z",
     "start_time": "2020-04-05T10:10:32.766247Z"
    }
   },
   "outputs": [],
   "source": [
    "def val_step(model, iterator, criterion):\n",
    "    epoch_loss = 0\n",
    "    epoch_acc = 0\n",
    "    model.eval()\n",
    "    with torch.no_grad():\n",
    "    \n",
    "        for batch in iterator:\n",
    "            text, text_lengths = batch.text\n",
    "            predictions = model(text, text_lengths).squeeze()\n",
    "            loss = criterion(predictions, batch.label)\n",
    "            \n",
    "            acc = binary_accuracy(predictions, batch.label)\n",
    "\n",
    "            epoch_loss += loss.item()\n",
    "            epoch_acc += acc.item()\n",
    "        \n",
    "    return epoch_loss / len(iterator), epoch_acc / len(iterator)"
   ]
  },
  {
   "cell_type": "code",
   "execution_count": 23,
   "metadata": {
    "ExecuteTime": {
     "end_time": "2020-04-05T10:10:32.784194Z",
     "start_time": "2020-04-05T10:10:32.774198Z"
    }
   },
   "outputs": [],
   "source": [
    "import time\n",
    "\n",
    "def epoch_time(start_time, end_time):\n",
    "    elapsed_time = end_time - start_time\n",
    "    elapsed_mins = int(elapsed_time / 60)\n",
    "    elapsed_secs = int(elapsed_time - (elapsed_mins * 60))\n",
    "    return elapsed_mins, elapsed_secs"
   ]
  },
  {
   "cell_type": "code",
   "execution_count": 24,
   "metadata": {
    "ExecuteTime": {
     "end_time": "2020-04-05T10:10:32.793147Z",
     "start_time": "2020-04-05T10:10:32.785168Z"
    }
   },
   "outputs": [],
   "source": [
    "def train(model, optimizer, criterion, train_iter, val_iter):\n",
    "    EPOCHS = 5\n",
    "    best_valid_loss = 100\n",
    "    print(\"Start training...\")\n",
    "    for epoch in range(EPOCHS):\n",
    "        start_time = time.time()\n",
    "        train_loss, train_acc = train_step(model,train_iter,optimizer, criterion)\n",
    "        val_loss, val_acc = val_step(model, val_iter,  criterion)\n",
    "        end_time = time.time()\n",
    "        epoch_mins, epoch_secs = epoch_time(start_time, end_time)\n",
    "        \n",
    "        if val_loss < best_valid_loss:\n",
    "            best_valid_loss = val_loss\n",
    "            torch.save(model.state_dict(), 'model/model.pt')\n",
    "            print(\"Model saved!\")\n",
    "        print(f'Epoch: {epoch+1:02} | Epoch Time: {epoch_mins}m {epoch_secs}s')\n",
    "        print(f'\\tTrain Loss: {train_loss:.3f} | Train Acc: {train_acc*100:.2f}%')\n",
    "        print(f'\\t Val. Loss: {val_loss:.3f} |  Val. Acc: {val_acc*100:.2f}%')\n",
    "    print(\"Training completed.\")\n",
    "    return model"
   ]
  },
  {
   "cell_type": "code",
   "execution_count": 25,
   "metadata": {
    "ExecuteTime": {
     "end_time": "2020-04-05T10:12:39.681008Z",
     "start_time": "2020-04-05T10:10:32.794144Z"
    },
    "scrolled": false
   },
   "outputs": [
    {
     "name": "stderr",
     "output_type": "stream",
     "text": [
      "\r",
      "  0%|                                                                                          | 0/352 [00:00<?, ?it/s]"
     ]
    },
    {
     "name": "stdout",
     "output_type": "stream",
     "text": [
      "Start training...\n"
     ]
    },
    {
     "name": "stderr",
     "output_type": "stream",
     "text": [
      "100%|████████████████████████████████████████████████████████████████████████████████| 352/352 [00:12<00:00, 28.11it/s]\n",
      "  1%|▉                                                                                 | 4/352 [00:00<00:10, 33.42it/s]"
     ]
    },
    {
     "name": "stdout",
     "output_type": "stream",
     "text": [
      "Model saved!\n",
      "Epoch: 01 | Epoch Time: 0m 12s\n",
      "\tTrain Loss: 0.442 | Train Acc: 79.37%\n",
      "\t Val. Loss: 0.324 |  Val. Acc: 86.84%\n"
     ]
    },
    {
     "name": "stderr",
     "output_type": "stream",
     "text": [
      "100%|████████████████████████████████████████████████████████████████████████████████| 352/352 [00:12<00:00, 28.71it/s]\n",
      "  1%|▍                                                                                 | 2/352 [00:00<00:23, 14.85it/s]"
     ]
    },
    {
     "name": "stdout",
     "output_type": "stream",
     "text": [
      "Model saved!\n",
      "Epoch: 02 | Epoch Time: 0m 12s\n",
      "\tTrain Loss: 0.238 | Train Acc: 90.78%\n",
      "\t Val. Loss: 0.263 |  Val. Acc: 90.00%\n"
     ]
    },
    {
     "name": "stderr",
     "output_type": "stream",
     "text": [
      "100%|████████████████████████████████████████████████████████████████████████████████| 352/352 [00:12<00:00, 28.85it/s]\n",
      "  1%|▋                                                                                 | 3/352 [00:00<00:18, 18.92it/s]"
     ]
    },
    {
     "name": "stdout",
     "output_type": "stream",
     "text": [
      "Epoch: 03 | Epoch Time: 0m 12s\n",
      "\tTrain Loss: 0.152 | Train Acc: 94.46%\n",
      "\t Val. Loss: 0.320 |  Val. Acc: 89.80%\n"
     ]
    },
    {
     "name": "stderr",
     "output_type": "stream",
     "text": [
      "100%|████████████████████████████████████████████████████████████████████████████████| 352/352 [00:12<00:00, 28.79it/s]\n",
      "  1%|▉                                                                                 | 4/352 [00:00<00:13, 25.07it/s]"
     ]
    },
    {
     "name": "stdout",
     "output_type": "stream",
     "text": [
      "Epoch: 04 | Epoch Time: 0m 12s\n",
      "\tTrain Loss: 0.099 | Train Acc: 96.63%\n",
      "\t Val. Loss: 0.381 |  Val. Acc: 89.41%\n"
     ]
    },
    {
     "name": "stderr",
     "output_type": "stream",
     "text": [
      "100%|████████████████████████████████████████████████████████████████████████████████| 352/352 [00:12<00:00, 28.65it/s]\n",
      "  1%|▉                                                                                 | 4/352 [00:00<00:09, 35.19it/s]"
     ]
    },
    {
     "name": "stdout",
     "output_type": "stream",
     "text": [
      "Epoch: 05 | Epoch Time: 0m 12s\n",
      "\tTrain Loss: 0.068 | Train Acc: 97.65%\n",
      "\t Val. Loss: 0.439 |  Val. Acc: 89.30%\n"
     ]
    },
    {
     "name": "stderr",
     "output_type": "stream",
     "text": [
      "100%|████████████████████████████████████████████████████████████████████████████████| 352/352 [00:12<00:00, 28.75it/s]\n",
      "  1%|▍                                                                                 | 2/352 [00:00<00:19, 17.59it/s]"
     ]
    },
    {
     "name": "stdout",
     "output_type": "stream",
     "text": [
      "Epoch: 06 | Epoch Time: 0m 12s\n",
      "\tTrain Loss: 0.047 | Train Acc: 98.43%\n",
      "\t Val. Loss: 0.483 |  Val. Acc: 89.02%\n"
     ]
    },
    {
     "name": "stderr",
     "output_type": "stream",
     "text": [
      "100%|████████████████████████████████████████████████████████████████████████████████| 352/352 [00:12<00:00, 28.71it/s]\n",
      "  0%|                                                                                          | 0/352 [00:00<?, ?it/s]"
     ]
    },
    {
     "name": "stdout",
     "output_type": "stream",
     "text": [
      "Epoch: 07 | Epoch Time: 0m 12s\n",
      "\tTrain Loss: 0.042 | Train Acc: 98.69%\n",
      "\t Val. Loss: 0.533 |  Val. Acc: 89.06%\n"
     ]
    },
    {
     "name": "stderr",
     "output_type": "stream",
     "text": [
      "100%|████████████████████████████████████████████████████████████████████████████████| 352/352 [00:12<00:00, 28.72it/s]\n",
      "  1%|▍                                                                                 | 2/352 [00:00<00:18, 18.57it/s]"
     ]
    },
    {
     "name": "stdout",
     "output_type": "stream",
     "text": [
      "Epoch: 08 | Epoch Time: 0m 12s\n",
      "\tTrain Loss: 0.029 | Train Acc: 99.05%\n",
      "\t Val. Loss: 0.529 |  Val. Acc: 88.32%\n"
     ]
    },
    {
     "name": "stderr",
     "output_type": "stream",
     "text": [
      "100%|████████████████████████████████████████████████████████████████████████████████| 352/352 [00:12<00:00, 28.81it/s]\n",
      "  1%|▍                                                                                 | 2/352 [00:00<00:17, 19.47it/s]"
     ]
    },
    {
     "name": "stdout",
     "output_type": "stream",
     "text": [
      "Epoch: 09 | Epoch Time: 0m 12s\n",
      "\tTrain Loss: 0.023 | Train Acc: 99.21%\n",
      "\t Val. Loss: 0.682 |  Val. Acc: 87.73%\n"
     ]
    },
    {
     "name": "stderr",
     "output_type": "stream",
     "text": [
      "100%|████████████████████████████████████████████████████████████████████████████████| 352/352 [00:12<00:00, 28.80it/s]\n"
     ]
    },
    {
     "name": "stdout",
     "output_type": "stream",
     "text": [
      "Epoch: 10 | Epoch Time: 0m 12s\n",
      "\tTrain Loss: 0.021 | Train Acc: 99.27%\n",
      "\t Val. Loss: 0.655 |  Val. Acc: 87.62%\n",
      "Training completed.\n"
     ]
    }
   ],
   "source": [
    "TRAIN_DATA = 1\n",
    "if TRAIN_DATA:\n",
    "    model = train(model,optimizer,criterion,train_iter, valid_iter)"
   ]
  },
  {
   "cell_type": "code",
   "execution_count": 54,
   "metadata": {
    "ExecuteTime": {
     "end_time": "2020-04-05T10:22:26.996840Z",
     "start_time": "2020-04-05T10:22:26.548039Z"
    }
   },
   "outputs": [],
   "source": [
    "import spacy\n",
    "nlp = spacy.load(\"en\")\n",
    "# Predict a sentence\n",
    "def predict_sentence(model, sentence):\n",
    "    model.eval()\n",
    "    # tokenize the sentence (by spacing)\n",
    "    tokenized = [tok.text for tok in nlp.tokenizer(sentence)]\n",
    "    tokenized = preprocess(tokenized)\n",
    "    \n",
    "    # Convert tokens into interger\n",
    "    indexed = [TEXT.vocab.stoi[t] for t in tokenized]\n",
    "    \n",
    "    # Compute number of words in the sentence\n",
    "    length = [len(indexed)]\n",
    "    \n",
    "    #Tensorize\n",
    "    tensor = torch.LongTensor(indexed).to(device)\n",
    "    tensor = tensor.unsqueeze(1)\n",
    "    length_tensor = torch.LongTensor(length)\n",
    "    \n",
    "    #Predict probability\n",
    "    prediction = torch.sigmoid(model(tensor, length_tensor))\n",
    "    return prediction.item()"
   ]
  },
  {
   "cell_type": "code",
   "execution_count": 36,
   "metadata": {
    "ExecuteTime": {
     "end_time": "2020-04-05T10:14:36.638819Z",
     "start_time": "2020-04-05T10:14:36.635823Z"
    },
    "scrolled": false
   },
   "outputs": [],
   "source": [
    "if not TRAIN_DATA:\n",
    "    model.load_state_dict(torch.load(\"model/model.pt\"))"
   ]
  },
  {
   "cell_type": "code",
   "execution_count": 37,
   "metadata": {
    "ExecuteTime": {
     "end_time": "2020-04-05T10:15:48.317911Z",
     "start_time": "2020-04-05T10:14:39.365237Z"
    }
   },
   "outputs": [],
   "source": [
    "TEST_DIR= \"data/testData.tsv\"\n",
    "ID = data.LabelField(sequential=False)\n",
    "test_fields = [(\"id\", ID), (\"text\", TEXT)]\n",
    "testset = data.TabularDataset(path = TEST_DIR, format = \"tsv\", fields=test_fields, skip_header= True)"
   ]
  },
  {
   "cell_type": "code",
   "execution_count": 38,
   "metadata": {
    "ExecuteTime": {
     "end_time": "2020-04-05T10:16:08.619513Z",
     "start_time": "2020-04-05T10:16:08.545647Z"
    }
   },
   "outputs": [],
   "source": [
    "ID.build_vocab(testset)"
   ]
  },
  {
   "cell_type": "code",
   "execution_count": 39,
   "metadata": {
    "ExecuteTime": {
     "end_time": "2020-04-05T10:16:10.523939Z",
     "start_time": "2020-04-05T10:16:10.451166Z"
    }
   },
   "outputs": [],
   "source": [
    "test_iter = data.BucketIterator(testset,\n",
    "                                batch_size=BATCH_SIZE,\n",
    "                                sort_key= lambda x: len(x.text),\n",
    "                                sort_within_batch=True,\n",
    "                                device = device)"
   ]
  },
  {
   "cell_type": "code",
   "execution_count": 40,
   "metadata": {
    "ExecuteTime": {
     "end_time": "2020-04-05T10:16:11.957207Z",
     "start_time": "2020-04-05T10:16:11.951194Z"
    }
   },
   "outputs": [],
   "source": [
    "def predict_test(model, test_iter):\n",
    "    model.eval()\n",
    "    result = []\n",
    "    with torch.no_grad():\n",
    "        for batch in tqdm(test_iter):\n",
    "            text, text_lengths = batch.text\n",
    "            output = model(text,text_lengths).squeeze()\n",
    "            predictions = torch.sigmoid(output)\n",
    "            labels = predictions >= 0.6\n",
    "            ids_list = batch.id.cpu().numpy()\n",
    "            labels_list = labels.cpu().numpy()\n",
    "            for i,j in zip(ids_list,labels_list):\n",
    "                result.append([ID.vocab.itos[i],j])\n",
    "    return result"
   ]
  },
  {
   "cell_type": "code",
   "execution_count": 41,
   "metadata": {
    "ExecuteTime": {
     "end_time": "2020-04-05T10:16:18.721281Z",
     "start_time": "2020-04-05T10:16:14.786805Z"
    }
   },
   "outputs": [
    {
     "name": "stderr",
     "output_type": "stream",
     "text": [
      "100%|████████████████████████████████████████████████████████████████████████████████| 391/391 [00:03<00:00, 99.61it/s]\n"
     ]
    }
   ],
   "source": [
    "result = predict_test(model, test_iter)"
   ]
  },
  {
   "cell_type": "code",
   "execution_count": 42,
   "metadata": {
    "ExecuteTime": {
     "end_time": "2020-04-05T10:16:20.771706Z",
     "start_time": "2020-04-05T10:16:20.725724Z"
    }
   },
   "outputs": [],
   "source": [
    "with open(\"data/submission.csv\", \"w\", newline=\"\") as f:\n",
    "    Writer = csv.writer(f)\n",
    "    Writer.writerow([\"id\"]+[\"sentiment\"])\n",
    "    for i in result:\n",
    "        Writer.writerow([str(i[0])] + [int(i[1])])"
   ]
  },
  {
   "cell_type": "code",
   "execution_count": 55,
   "metadata": {
    "ExecuteTime": {
     "end_time": "2020-04-05T10:22:28.975488Z",
     "start_time": "2020-04-05T10:22:28.967482Z"
    }
   },
   "outputs": [
    {
     "name": "stdout",
     "output_type": "stream",
     "text": [
      "0.48626741766929626\n"
     ]
    }
   ],
   "source": [
    "print(predict_sentence(model,\"angry\" ))"
   ]
  }
 ],
 "metadata": {
  "kernelspec": {
   "display_name": "nlp",
   "language": "python",
   "name": "nlp"
  },
  "language_info": {
   "codemirror_mode": {
    "name": "ipython",
    "version": 3
   },
   "file_extension": ".py",
   "mimetype": "text/x-python",
   "name": "python",
   "nbconvert_exporter": "python",
   "pygments_lexer": "ipython3",
   "version": "3.7.6"
  }
 },
 "nbformat": 4,
 "nbformat_minor": 2
}
